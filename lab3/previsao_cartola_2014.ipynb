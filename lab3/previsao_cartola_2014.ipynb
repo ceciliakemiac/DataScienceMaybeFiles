{
  "nbformat": 4,
  "nbformat_minor": 0,
  "metadata": {
    "colab": {
      "name": "Lab2.ipynb",
      "provenance": [],
      "collapsed_sections": []
    },
    "kernelspec": {
      "name": "python3",
      "display_name": "Python 3"
    }
  },
  "cells": [
    {
      "cell_type": "code",
      "metadata": {
        "id": "uMU8fxe6dL9T",
        "colab_type": "code",
        "colab": {}
      },
      "source": [
        "import numpy as np\n",
        "import pandas as pd\n",
        "import matplotlib.pyplot as plt\n",
        "import seaborn as sns\n",
        "\n",
        "from sklearn.preprocessing import StandardScaler\n",
        "from sklearn.preprocessing import Imputer\n",
        "from sklearn.model_selection import train_test_split\n",
        "from sklearn.linear_model import Ridge\n",
        "from sklearn.linear_model import Lasso\n",
        "from sklearn.neighbors import KNeighborsRegressor\n",
        "from sklearn.model_selection import cross_val_score\n",
        "from sklearn.metrics import mean_squared_error as mse, r2_score"
      ],
      "execution_count": 0,
      "outputs": []
    },
    {
      "cell_type": "code",
      "metadata": {
        "id": "jeW2zvw4qlrg",
        "colab_type": "code",
        "outputId": "59b2b9f7-ee29-4ced-f99b-d064aaa8d63a",
        "colab": {
          "base_uri": "https://localhost:8080/",
          "height": 35
        }
      },
      "source": [
        "df = pd.read_csv('https://raw.githubusercontent.com/ceciliakemiac/DataScienceMaybeFiles/master/data/cartola_20142.csv')\n",
        "df.shape"
      ],
      "execution_count": 0,
      "outputs": [
        {
          "output_type": "execute_result",
          "data": {
            "text/plain": [
              "(29184, 34)"
            ]
          },
          "metadata": {
            "tags": []
          },
          "execution_count": 31
        }
      ]
    },
    {
      "cell_type": "code",
      "metadata": {
        "id": "WMrBKVvTkMwr",
        "colab_type": "code",
        "outputId": "06ada41a-3aaa-413a-efd4-a4e8928f00a9",
        "colab": {
          "base_uri": "https://localhost:8080/",
          "height": 224
        }
      },
      "source": [
        "df.head()"
      ],
      "execution_count": 0,
      "outputs": [
        {
          "output_type": "execute_result",
          "data": {
            "text/html": [
              "<div>\n",
              "<style scoped>\n",
              "    .dataframe tbody tr th:only-of-type {\n",
              "        vertical-align: middle;\n",
              "    }\n",
              "\n",
              "    .dataframe tbody tr th {\n",
              "        vertical-align: top;\n",
              "    }\n",
              "\n",
              "    .dataframe thead th {\n",
              "        text-align: right;\n",
              "    }\n",
              "</style>\n",
              "<table border=\"1\" class=\"dataframe\">\n",
              "  <thead>\n",
              "    <tr style=\"text-align: right;\">\n",
              "      <th></th>\n",
              "      <th>atleta_id</th>\n",
              "      <th>rodada</th>\n",
              "      <th>clube_id</th>\n",
              "      <th>participou</th>\n",
              "      <th>posicao_id</th>\n",
              "      <th>jogos_num</th>\n",
              "      <th>pontos_num</th>\n",
              "      <th>media_num</th>\n",
              "      <th>preco_num</th>\n",
              "      <th>variacao_num</th>\n",
              "      <th>partida_id</th>\n",
              "      <th>mando</th>\n",
              "      <th>titular</th>\n",
              "      <th>substituido</th>\n",
              "      <th>tempo_jogado</th>\n",
              "      <th>nota</th>\n",
              "      <th>FS</th>\n",
              "      <th>PE</th>\n",
              "      <th>A</th>\n",
              "      <th>FT</th>\n",
              "      <th>FD</th>\n",
              "      <th>FF</th>\n",
              "      <th>G</th>\n",
              "      <th>I</th>\n",
              "      <th>PP</th>\n",
              "      <th>RB</th>\n",
              "      <th>FC</th>\n",
              "      <th>GC</th>\n",
              "      <th>CA</th>\n",
              "      <th>CV</th>\n",
              "      <th>SG</th>\n",
              "      <th>DD</th>\n",
              "      <th>DP</th>\n",
              "      <th>GS</th>\n",
              "    </tr>\n",
              "  </thead>\n",
              "  <tbody>\n",
              "    <tr>\n",
              "      <th>0</th>\n",
              "      <td>37958</td>\n",
              "      <td>1</td>\n",
              "      <td>262.0</td>\n",
              "      <td>1</td>\n",
              "      <td>1.0</td>\n",
              "      <td>1</td>\n",
              "      <td>8.0</td>\n",
              "      <td>8.0</td>\n",
              "      <td>19.69</td>\n",
              "      <td>1.69</td>\n",
              "      <td>179872.0</td>\n",
              "      <td>1</td>\n",
              "      <td>1.0</td>\n",
              "      <td>0</td>\n",
              "      <td>1.0</td>\n",
              "      <td>6.0</td>\n",
              "      <td>0</td>\n",
              "      <td>0</td>\n",
              "      <td>0</td>\n",
              "      <td>0</td>\n",
              "      <td>0</td>\n",
              "      <td>0</td>\n",
              "      <td>0</td>\n",
              "      <td>0</td>\n",
              "      <td>0</td>\n",
              "      <td>0</td>\n",
              "      <td>0</td>\n",
              "      <td>0</td>\n",
              "      <td>0</td>\n",
              "      <td>0</td>\n",
              "      <td>1</td>\n",
              "      <td>1</td>\n",
              "      <td>0</td>\n",
              "      <td>0</td>\n",
              "    </tr>\n",
              "    <tr>\n",
              "      <th>1</th>\n",
              "      <td>68873</td>\n",
              "      <td>1</td>\n",
              "      <td>262.0</td>\n",
              "      <td>0</td>\n",
              "      <td>1.0</td>\n",
              "      <td>0</td>\n",
              "      <td>0.0</td>\n",
              "      <td>0.0</td>\n",
              "      <td>4.00</td>\n",
              "      <td>0.00</td>\n",
              "      <td>179872.0</td>\n",
              "      <td>1</td>\n",
              "      <td>0.0</td>\n",
              "      <td>0</td>\n",
              "      <td>0.0</td>\n",
              "      <td>0.0</td>\n",
              "      <td>0</td>\n",
              "      <td>0</td>\n",
              "      <td>0</td>\n",
              "      <td>0</td>\n",
              "      <td>0</td>\n",
              "      <td>0</td>\n",
              "      <td>0</td>\n",
              "      <td>0</td>\n",
              "      <td>0</td>\n",
              "      <td>0</td>\n",
              "      <td>0</td>\n",
              "      <td>0</td>\n",
              "      <td>0</td>\n",
              "      <td>0</td>\n",
              "      <td>0</td>\n",
              "      <td>0</td>\n",
              "      <td>0</td>\n",
              "      <td>0</td>\n",
              "    </tr>\n",
              "    <tr>\n",
              "      <th>2</th>\n",
              "      <td>37701</td>\n",
              "      <td>1</td>\n",
              "      <td>262.0</td>\n",
              "      <td>1</td>\n",
              "      <td>2.0</td>\n",
              "      <td>1</td>\n",
              "      <td>0.4</td>\n",
              "      <td>0.4</td>\n",
              "      <td>16.97</td>\n",
              "      <td>-5.03</td>\n",
              "      <td>179872.0</td>\n",
              "      <td>1</td>\n",
              "      <td>1.0</td>\n",
              "      <td>0</td>\n",
              "      <td>1.0</td>\n",
              "      <td>6.0</td>\n",
              "      <td>0</td>\n",
              "      <td>7</td>\n",
              "      <td>0</td>\n",
              "      <td>0</td>\n",
              "      <td>0</td>\n",
              "      <td>0</td>\n",
              "      <td>0</td>\n",
              "      <td>0</td>\n",
              "      <td>0</td>\n",
              "      <td>0</td>\n",
              "      <td>1</td>\n",
              "      <td>0</td>\n",
              "      <td>1</td>\n",
              "      <td>0</td>\n",
              "      <td>1</td>\n",
              "      <td>0</td>\n",
              "      <td>0</td>\n",
              "      <td>0</td>\n",
              "    </tr>\n",
              "    <tr>\n",
              "      <th>3</th>\n",
              "      <td>71602</td>\n",
              "      <td>1</td>\n",
              "      <td>262.0</td>\n",
              "      <td>0</td>\n",
              "      <td>2.0</td>\n",
              "      <td>0</td>\n",
              "      <td>0.0</td>\n",
              "      <td>0.0</td>\n",
              "      <td>3.00</td>\n",
              "      <td>0.00</td>\n",
              "      <td>179872.0</td>\n",
              "      <td>1</td>\n",
              "      <td>0.0</td>\n",
              "      <td>0</td>\n",
              "      <td>0.0</td>\n",
              "      <td>0.0</td>\n",
              "      <td>0</td>\n",
              "      <td>0</td>\n",
              "      <td>0</td>\n",
              "      <td>0</td>\n",
              "      <td>0</td>\n",
              "      <td>0</td>\n",
              "      <td>0</td>\n",
              "      <td>0</td>\n",
              "      <td>0</td>\n",
              "      <td>0</td>\n",
              "      <td>0</td>\n",
              "      <td>0</td>\n",
              "      <td>0</td>\n",
              "      <td>0</td>\n",
              "      <td>0</td>\n",
              "      <td>0</td>\n",
              "      <td>0</td>\n",
              "      <td>0</td>\n",
              "    </tr>\n",
              "    <tr>\n",
              "      <th>4</th>\n",
              "      <td>37684</td>\n",
              "      <td>1</td>\n",
              "      <td>262.0</td>\n",
              "      <td>1</td>\n",
              "      <td>3.0</td>\n",
              "      <td>1</td>\n",
              "      <td>9.1</td>\n",
              "      <td>9.1</td>\n",
              "      <td>10.68</td>\n",
              "      <td>5.68</td>\n",
              "      <td>179872.0</td>\n",
              "      <td>1</td>\n",
              "      <td>1.0</td>\n",
              "      <td>0</td>\n",
              "      <td>1.0</td>\n",
              "      <td>6.0</td>\n",
              "      <td>2</td>\n",
              "      <td>1</td>\n",
              "      <td>0</td>\n",
              "      <td>0</td>\n",
              "      <td>1</td>\n",
              "      <td>0</td>\n",
              "      <td>0</td>\n",
              "      <td>1</td>\n",
              "      <td>0</td>\n",
              "      <td>2</td>\n",
              "      <td>1</td>\n",
              "      <td>0</td>\n",
              "      <td>0</td>\n",
              "      <td>0</td>\n",
              "      <td>1</td>\n",
              "      <td>0</td>\n",
              "      <td>0</td>\n",
              "      <td>0</td>\n",
              "    </tr>\n",
              "  </tbody>\n",
              "</table>\n",
              "</div>"
            ],
            "text/plain": [
              "   atleta_id  rodada  clube_id  participou  posicao_id  ...  CV  SG  DD  DP  GS\n",
              "0      37958       1     262.0           1         1.0  ...   0   1   1   0   0\n",
              "1      68873       1     262.0           0         1.0  ...   0   0   0   0   0\n",
              "2      37701       1     262.0           1         2.0  ...   0   1   0   0   0\n",
              "3      71602       1     262.0           0         2.0  ...   0   0   0   0   0\n",
              "4      37684       1     262.0           1         3.0  ...   0   1   0   0   0\n",
              "\n",
              "[5 rows x 34 columns]"
            ]
          },
          "metadata": {
            "tags": []
          },
          "execution_count": 32
        }
      ]
    },
    {
      "cell_type": "markdown",
      "metadata": {
        "id": "XFChXyLf174m",
        "colab_type": "text"
      },
      "source": [
        "# Parte 1"
      ]
    },
    {
      "cell_type": "markdown",
      "metadata": {
        "id": "CPYy9FXPTbmo",
        "colab_type": "text"
      },
      "source": [
        "## Análise Exploratória e Pre-processamento dos dados"
      ]
    },
    {
      "cell_type": "markdown",
      "metadata": {
        "id": "ykEZr2I_BvnE",
        "colab_type": "text"
      },
      "source": [
        "Vamos ver a correlação entre as variáveis"
      ]
    },
    {
      "cell_type": "code",
      "metadata": {
        "id": "n-NOb-V9-j_h",
        "colab_type": "code",
        "outputId": "359e5238-8d1c-42ba-a84c-d95512c8eecb",
        "colab": {
          "base_uri": "https://localhost:8080/",
          "height": 1000
        }
      },
      "source": [
        "correlation = df.corr(method='pearson')\n",
        "mask = np.zeros_like(correlation)\n",
        "mask[np.triu_indices_from(mask)] = True\n",
        "\n",
        "fig, ax = plt.subplots()\n",
        "ax.figure.set_size_inches(16, 18)\n",
        "sns.heatmap(correlation, ax=ax, annot=True, mask=mask, fmt='.2f', cbar=False, square=True, cmap=plt.cm.Blues, center=0)"
      ],
      "execution_count": 0,
      "outputs": [
        {
          "output_type": "execute_result",
          "data": {
            "text/plain": [
              "<matplotlib.axes._subplots.AxesSubplot at 0x7f9ff4f47f60>"
            ]
          },
          "metadata": {
            "tags": []
          },
          "execution_count": 33
        },
        {
          "output_type": "display_data",
          "data": {
            "image/png": "[encoded data removed]",
            "text/plain": [
              "<Figure size 1152x1296 with 1 Axes>"
            ]
          },
          "metadata": {
            "tags": []
          }
        }
      ]
    },
    {
      "cell_type": "markdown",
      "metadata": {
        "id": "9wbcvOHykf33",
        "colab_type": "text"
      },
      "source": [
        "Vemos que as variáveis com maior correlação entre si são partida_id e clube_id, posicao_id e clube_id, tempo_jogado e participou, tempo_jogado e titular. As que possuem maior correlação em relação a nota são nota e participou, nota e titular e nota e tempo_jogado."
      ]
    },
    {
      "cell_type": "markdown",
      "metadata": {
        "id": "A9d9kQixfpPh",
        "colab_type": "text"
      },
      "source": [
        "Agora, para todos os atletas que não participaram na rodada, iremos colocar a sua nota como 0, pois não faz sentido ele receber uma nota se não tiver jogado."
      ]
    },
    {
      "cell_type": "code",
      "metadata": {
        "id": "4exuro4vgKXX",
        "colab_type": "code",
        "colab": {}
      },
      "source": [
        "for index, row in df.iterrows():\n",
        "  if row['participou'] == 0:\n",
        "    df.loc[index, 'nota'] = 0.0"
      ],
      "execution_count": 0,
      "outputs": []
    },
    {
      "cell_type": "markdown",
      "metadata": {
        "id": "twnuM4XiI38a",
        "colab_type": "text"
      },
      "source": [
        "Como a variável dependente é nota, vamos separá-la das outras para podermos prevê-la melhor"
      ]
    },
    {
      "cell_type": "code",
      "metadata": {
        "id": "wqbL2YXpI03T",
        "colab_type": "code",
        "outputId": "5615f703-6fd7-4b65-abde-df60a5ad0218",
        "colab": {
          "base_uri": "https://localhost:8080/",
          "height": 35
        }
      },
      "source": [
        "notas = df.nota\n",
        "notas.shape"
      ],
      "execution_count": 0,
      "outputs": [
        {
          "output_type": "execute_result",
          "data": {
            "text/plain": [
              "(29184,)"
            ]
          },
          "metadata": {
            "tags": []
          },
          "execution_count": 35
        }
      ]
    },
    {
      "cell_type": "code",
      "metadata": {
        "id": "zthzU3-LdXA5",
        "colab_type": "code",
        "colab": {}
      },
      "source": [
        "df.drop('nota', axis = 1, inplace = True)"
      ],
      "execution_count": 0,
      "outputs": []
    },
    {
      "cell_type": "code",
      "metadata": {
        "id": "BHPZNNGyb7MQ",
        "colab_type": "code",
        "outputId": "3aa634fb-96f8-46db-901f-8149ee3d332a",
        "colab": {
          "base_uri": "https://localhost:8080/",
          "height": 35
        }
      },
      "source": [
        "df.shape"
      ],
      "execution_count": 0,
      "outputs": [
        {
          "output_type": "execute_result",
          "data": {
            "text/plain": [
              "(29184, 33)"
            ]
          },
          "metadata": {
            "tags": []
          },
          "execution_count": 37
        }
      ]
    },
    {
      "cell_type": "markdown",
      "metadata": {
        "id": "otIly_xNuV4o",
        "colab_type": "text"
      },
      "source": [
        "Normalização dos atributos"
      ]
    },
    {
      "cell_type": "code",
      "metadata": {
        "id": "eJ1HFlJ3wOC4",
        "colab_type": "code",
        "outputId": "51548ab4-8bf5-4d37-a967-6dc747653b65",
        "colab": {
          "base_uri": "https://localhost:8080/",
          "height": 224
        }
      },
      "source": [
        "standardscaler = StandardScaler()\n",
        "standardscaler = standardscaler.fit(df)\n",
        "df_norm = standardscaler.transform(df)\n",
        "\n",
        "df_norm = pd.DataFrame(df_norm)\n",
        "df_norm.columns = df.columns\n",
        "df_norm.index = df.index\n",
        "\n",
        "# df_clean = df_s\n",
        "df_norm.head()"
      ],
      "execution_count": 0,
      "outputs": [
        {
          "output_type": "execute_result",
          "data": {
            "text/html": [
              "<div>\n",
              "<style scoped>\n",
              "    .dataframe tbody tr th:only-of-type {\n",
              "        vertical-align: middle;\n",
              "    }\n",
              "\n",
              "    .dataframe tbody tr th {\n",
              "        vertical-align: top;\n",
              "    }\n",
              "\n",
              "    .dataframe thead th {\n",
              "        text-align: right;\n",
              "    }\n",
              "</style>\n",
              "<table border=\"1\" class=\"dataframe\">\n",
              "  <thead>\n",
              "    <tr style=\"text-align: right;\">\n",
              "      <th></th>\n",
              "      <th>atleta_id</th>\n",
              "      <th>rodada</th>\n",
              "      <th>clube_id</th>\n",
              "      <th>participou</th>\n",
              "      <th>posicao_id</th>\n",
              "      <th>jogos_num</th>\n",
              "      <th>pontos_num</th>\n",
              "      <th>media_num</th>\n",
              "      <th>preco_num</th>\n",
              "      <th>variacao_num</th>\n",
              "      <th>partida_id</th>\n",
              "      <th>mando</th>\n",
              "      <th>titular</th>\n",
              "      <th>substituido</th>\n",
              "      <th>tempo_jogado</th>\n",
              "      <th>FS</th>\n",
              "      <th>PE</th>\n",
              "      <th>A</th>\n",
              "      <th>FT</th>\n",
              "      <th>FD</th>\n",
              "      <th>FF</th>\n",
              "      <th>G</th>\n",
              "      <th>I</th>\n",
              "      <th>PP</th>\n",
              "      <th>RB</th>\n",
              "      <th>FC</th>\n",
              "      <th>GC</th>\n",
              "      <th>CA</th>\n",
              "      <th>CV</th>\n",
              "      <th>SG</th>\n",
              "      <th>DD</th>\n",
              "      <th>DP</th>\n",
              "      <th>GS</th>\n",
              "    </tr>\n",
              "  </thead>\n",
              "  <tbody>\n",
              "    <tr>\n",
              "      <th>0</th>\n",
              "      <td>-1.847292</td>\n",
              "      <td>-1.685014</td>\n",
              "      <td>0.790063</td>\n",
              "      <td>1.326445</td>\n",
              "      <td>-0.436628</td>\n",
              "      <td>-0.716585</td>\n",
              "      <td>2.536688</td>\n",
              "      <td>3.118339</td>\n",
              "      <td>2.995064</td>\n",
              "      <td>2.294245</td>\n",
              "      <td>0.914376</td>\n",
              "      <td>1.651569</td>\n",
              "      <td>1.542385</td>\n",
              "      <td>-0.407897</td>\n",
              "      <td>1.637237</td>\n",
              "      <td>-0.406746</td>\n",
              "      <td>-0.472801</td>\n",
              "      <td>-0.131362</td>\n",
              "      <td>-0.07427</td>\n",
              "      <td>-0.246694</td>\n",
              "      <td>-0.280662</td>\n",
              "      <td>-0.150205</td>\n",
              "      <td>-0.175954</td>\n",
              "      <td>-0.024843</td>\n",
              "      <td>-0.373349</td>\n",
              "      <td>-0.425185</td>\n",
              "      <td>-0.028084</td>\n",
              "      <td>-0.236269</td>\n",
              "      <td>-0.046881</td>\n",
              "      <td>4.686305</td>\n",
              "      <td>3.313047</td>\n",
              "      <td>-0.020282</td>\n",
              "      <td>-0.113455</td>\n",
              "    </tr>\n",
              "    <tr>\n",
              "      <th>1</th>\n",
              "      <td>0.008833</td>\n",
              "      <td>-1.685014</td>\n",
              "      <td>0.790063</td>\n",
              "      <td>-0.753895</td>\n",
              "      <td>-0.436628</td>\n",
              "      <td>-0.850190</td>\n",
              "      <td>-0.352931</td>\n",
              "      <td>-0.772583</td>\n",
              "      <td>-0.340084</td>\n",
              "      <td>0.000066</td>\n",
              "      <td>0.914376</td>\n",
              "      <td>1.651569</td>\n",
              "      <td>-0.648347</td>\n",
              "      <td>-0.407897</td>\n",
              "      <td>-0.688091</td>\n",
              "      <td>-0.406746</td>\n",
              "      <td>-0.472801</td>\n",
              "      <td>-0.131362</td>\n",
              "      <td>-0.07427</td>\n",
              "      <td>-0.246694</td>\n",
              "      <td>-0.280662</td>\n",
              "      <td>-0.150205</td>\n",
              "      <td>-0.175954</td>\n",
              "      <td>-0.024843</td>\n",
              "      <td>-0.373349</td>\n",
              "      <td>-0.425185</td>\n",
              "      <td>-0.028084</td>\n",
              "      <td>-0.236269</td>\n",
              "      <td>-0.046881</td>\n",
              "      <td>-0.213037</td>\n",
              "      <td>-0.117551</td>\n",
              "      <td>-0.020282</td>\n",
              "      <td>-0.113455</td>\n",
              "    </tr>\n",
              "    <tr>\n",
              "      <th>2</th>\n",
              "      <td>-1.862722</td>\n",
              "      <td>-1.685014</td>\n",
              "      <td>0.790063</td>\n",
              "      <td>1.326445</td>\n",
              "      <td>0.056162</td>\n",
              "      <td>-0.716585</td>\n",
              "      <td>-0.208450</td>\n",
              "      <td>-0.578037</td>\n",
              "      <td>2.416886</td>\n",
              "      <td>-6.828172</td>\n",
              "      <td>0.914376</td>\n",
              "      <td>1.651569</td>\n",
              "      <td>1.542385</td>\n",
              "      <td>-0.407897</td>\n",
              "      <td>1.637237</td>\n",
              "      <td>-0.406746</td>\n",
              "      <td>3.873880</td>\n",
              "      <td>-0.131362</td>\n",
              "      <td>-0.07427</td>\n",
              "      <td>-0.246694</td>\n",
              "      <td>-0.280662</td>\n",
              "      <td>-0.150205</td>\n",
              "      <td>-0.175954</td>\n",
              "      <td>-0.024843</td>\n",
              "      <td>-0.373349</td>\n",
              "      <td>0.645076</td>\n",
              "      <td>-0.028084</td>\n",
              "      <td>4.220931</td>\n",
              "      <td>-0.046881</td>\n",
              "      <td>4.686305</td>\n",
              "      <td>-0.117551</td>\n",
              "      <td>-0.020282</td>\n",
              "      <td>-0.113455</td>\n",
              "    </tr>\n",
              "    <tr>\n",
              "      <th>3</th>\n",
              "      <td>0.172681</td>\n",
              "      <td>-1.685014</td>\n",
              "      <td>0.790063</td>\n",
              "      <td>-0.753895</td>\n",
              "      <td>0.056162</td>\n",
              "      <td>-0.850190</td>\n",
              "      <td>-0.352931</td>\n",
              "      <td>-0.772583</td>\n",
              "      <td>-0.552649</td>\n",
              "      <td>0.000066</td>\n",
              "      <td>0.914376</td>\n",
              "      <td>1.651569</td>\n",
              "      <td>-0.648347</td>\n",
              "      <td>-0.407897</td>\n",
              "      <td>-0.688091</td>\n",
              "      <td>-0.406746</td>\n",
              "      <td>-0.472801</td>\n",
              "      <td>-0.131362</td>\n",
              "      <td>-0.07427</td>\n",
              "      <td>-0.246694</td>\n",
              "      <td>-0.280662</td>\n",
              "      <td>-0.150205</td>\n",
              "      <td>-0.175954</td>\n",
              "      <td>-0.024843</td>\n",
              "      <td>-0.373349</td>\n",
              "      <td>-0.425185</td>\n",
              "      <td>-0.028084</td>\n",
              "      <td>-0.236269</td>\n",
              "      <td>-0.046881</td>\n",
              "      <td>-0.213037</td>\n",
              "      <td>-0.117551</td>\n",
              "      <td>-0.020282</td>\n",
              "      <td>-0.113455</td>\n",
              "    </tr>\n",
              "    <tr>\n",
              "      <th>4</th>\n",
              "      <td>-1.863743</td>\n",
              "      <td>-1.685014</td>\n",
              "      <td>0.790063</td>\n",
              "      <td>1.326445</td>\n",
              "      <td>0.548952</td>\n",
              "      <td>-0.716585</td>\n",
              "      <td>2.934010</td>\n",
              "      <td>3.653341</td>\n",
              "      <td>1.079851</td>\n",
              "      <td>7.710679</td>\n",
              "      <td>0.914376</td>\n",
              "      <td>1.651569</td>\n",
              "      <td>1.542385</td>\n",
              "      <td>-0.407897</td>\n",
              "      <td>1.637237</td>\n",
              "      <td>1.742339</td>\n",
              "      <td>0.148153</td>\n",
              "      <td>-0.131362</td>\n",
              "      <td>-0.07427</td>\n",
              "      <td>2.884888</td>\n",
              "      <td>-0.280662</td>\n",
              "      <td>-0.150205</td>\n",
              "      <td>3.427593</td>\n",
              "      <td>-0.024843</td>\n",
              "      <td>2.027932</td>\n",
              "      <td>0.645076</td>\n",
              "      <td>-0.028084</td>\n",
              "      <td>-0.236269</td>\n",
              "      <td>-0.046881</td>\n",
              "      <td>4.686305</td>\n",
              "      <td>-0.117551</td>\n",
              "      <td>-0.020282</td>\n",
              "      <td>-0.113455</td>\n",
              "    </tr>\n",
              "  </tbody>\n",
              "</table>\n",
              "</div>"
            ],
            "text/plain": [
              "   atleta_id    rodada  clube_id  ...        DD        DP        GS\n",
              "0  -1.847292 -1.685014  0.790063  ...  3.313047 -0.020282 -0.113455\n",
              "1   0.008833 -1.685014  0.790063  ... -0.117551 -0.020282 -0.113455\n",
              "2  -1.862722 -1.685014  0.790063  ... -0.117551 -0.020282 -0.113455\n",
              "3   0.172681 -1.685014  0.790063  ... -0.117551 -0.020282 -0.113455\n",
              "4  -1.863743 -1.685014  0.790063  ... -0.117551 -0.020282 -0.113455\n",
              "\n",
              "[5 rows x 33 columns]"
            ]
          },
          "metadata": {
            "tags": []
          },
          "execution_count": 38
        }
      ]
    },
    {
      "cell_type": "markdown",
      "metadata": {
        "id": "FmdfZog7LqvZ",
        "colab_type": "text"
      },
      "source": [
        "# Parte 2"
      ]
    },
    {
      "cell_type": "markdown",
      "metadata": {
        "id": "eEA1wsy-v7CP",
        "colab_type": "text"
      },
      "source": [
        "Abaixo, função que retorna o rmse calculado para determinado modelo, utilizando cross validation, que utilizaremos para encontrar o melhor valor de parâmetro que precisaremos utilizar para os modelos."
      ]
    },
    {
      "cell_type": "code",
      "metadata": {
        "id": "p4zk7h5YvJdE",
        "colab_type": "code",
        "colab": {}
      },
      "source": [
        "def rmse_cv(model):\n",
        "    rmse= np.sqrt(-cross_val_score(model, df_norm, notas, scoring=\"neg_mean_squared_error\", cv = 10))\n",
        "    return(rmse)"
      ],
      "execution_count": 0,
      "outputs": []
    },
    {
      "cell_type": "markdown",
      "metadata": {
        "id": "jg9Q84Rm1w-C",
        "colab_type": "text"
      },
      "source": [
        "## Regressão Ridge com validação cruzada"
      ]
    },
    {
      "cell_type": "code",
      "metadata": {
        "id": "Y9mwiifm11gy",
        "colab_type": "code",
        "outputId": "012977f3-96d6-4e43-97b1-0d71aab4f6db",
        "colab": {
          "base_uri": "https://localhost:8080/",
          "height": 369
        }
      },
      "source": [
        "alphas = [0,1e-03,1e-02,1e-01,1,2,3,5,10,15,20,30,50]\n",
        "cv_ridge = [rmse_cv(Ridge(alpha=alpha)).mean() for alpha in alphas]\n",
        "cv_ridge = pd.Series(cv_ridge, index=alphas)\n",
        "\n",
        "plt.figure(figsize=(10, 5))\n",
        "cv_ridge.plot(title=\"Lambda vs Erro de Validação\")\n",
        "plt.xlabel(\"l2_penalty\")\n",
        "plt.ylabel(\"rmse\")\n"
      ],
      "execution_count": 0,
      "outputs": [
        {
          "output_type": "execute_result",
          "data": {
            "text/plain": [
              "Text(0, 0.5, 'rmse')"
            ]
          },
          "metadata": {
            "tags": []
          },
          "execution_count": 27
        },
        {
          "output_type": "display_data",
          "data": {
            "image/png": "[encoded data removed]",
            "text/plain": [
              "<Figure size 720x360 with 1 Axes>"
            ]
          },
          "metadata": {
            "tags": []
          }
        }
      ]
    },
    {
      "cell_type": "code",
      "metadata": {
        "id": "e5B9_I2yy3cD",
        "colab_type": "code",
        "outputId": "e69ca484-6afc-4606-b855-46bb1fa909db",
        "colab": {
          "base_uri": "https://localhost:8080/",
          "height": 161
        }
      },
      "source": [
        "best_l2_penalty=cv_ridge.argmin()\n",
        "best_rmse = cv_ridge.min()"
      ],
      "execution_count": 0,
      "outputs": [
        {
          "output_type": "stream",
          "text": [
            "/usr/local/lib/python3.6/dist-packages/ipykernel_launcher.py:1: FutureWarning: \n",
            "The current behaviour of 'Series.argmin' is deprecated, use 'idxmin'\n",
            "instead.\n",
            "The behavior of 'argmin' will be corrected to return the positional\n",
            "minimum in the future. For now, use 'series.values.argmin' or\n",
            "'np.argmin(np.array(values))' to get the position of the minimum\n",
            "row.\n",
            "  \"\"\"Entry point for launching an IPython kernel.\n"
          ],
          "name": "stderr"
        }
      ]
    },
    {
      "cell_type": "code",
      "metadata": {
        "id": "bb6PSo93zUmd",
        "colab_type": "code",
        "outputId": "a8a097f5-1155-4126-8803-cf55959a322b",
        "colab": {
          "base_uri": "https://localhost:8080/",
          "height": 35
        }
      },
      "source": [
        "print (best_l2_penalty, best_rmse)"
      ],
      "execution_count": 0,
      "outputs": [
        {
          "output_type": "stream",
          "text": [
            "15.0 0.8130271106918375\n"
          ],
          "name": "stdout"
        }
      ]
    },
    {
      "cell_type": "markdown",
      "metadata": {
        "id": "b8TfN65kFao6",
        "colab_type": "text"
      },
      "source": [
        "Para o modelo Ridge, vemos que o melhor valor do rmse foi 0.81302, aproximadamente, para lambda igual a 15."
      ]
    },
    {
      "cell_type": "markdown",
      "metadata": {
        "id": "-4Lm_nFMDkpm",
        "colab_type": "text"
      },
      "source": [
        "## Regressão Lasso com validação cruzada"
      ]
    },
    {
      "cell_type": "code",
      "metadata": {
        "id": "iBv3_gKvDoJg",
        "colab_type": "code",
        "outputId": "30549acb-8f87-4043-a253-ff6582d70fdc",
        "colab": {
          "base_uri": "https://localhost:8080/",
          "height": 369
        }
      },
      "source": [
        "alphas = [-1,-0.5,-0.1,0.01,0.1,0.5,1,5]\n",
        "cv_lasso = [rmse_cv(Lasso(alpha=alpha)).mean() for alpha in alphas]\n",
        "cv_lasso = pd.Series(cv_lasso, index=alphas)\n",
        "\n",
        "plt.figure(figsize=(10, 5))\n",
        "cv_lasso.plot(title=\"Lambda vs Erro de Validação\")\n",
        "plt.xlabel(\"l1_penalty\")\n",
        "plt.ylabel(\"rmse\")\n"
      ],
      "execution_count": 0,
      "outputs": [
        {
          "output_type": "execute_result",
          "data": {
            "text/plain": [
              "Text(0, 0.5, 'rmse')"
            ]
          },
          "metadata": {
            "tags": []
          },
          "execution_count": 34
        },
        {
          "output_type": "display_data",
          "data": {
            "image/png": "[encoded data removed]",
            "text/plain": [
              "<Figure size 720x360 with 1 Axes>"
            ]
          },
          "metadata": {
            "tags": []
          }
        }
      ]
    },
    {
      "cell_type": "code",
      "metadata": {
        "id": "X3LG1GpNH2Ow",
        "colab_type": "code",
        "outputId": "1d5228ac-bc8b-45bf-fe78-ffe6868bf209",
        "colab": {
          "base_uri": "https://localhost:8080/",
          "height": 161
        }
      },
      "source": [
        "best_l1_penalty=cv_lasso.argmin()\n",
        "best_rmse = cv_lasso.min()"
      ],
      "execution_count": 0,
      "outputs": [
        {
          "output_type": "stream",
          "text": [
            "/usr/local/lib/python3.6/dist-packages/ipykernel_launcher.py:1: FutureWarning: \n",
            "The current behaviour of 'Series.argmin' is deprecated, use 'idxmin'\n",
            "instead.\n",
            "The behavior of 'argmin' will be corrected to return the positional\n",
            "minimum in the future. For now, use 'series.values.argmin' or\n",
            "'np.argmin(np.array(values))' to get the position of the minimum\n",
            "row.\n",
            "  \"\"\"Entry point for launching an IPython kernel.\n"
          ],
          "name": "stderr"
        }
      ]
    },
    {
      "cell_type": "code",
      "metadata": {
        "id": "L0yd1p57H-mk",
        "colab_type": "code",
        "outputId": "fdc6e981-ac2d-4329-80d9-0ed51205742c",
        "colab": {
          "base_uri": "https://localhost:8080/",
          "height": 35
        }
      },
      "source": [
        "print (best_l1_penalty, best_rmse)"
      ],
      "execution_count": 0,
      "outputs": [
        {
          "output_type": "stream",
          "text": [
            "0.01 0.852859235168078\n"
          ],
          "name": "stdout"
        }
      ]
    },
    {
      "cell_type": "markdown",
      "metadata": {
        "id": "uHD8b1GVF8i1",
        "colab_type": "text"
      },
      "source": [
        "Para o modelo Lasso, o melhor valor do rmse foi 0.8528, para o lambda igual a 0.01. "
      ]
    },
    {
      "cell_type": "markdown",
      "metadata": {
        "id": "HdYKyK-SN4it",
        "colab_type": "text"
      },
      "source": [
        "## Regressão KNN com validação cruzada"
      ]
    },
    {
      "cell_type": "code",
      "metadata": {
        "id": "jbIxLTEEN851",
        "colab_type": "code",
        "outputId": "4a75a547-ea4d-46d6-daaf-32565f2b2b37",
        "colab": {
          "base_uri": "https://localhost:8080/",
          "height": 368
        }
      },
      "source": [
        "alphas = [1,2,3,5,10,15,20,30,40,50]\n",
        "cv_knn = [rmse_cv(KNeighborsRegressor(n_neighbors=alpha)).mean() for alpha in alphas]\n",
        "cv_knn = pd.Series(cv_knn, index=alphas)\n",
        "cv_knn\n",
        "\n",
        "plt.figure(figsize=(10, 5))\n",
        "cv_knn.plot(title=\"Labda vs Erro de Validação\")\n",
        "plt.xlabel(\"neighbors\")\n",
        "plt.ylabel(\"rmse\")"
      ],
      "execution_count": 0,
      "outputs": [
        {
          "output_type": "execute_result",
          "data": {
            "text/plain": [
              "Text(0, 0.5, 'rmse')"
            ]
          },
          "metadata": {
            "tags": []
          },
          "execution_count": 198
        },
        {
          "output_type": "display_data",
          "data": {
            "image/png": "[encoded data removed]",
            "text/plain": [
              "<Figure size 720x360 with 1 Axes>"
            ]
          },
          "metadata": {
            "tags": []
          }
        }
      ]
    },
    {
      "cell_type": "code",
      "metadata": {
        "id": "GFQxsjC6SpBr",
        "colab_type": "code",
        "outputId": "eb16f154-bd9f-4cef-ef88-2e6ceefdb0f9",
        "colab": {
          "base_uri": "https://localhost:8080/",
          "height": 161
        }
      },
      "source": [
        "best_neighbor=cv_knn.argmin()\n",
        "best_rmse = cv_knn.min()"
      ],
      "execution_count": 0,
      "outputs": [
        {
          "output_type": "stream",
          "text": [
            "/usr/local/lib/python3.6/dist-packages/ipykernel_launcher.py:1: FutureWarning: \n",
            "The current behaviour of 'Series.argmin' is deprecated, use 'idxmin'\n",
            "instead.\n",
            "The behavior of 'argmin' will be corrected to return the positional\n",
            "minimum in the future. For now, use 'series.values.argmin' or\n",
            "'np.argmin(np.array(values))' to get the position of the minimum\n",
            "row.\n",
            "  \"\"\"Entry point for launching an IPython kernel.\n"
          ],
          "name": "stderr"
        }
      ]
    },
    {
      "cell_type": "code",
      "metadata": {
        "id": "mjRiPZXfSw1O",
        "colab_type": "code",
        "outputId": "1e068f27-4971-4e4f-d839-d9151a75c0f1",
        "colab": {
          "base_uri": "https://localhost:8080/",
          "height": 35
        }
      },
      "source": [
        "print (best_neighbor, best_rmse)"
      ],
      "execution_count": 0,
      "outputs": [
        {
          "output_type": "stream",
          "text": [
            "15 0.7081006278772208\n"
          ],
          "name": "stdout"
        }
      ]
    },
    {
      "cell_type": "markdown",
      "metadata": {
        "id": "choHyU9eD3Pm",
        "colab_type": "text"
      },
      "source": [
        "Para o modelo KNN, o melhor valor do rmse foi 0.7081, com o número de vizinhos igual a 15.\n",
        "\n",
        "Com isso, vemos que o melhor modelo foi o KNN, sendo que o Ridge e o Lasso ficaram um pouco próximos."
      ]
    },
    {
      "cell_type": "markdown",
      "metadata": {
        "id": "w8UudQPmFRI7",
        "colab_type": "text"
      },
      "source": [
        "# Parte 3"
      ]
    },
    {
      "cell_type": "markdown",
      "metadata": {
        "id": "Di930WxPFeYP",
        "colab_type": "text"
      },
      "source": [
        "## Variáveis mais importantes para o Ridge"
      ]
    },
    {
      "cell_type": "code",
      "metadata": {
        "id": "Y-Ov0jLHHm3B",
        "colab_type": "code",
        "outputId": "f5fb6d66-5a5e-421a-9de3-e11ca645b43f",
        "colab": {
          "base_uri": "https://localhost:8080/",
          "height": 53
        }
      },
      "source": [
        "model_ridge = Ridge(alpha=best_l2_penalty)\n",
        "model_ridge.fit(df_norm, notas)"
      ],
      "execution_count": 0,
      "outputs": [
        {
          "output_type": "execute_result",
          "data": {
            "text/plain": [
              "Ridge(alpha=15.0, copy_X=True, fit_intercept=True, max_iter=None,\n",
              "      normalize=False, random_state=None, solver='auto', tol=0.001)"
            ]
          },
          "metadata": {
            "tags": []
          },
          "execution_count": 21
        }
      ]
    },
    {
      "cell_type": "code",
      "metadata": {
        "id": "AFoZV48dJiM0",
        "colab_type": "code",
        "outputId": "eba33914-b892-4358-ecb8-8f717295518c",
        "colab": {
          "base_uri": "https://localhost:8080/",
          "height": 629
        }
      },
      "source": [
        "coef = pd.Series(model_ridge.coef_, index = df_norm.columns)\n",
        "\n",
        "imp_coef = pd.concat([coef.sort_values().head(5),\n",
        "                     coef.sort_values().tail(5)])\n",
        "coef"
      ],
      "execution_count": 0,
      "outputs": [
        {
          "output_type": "execute_result",
          "data": {
            "text/plain": [
              "atleta_id       0.011011\n",
              "rodada          0.006816\n",
              "clube_id        0.211653\n",
              "participou      1.622205\n",
              "posicao_id     -0.355958\n",
              "jogos_num       0.022860\n",
              "pontos_num     -2.382641\n",
              "media_num      -0.039585\n",
              "preco_num       0.036925\n",
              "variacao_num   -0.030058\n",
              "partida_id      0.024175\n",
              "mando           0.042299\n",
              "titular        -0.426192\n",
              "substituido     0.216113\n",
              "tempo_jogado    0.984220\n",
              "FS              0.509737\n",
              "PE             -0.319289\n",
              "A               0.760255\n",
              "FT              0.271312\n",
              "FD              0.373782\n",
              "FF              0.319079\n",
              "G               1.474938\n",
              "I              -0.109291\n",
              "PP             -0.098999\n",
              "RB              1.354368\n",
              "FC             -0.305586\n",
              "GC             -0.183405\n",
              "CA             -0.386211\n",
              "CV             -0.277920\n",
              "SG              0.999997\n",
              "DD              0.902609\n",
              "DP              0.147814\n",
              "GS             -0.415949\n",
              "dtype: float64"
            ]
          },
          "metadata": {
            "tags": []
          },
          "execution_count": 22
        }
      ]
    },
    {
      "cell_type": "markdown",
      "metadata": {
        "id": "f0vZyvAjOW5N",
        "colab_type": "text"
      },
      "source": [
        "Vemos, com esse resultado, que as variáveis mais importantes para o modelo Ridge são participou, pontos_num, tempo_jogado, A, G, RB, SG e DD."
      ]
    },
    {
      "cell_type": "markdown",
      "metadata": {
        "id": "S8f7cQwwOiXv",
        "colab_type": "text"
      },
      "source": [
        "## Variáveis mais importantes para o Lasso"
      ]
    },
    {
      "cell_type": "code",
      "metadata": {
        "id": "DEFpMLObOlpy",
        "colab_type": "code",
        "outputId": "5d462e62-7534-408e-85c7-05a02092233a",
        "colab": {
          "base_uri": "https://localhost:8080/",
          "height": 71
        }
      },
      "source": [
        "model_lasso = Lasso(alpha=best_l1_penalty)\n",
        "model_lasso.fit(df_norm, notas)"
      ],
      "execution_count": 0,
      "outputs": [
        {
          "output_type": "execute_result",
          "data": {
            "text/plain": [
              "Lasso(alpha=0.01, copy_X=True, fit_intercept=True, max_iter=1000,\n",
              "      normalize=False, positive=False, precompute=False, random_state=None,\n",
              "      selection='cyclic', tol=0.0001, warm_start=False)"
            ]
          },
          "metadata": {
            "tags": []
          },
          "execution_count": 203
        }
      ]
    },
    {
      "cell_type": "code",
      "metadata": {
        "id": "VCZcLulCPN2i",
        "colab_type": "code",
        "outputId": "e4f718bb-857c-4500-bb48-0b2631339f28",
        "colab": {
          "base_uri": "https://localhost:8080/",
          "height": 629
        }
      },
      "source": [
        "coef = pd.Series(model_lasso.coef_, index = df_norm.columns)\n",
        "\n",
        "imp_coef = pd.concat([coef.sort_values().head(5),\n",
        "                     coef.sort_values().tail(5)])\n",
        "coef"
      ],
      "execution_count": 0,
      "outputs": [
        {
          "output_type": "execute_result",
          "data": {
            "text/plain": [
              "atleta_id       0.000000\n",
              "rodada          0.000000\n",
              "clube_id        0.262229\n",
              "participou      1.632170\n",
              "posicao_id     -0.404767\n",
              "jogos_num       0.016654\n",
              "pontos_num     -1.181657\n",
              "media_num      -0.010260\n",
              "preco_num       0.000000\n",
              "variacao_num   -0.031744\n",
              "partida_id      0.022807\n",
              "mando           0.021911\n",
              "titular        -0.131565\n",
              "substituido     0.219302\n",
              "tempo_jogado    0.448621\n",
              "FS              0.335196\n",
              "PE             -0.008784\n",
              "A               0.441555\n",
              "FT              0.151712\n",
              "FD              0.242303\n",
              "FF              0.211987\n",
              "G               0.872390\n",
              "I              -0.022036\n",
              "PP             -0.051009\n",
              "RB              0.765574\n",
              "FC             -0.030892\n",
              "GC             -0.096447\n",
              "CA             -0.174437\n",
              "CV             -0.160711\n",
              "SG              0.590392\n",
              "DD              0.527829\n",
              "DP              0.075544\n",
              "GS             -0.146754\n",
              "dtype: float64"
            ]
          },
          "metadata": {
            "tags": []
          },
          "execution_count": 204
        }
      ]
    },
    {
      "cell_type": "markdown",
      "metadata": {
        "id": "cRz00wN7Tn-B",
        "colab_type": "text"
      },
      "source": [
        "Vemos, com esses valores, que as variáveis mais importantes para o modelo Lasso são participou, pontos_num, tempo_jogado, G e RB.\n",
        "\n",
        "Algumas variáveis foram zeradas, dentre elas temos atleta_id, rodada e preco_num."
      ]
    },
    {
      "cell_type": "markdown",
      "metadata": {
        "id": "UiNBGG1hYrBn",
        "colab_type": "text"
      },
      "source": [
        "# Parte 4"
      ]
    },
    {
      "cell_type": "markdown",
      "metadata": {
        "id": "Fp-Y7LVyv1ld",
        "colab_type": "text"
      },
      "source": [
        "Dados de teste"
      ]
    },
    {
      "cell_type": "code",
      "metadata": {
        "id": "_ZY_lqXBMSDQ",
        "colab_type": "code",
        "outputId": "f519f1e0-4b90-4f27-dea8-64948d2efcf4",
        "colab": {
          "base_uri": "https://localhost:8080/",
          "height": 35
        }
      },
      "source": [
        "teste = pd.read_csv('https://raw.githubusercontent.com/ceciliakemiac/DataScienceMaybeFiles/master/data/test.csv')\n",
        "teste.shape\n"
      ],
      "execution_count": 0,
      "outputs": [
        {
          "output_type": "execute_result",
          "data": {
            "text/plain": [
              "(1610, 33)"
            ]
          },
          "metadata": {
            "tags": []
          },
          "execution_count": 39
        }
      ]
    },
    {
      "cell_type": "markdown",
      "metadata": {
        "id": "4rUmK2aB3sY_",
        "colab_type": "text"
      },
      "source": [
        "Removendo elementos NaN"
      ]
    },
    {
      "cell_type": "code",
      "metadata": {
        "id": "5xjgRKBT3ppj",
        "colab_type": "code",
        "outputId": "27ef2203-7965-4378-8cc8-cbdcab31c4d5",
        "colab": {
          "base_uri": "https://localhost:8080/",
          "height": 260
        }
      },
      "source": [
        "imputer = Imputer(strategy='mean')\n",
        "imputer = imputer.fit(teste)\n",
        "teste_pre = imputer.transform(teste)\n",
        "\n",
        "teste_pre = pd.DataFrame(teste_pre)\n",
        "teste_pre.columns = teste.columns\n",
        "teste_pre.index = teste.index\n",
        "\n",
        "teste_pre.head()\n"
      ],
      "execution_count": 0,
      "outputs": [
        {
          "output_type": "stream",
          "text": [
            "/usr/local/lib/python3.6/dist-packages/sklearn/utils/deprecation.py:66: DeprecationWarning: Class Imputer is deprecated; Imputer was deprecated in version 0.20 and will be removed in 0.22. Import impute.SimpleImputer from sklearn instead.\n",
            "  warnings.warn(msg, category=DeprecationWarning)\n"
          ],
          "name": "stderr"
        },
        {
          "output_type": "execute_result",
          "data": {
            "text/html": [
              "<div>\n",
              "<style scoped>\n",
              "    .dataframe tbody tr th:only-of-type {\n",
              "        vertical-align: middle;\n",
              "    }\n",
              "\n",
              "    .dataframe tbody tr th {\n",
              "        vertical-align: top;\n",
              "    }\n",
              "\n",
              "    .dataframe thead th {\n",
              "        text-align: right;\n",
              "    }\n",
              "</style>\n",
              "<table border=\"1\" class=\"dataframe\">\n",
              "  <thead>\n",
              "    <tr style=\"text-align: right;\">\n",
              "      <th></th>\n",
              "      <th>atleta_id</th>\n",
              "      <th>rodada</th>\n",
              "      <th>clube_id</th>\n",
              "      <th>participou</th>\n",
              "      <th>posicao_id</th>\n",
              "      <th>jogos_num</th>\n",
              "      <th>pontos_num</th>\n",
              "      <th>media_num</th>\n",
              "      <th>preco_num</th>\n",
              "      <th>variacao_num</th>\n",
              "      <th>partida_id</th>\n",
              "      <th>mando</th>\n",
              "      <th>titular</th>\n",
              "      <th>substituido</th>\n",
              "      <th>tempo_jogado</th>\n",
              "      <th>FS</th>\n",
              "      <th>PE</th>\n",
              "      <th>A</th>\n",
              "      <th>FT</th>\n",
              "      <th>FD</th>\n",
              "      <th>FF</th>\n",
              "      <th>G</th>\n",
              "      <th>I</th>\n",
              "      <th>PP</th>\n",
              "      <th>RB</th>\n",
              "      <th>FC</th>\n",
              "      <th>GC</th>\n",
              "      <th>CA</th>\n",
              "      <th>CV</th>\n",
              "      <th>SG</th>\n",
              "      <th>DD</th>\n",
              "      <th>DP</th>\n",
              "      <th>GS</th>\n",
              "    </tr>\n",
              "  </thead>\n",
              "  <tbody>\n",
              "    <tr>\n",
              "      <th>0</th>\n",
              "      <td>68873.0</td>\n",
              "      <td>37.0</td>\n",
              "      <td>262.0</td>\n",
              "      <td>1.0</td>\n",
              "      <td>1.0</td>\n",
              "      <td>29.0</td>\n",
              "      <td>10.1</td>\n",
              "      <td>4.81</td>\n",
              "      <td>9.88</td>\n",
              "      <td>0.22</td>\n",
              "      <td>180166.0</td>\n",
              "      <td>1.0</td>\n",
              "      <td>1.0</td>\n",
              "      <td>0.0</td>\n",
              "      <td>1.0</td>\n",
              "      <td>0.0</td>\n",
              "      <td>3.0</td>\n",
              "      <td>0.0</td>\n",
              "      <td>0.0</td>\n",
              "      <td>0.0</td>\n",
              "      <td>0.0</td>\n",
              "      <td>0.0</td>\n",
              "      <td>0.0</td>\n",
              "      <td>0.0</td>\n",
              "      <td>0.0</td>\n",
              "      <td>0.0</td>\n",
              "      <td>0.0</td>\n",
              "      <td>0.0</td>\n",
              "      <td>0.0</td>\n",
              "      <td>1.0</td>\n",
              "      <td>2.0</td>\n",
              "      <td>0.0</td>\n",
              "      <td>0.0</td>\n",
              "    </tr>\n",
              "    <tr>\n",
              "      <th>1</th>\n",
              "      <td>78086.0</td>\n",
              "      <td>37.0</td>\n",
              "      <td>262.0</td>\n",
              "      <td>0.0</td>\n",
              "      <td>1.0</td>\n",
              "      <td>0.0</td>\n",
              "      <td>0.0</td>\n",
              "      <td>0.00</td>\n",
              "      <td>2.00</td>\n",
              "      <td>0.00</td>\n",
              "      <td>180166.0</td>\n",
              "      <td>1.0</td>\n",
              "      <td>0.0</td>\n",
              "      <td>0.0</td>\n",
              "      <td>0.0</td>\n",
              "      <td>0.0</td>\n",
              "      <td>0.0</td>\n",
              "      <td>0.0</td>\n",
              "      <td>0.0</td>\n",
              "      <td>0.0</td>\n",
              "      <td>0.0</td>\n",
              "      <td>0.0</td>\n",
              "      <td>0.0</td>\n",
              "      <td>0.0</td>\n",
              "      <td>0.0</td>\n",
              "      <td>0.0</td>\n",
              "      <td>0.0</td>\n",
              "      <td>0.0</td>\n",
              "      <td>0.0</td>\n",
              "      <td>0.0</td>\n",
              "      <td>0.0</td>\n",
              "      <td>0.0</td>\n",
              "      <td>0.0</td>\n",
              "    </tr>\n",
              "    <tr>\n",
              "      <th>2</th>\n",
              "      <td>89258.0</td>\n",
              "      <td>37.0</td>\n",
              "      <td>262.0</td>\n",
              "      <td>0.0</td>\n",
              "      <td>1.0</td>\n",
              "      <td>0.0</td>\n",
              "      <td>0.0</td>\n",
              "      <td>0.00</td>\n",
              "      <td>1.00</td>\n",
              "      <td>0.00</td>\n",
              "      <td>180166.0</td>\n",
              "      <td>1.0</td>\n",
              "      <td>0.0</td>\n",
              "      <td>0.0</td>\n",
              "      <td>0.0</td>\n",
              "      <td>0.0</td>\n",
              "      <td>0.0</td>\n",
              "      <td>0.0</td>\n",
              "      <td>0.0</td>\n",
              "      <td>0.0</td>\n",
              "      <td>0.0</td>\n",
              "      <td>0.0</td>\n",
              "      <td>0.0</td>\n",
              "      <td>0.0</td>\n",
              "      <td>0.0</td>\n",
              "      <td>0.0</td>\n",
              "      <td>0.0</td>\n",
              "      <td>0.0</td>\n",
              "      <td>0.0</td>\n",
              "      <td>0.0</td>\n",
              "      <td>0.0</td>\n",
              "      <td>0.0</td>\n",
              "      <td>0.0</td>\n",
              "    </tr>\n",
              "    <tr>\n",
              "      <th>3</th>\n",
              "      <td>37701.0</td>\n",
              "      <td>37.0</td>\n",
              "      <td>262.0</td>\n",
              "      <td>1.0</td>\n",
              "      <td>2.0</td>\n",
              "      <td>33.0</td>\n",
              "      <td>1.7</td>\n",
              "      <td>2.82</td>\n",
              "      <td>10.09</td>\n",
              "      <td>0.26</td>\n",
              "      <td>180166.0</td>\n",
              "      <td>1.0</td>\n",
              "      <td>1.0</td>\n",
              "      <td>1.0</td>\n",
              "      <td>0.5</td>\n",
              "      <td>0.0</td>\n",
              "      <td>1.0</td>\n",
              "      <td>0.0</td>\n",
              "      <td>0.0</td>\n",
              "      <td>0.0</td>\n",
              "      <td>0.0</td>\n",
              "      <td>0.0</td>\n",
              "      <td>0.0</td>\n",
              "      <td>0.0</td>\n",
              "      <td>0.0</td>\n",
              "      <td>2.0</td>\n",
              "      <td>0.0</td>\n",
              "      <td>1.0</td>\n",
              "      <td>0.0</td>\n",
              "      <td>1.0</td>\n",
              "      <td>0.0</td>\n",
              "      <td>0.0</td>\n",
              "      <td>0.0</td>\n",
              "    </tr>\n",
              "    <tr>\n",
              "      <th>4</th>\n",
              "      <td>50453.0</td>\n",
              "      <td>37.0</td>\n",
              "      <td>262.0</td>\n",
              "      <td>1.0</td>\n",
              "      <td>2.0</td>\n",
              "      <td>8.0</td>\n",
              "      <td>10.0</td>\n",
              "      <td>7.20</td>\n",
              "      <td>6.15</td>\n",
              "      <td>1.55</td>\n",
              "      <td>180166.0</td>\n",
              "      <td>1.0</td>\n",
              "      <td>0.0</td>\n",
              "      <td>1.0</td>\n",
              "      <td>0.5</td>\n",
              "      <td>0.0</td>\n",
              "      <td>1.0</td>\n",
              "      <td>0.0</td>\n",
              "      <td>0.0</td>\n",
              "      <td>0.0</td>\n",
              "      <td>1.0</td>\n",
              "      <td>0.0</td>\n",
              "      <td>0.0</td>\n",
              "      <td>0.0</td>\n",
              "      <td>3.0</td>\n",
              "      <td>1.0</td>\n",
              "      <td>0.0</td>\n",
              "      <td>0.0</td>\n",
              "      <td>0.0</td>\n",
              "      <td>1.0</td>\n",
              "      <td>0.0</td>\n",
              "      <td>0.0</td>\n",
              "      <td>0.0</td>\n",
              "    </tr>\n",
              "  </tbody>\n",
              "</table>\n",
              "</div>"
            ],
            "text/plain": [
              "   atleta_id  rodada  clube_id  participou  posicao_id  ...   CV   SG   DD   DP   GS\n",
              "0    68873.0    37.0     262.0         1.0         1.0  ...  0.0  1.0  2.0  0.0  0.0\n",
              "1    78086.0    37.0     262.0         0.0         1.0  ...  0.0  0.0  0.0  0.0  0.0\n",
              "2    89258.0    37.0     262.0         0.0         1.0  ...  0.0  0.0  0.0  0.0  0.0\n",
              "3    37701.0    37.0     262.0         1.0         2.0  ...  0.0  1.0  0.0  0.0  0.0\n",
              "4    50453.0    37.0     262.0         1.0         2.0  ...  0.0  1.0  0.0  0.0  0.0\n",
              "\n",
              "[5 rows x 33 columns]"
            ]
          },
          "metadata": {
            "tags": []
          },
          "execution_count": 40
        }
      ]
    },
    {
      "cell_type": "markdown",
      "metadata": {
        "id": "WRgm5v6-WO-V",
        "colab_type": "text"
      },
      "source": [
        "Normalizando os dados de teste:"
      ]
    },
    {
      "cell_type": "code",
      "metadata": {
        "id": "vnzr6MCaWRgk",
        "colab_type": "code",
        "outputId": "7b3b2232-334a-4fd9-9d47-fcec7279ff09",
        "colab": {
          "base_uri": "https://localhost:8080/",
          "height": 224
        }
      },
      "source": [
        "standardscaler = StandardScaler()\n",
        "standardscaler = standardscaler.fit(teste_pre)\n",
        "teste_pre = standardscaler.transform(teste_pre)\n",
        "\n",
        "teste_pre = pd.DataFrame(teste_pre)\n",
        "teste_pre.columns = teste.columns\n",
        "teste_pre.index = teste.index\n",
        "\n",
        "# df_clean = df_s\n",
        "teste_pre.head()"
      ],
      "execution_count": 0,
      "outputs": [
        {
          "output_type": "execute_result",
          "data": {
            "text/html": [
              "<div>\n",
              "<style scoped>\n",
              "    .dataframe tbody tr th:only-of-type {\n",
              "        vertical-align: middle;\n",
              "    }\n",
              "\n",
              "    .dataframe tbody tr th {\n",
              "        vertical-align: top;\n",
              "    }\n",
              "\n",
              "    .dataframe thead th {\n",
              "        text-align: right;\n",
              "    }\n",
              "</style>\n",
              "<table border=\"1\" class=\"dataframe\">\n",
              "  <thead>\n",
              "    <tr style=\"text-align: right;\">\n",
              "      <th></th>\n",
              "      <th>atleta_id</th>\n",
              "      <th>rodada</th>\n",
              "      <th>clube_id</th>\n",
              "      <th>participou</th>\n",
              "      <th>posicao_id</th>\n",
              "      <th>jogos_num</th>\n",
              "      <th>pontos_num</th>\n",
              "      <th>media_num</th>\n",
              "      <th>preco_num</th>\n",
              "      <th>variacao_num</th>\n",
              "      <th>partida_id</th>\n",
              "      <th>mando</th>\n",
              "      <th>titular</th>\n",
              "      <th>substituido</th>\n",
              "      <th>tempo_jogado</th>\n",
              "      <th>FS</th>\n",
              "      <th>PE</th>\n",
              "      <th>A</th>\n",
              "      <th>FT</th>\n",
              "      <th>FD</th>\n",
              "      <th>FF</th>\n",
              "      <th>G</th>\n",
              "      <th>I</th>\n",
              "      <th>PP</th>\n",
              "      <th>RB</th>\n",
              "      <th>FC</th>\n",
              "      <th>GC</th>\n",
              "      <th>CA</th>\n",
              "      <th>CV</th>\n",
              "      <th>SG</th>\n",
              "      <th>DD</th>\n",
              "      <th>DP</th>\n",
              "      <th>GS</th>\n",
              "    </tr>\n",
              "  </thead>\n",
              "  <tbody>\n",
              "    <tr>\n",
              "      <th>0</th>\n",
              "      <td>-0.032408</td>\n",
              "      <td>-1.002488</td>\n",
              "      <td>-1.933642</td>\n",
              "      <td>1.306094</td>\n",
              "      <td>-2.530859</td>\n",
              "      <td>1.430028</td>\n",
              "      <td>3.274507</td>\n",
              "      <td>1.624701</td>\n",
              "      <td>1.009504</td>\n",
              "      <td>0.390749</td>\n",
              "      <td>-0.022768</td>\n",
              "      <td>1.635787</td>\n",
              "      <td>1.200924</td>\n",
              "      <td>-0.408248</td>\n",
              "      <td>1.333051</td>\n",
              "      <td>-0.425995</td>\n",
              "      <td>1.291595</td>\n",
              "      <td>-0.163663</td>\n",
              "      <td>-0.090223</td>\n",
              "      <td>-0.26667</td>\n",
              "      <td>-0.339196</td>\n",
              "      <td>-0.184393</td>\n",
              "      <td>-0.17547</td>\n",
              "      <td>-0.02493</td>\n",
              "      <td>-0.410238</td>\n",
              "      <td>-0.454135</td>\n",
              "      <td>-0.035267</td>\n",
              "      <td>-0.261485</td>\n",
              "      <td>-0.123014</td>\n",
              "      <td>5.420088</td>\n",
              "      <td>6.188535</td>\n",
              "      <td>-0.02493</td>\n",
              "      <td>-0.131719</td>\n",
              "    </tr>\n",
              "    <tr>\n",
              "      <th>1</th>\n",
              "      <td>0.511751</td>\n",
              "      <td>-1.002488</td>\n",
              "      <td>-1.933642</td>\n",
              "      <td>-0.765641</td>\n",
              "      <td>-2.530859</td>\n",
              "      <td>-1.151775</td>\n",
              "      <td>-0.348542</td>\n",
              "      <td>-1.024326</td>\n",
              "      <td>-0.783021</td>\n",
              "      <td>-0.000763</td>\n",
              "      <td>-0.022768</td>\n",
              "      <td>1.635787</td>\n",
              "      <td>-1.597896</td>\n",
              "      <td>-0.408248</td>\n",
              "      <td>-1.773698</td>\n",
              "      <td>-0.425995</td>\n",
              "      <td>-0.521894</td>\n",
              "      <td>-0.163663</td>\n",
              "      <td>-0.090223</td>\n",
              "      <td>-0.26667</td>\n",
              "      <td>-0.339196</td>\n",
              "      <td>-0.184393</td>\n",
              "      <td>-0.17547</td>\n",
              "      <td>-0.02493</td>\n",
              "      <td>-0.410238</td>\n",
              "      <td>-0.454135</td>\n",
              "      <td>-0.035267</td>\n",
              "      <td>-0.261485</td>\n",
              "      <td>-0.123014</td>\n",
              "      <td>-0.184499</td>\n",
              "      <td>-0.133509</td>\n",
              "      <td>-0.02493</td>\n",
              "      <td>-0.131719</td>\n",
              "    </tr>\n",
              "    <tr>\n",
              "      <th>2</th>\n",
              "      <td>1.171615</td>\n",
              "      <td>-1.002488</td>\n",
              "      <td>-1.933642</td>\n",
              "      <td>-0.765641</td>\n",
              "      <td>-2.530859</td>\n",
              "      <td>-1.151775</td>\n",
              "      <td>-0.348542</td>\n",
              "      <td>-1.024326</td>\n",
              "      <td>-1.010499</td>\n",
              "      <td>-0.000763</td>\n",
              "      <td>-0.022768</td>\n",
              "      <td>1.635787</td>\n",
              "      <td>-1.597896</td>\n",
              "      <td>-0.408248</td>\n",
              "      <td>-1.773698</td>\n",
              "      <td>-0.425995</td>\n",
              "      <td>-0.521894</td>\n",
              "      <td>-0.163663</td>\n",
              "      <td>-0.090223</td>\n",
              "      <td>-0.26667</td>\n",
              "      <td>-0.339196</td>\n",
              "      <td>-0.184393</td>\n",
              "      <td>-0.17547</td>\n",
              "      <td>-0.02493</td>\n",
              "      <td>-0.410238</td>\n",
              "      <td>-0.454135</td>\n",
              "      <td>-0.035267</td>\n",
              "      <td>-0.261485</td>\n",
              "      <td>-0.123014</td>\n",
              "      <td>-0.184499</td>\n",
              "      <td>-0.133509</td>\n",
              "      <td>-0.02493</td>\n",
              "      <td>-0.131719</td>\n",
              "    </tr>\n",
              "    <tr>\n",
              "      <th>3</th>\n",
              "      <td>-1.873556</td>\n",
              "      <td>-1.002488</td>\n",
              "      <td>-1.933642</td>\n",
              "      <td>1.306094</td>\n",
              "      <td>-1.520683</td>\n",
              "      <td>1.786139</td>\n",
              "      <td>0.261278</td>\n",
              "      <td>0.528742</td>\n",
              "      <td>1.057275</td>\n",
              "      <td>0.461932</td>\n",
              "      <td>-0.022768</td>\n",
              "      <td>1.635787</td>\n",
              "      <td>1.200924</td>\n",
              "      <td>2.449490</td>\n",
              "      <td>-0.220324</td>\n",
              "      <td>-0.425995</td>\n",
              "      <td>0.082602</td>\n",
              "      <td>-0.163663</td>\n",
              "      <td>-0.090223</td>\n",
              "      <td>-0.26667</td>\n",
              "      <td>-0.339196</td>\n",
              "      <td>-0.184393</td>\n",
              "      <td>-0.17547</td>\n",
              "      <td>-0.02493</td>\n",
              "      <td>-0.410238</td>\n",
              "      <td>1.705858</td>\n",
              "      <td>-0.035267</td>\n",
              "      <td>3.747946</td>\n",
              "      <td>-0.123014</td>\n",
              "      <td>5.420088</td>\n",
              "      <td>-0.133509</td>\n",
              "      <td>-0.02493</td>\n",
              "      <td>-0.131719</td>\n",
              "    </tr>\n",
              "    <tr>\n",
              "      <th>4</th>\n",
              "      <td>-1.120369</td>\n",
              "      <td>-1.002488</td>\n",
              "      <td>-1.933642</td>\n",
              "      <td>1.306094</td>\n",
              "      <td>-1.520683</td>\n",
              "      <td>-0.439554</td>\n",
              "      <td>3.238635</td>\n",
              "      <td>2.940953</td>\n",
              "      <td>0.161012</td>\n",
              "      <td>2.757612</td>\n",
              "      <td>-0.022768</td>\n",
              "      <td>1.635787</td>\n",
              "      <td>-1.597896</td>\n",
              "      <td>2.449490</td>\n",
              "      <td>-0.220324</td>\n",
              "      <td>-0.425995</td>\n",
              "      <td>0.082602</td>\n",
              "      <td>-0.163663</td>\n",
              "      <td>-0.090223</td>\n",
              "      <td>-0.26667</td>\n",
              "      <td>2.014706</td>\n",
              "      <td>-0.184393</td>\n",
              "      <td>-0.17547</td>\n",
              "      <td>-0.02493</td>\n",
              "      <td>3.121761</td>\n",
              "      <td>0.625862</td>\n",
              "      <td>-0.035267</td>\n",
              "      <td>-0.261485</td>\n",
              "      <td>-0.123014</td>\n",
              "      <td>5.420088</td>\n",
              "      <td>-0.133509</td>\n",
              "      <td>-0.02493</td>\n",
              "      <td>-0.131719</td>\n",
              "    </tr>\n",
              "  </tbody>\n",
              "</table>\n",
              "</div>"
            ],
            "text/plain": [
              "   atleta_id    rodada  clube_id  ...        DD       DP        GS\n",
              "0  -0.032408 -1.002488 -1.933642  ...  6.188535 -0.02493 -0.131719\n",
              "1   0.511751 -1.002488 -1.933642  ... -0.133509 -0.02493 -0.131719\n",
              "2   1.171615 -1.002488 -1.933642  ... -0.133509 -0.02493 -0.131719\n",
              "3  -1.873556 -1.002488 -1.933642  ... -0.133509 -0.02493 -0.131719\n",
              "4  -1.120369 -1.002488 -1.933642  ... -0.133509 -0.02493 -0.131719\n",
              "\n",
              "[5 rows x 33 columns]"
            ]
          },
          "metadata": {
            "tags": []
          },
          "execution_count": 41
        }
      ]
    },
    {
      "cell_type": "markdown",
      "metadata": {
        "id": "BLHLiqtQYuQd",
        "colab_type": "text"
      },
      "source": [
        "## Predição com KNN"
      ]
    },
    {
      "cell_type": "code",
      "metadata": {
        "id": "3AkQFV9bzjzJ",
        "colab_type": "code",
        "outputId": "2e3fdc79-5cc8-4c4f-ac01-e6a75eec3546",
        "colab": {
          "base_uri": "https://localhost:8080/",
          "height": 71
        }
      },
      "source": [
        "model_knn = KNeighborsRegressor(n_neighbors = 15)\n",
        "model_knn.fit(df_norm, notas)"
      ],
      "execution_count": 0,
      "outputs": [
        {
          "output_type": "execute_result",
          "data": {
            "text/plain": [
              "KNeighborsRegressor(algorithm='auto', leaf_size=30, metric='minkowski',\n",
              "                    metric_params=None, n_jobs=None, n_neighbors=15, p=2,\n",
              "                    weights='uniform')"
            ]
          },
          "metadata": {
            "tags": []
          },
          "execution_count": 208
        }
      ]
    },
    {
      "cell_type": "code",
      "metadata": {
        "id": "z4adzTz6zwqg",
        "colab_type": "code",
        "colab": {}
      },
      "source": [
        "knnPredict = model_knn.predict(teste_pre)\n"
      ],
      "execution_count": 0,
      "outputs": []
    },
    {
      "cell_type": "code",
      "metadata": {
        "id": "RIehj4eW_XJl",
        "colab_type": "code",
        "colab": {}
      },
      "source": [
        "data = pd.read_csv('https://raw.githubusercontent.com/ceciliakemiac/DataScienceMaybeFiles/master/data/sample_submission.csv')\n",
        "data.nota = knnPredict\n",
        "\n",
        "data.to_csv('knn_nota.csv', index=False)"
      ],
      "execution_count": 0,
      "outputs": []
    },
    {
      "cell_type": "markdown",
      "metadata": {
        "id": "KgI6iXYfkWZ9",
        "colab_type": "text"
      },
      "source": [
        "## Predição com Ridge"
      ]
    },
    {
      "cell_type": "code",
      "metadata": {
        "id": "sG4_bq14kaP4",
        "colab_type": "code",
        "outputId": "0ebdd94b-30d7-421e-f343-905bd6e0075a",
        "colab": {
          "base_uri": "https://localhost:8080/",
          "height": 53
        }
      },
      "source": [
        "model_ridge = Ridge(alpha = 15)\n",
        "model_ridge.fit(df_norm, notas)"
      ],
      "execution_count": 0,
      "outputs": [
        {
          "output_type": "execute_result",
          "data": {
            "text/plain": [
              "Ridge(alpha=15, copy_X=True, fit_intercept=True, max_iter=None, normalize=False,\n",
              "      random_state=None, solver='auto', tol=0.001)"
            ]
          },
          "metadata": {
            "tags": []
          },
          "execution_count": 211
        }
      ]
    },
    {
      "cell_type": "code",
      "metadata": {
        "id": "Cg9were3lCiW",
        "colab_type": "code",
        "colab": {}
      },
      "source": [
        "ridgePredict = model_ridge.predict(teste_pre)"
      ],
      "execution_count": 0,
      "outputs": []
    },
    {
      "cell_type": "code",
      "metadata": {
        "id": "N_PXovFxlYnX",
        "colab_type": "code",
        "colab": {}
      },
      "source": [
        "data = pd.read_csv('https://raw.githubusercontent.com/ceciliakemiac/DataScienceMaybeFiles/master/data/sample_submission.csv')\n",
        "data.nota = ridgePredict\n",
        "\n",
        "data.to_csv('ridge_nota.csv', index=False)"
      ],
      "execution_count": 0,
      "outputs": []
    },
    {
      "cell_type": "markdown",
      "metadata": {
        "id": "NGbU9DEnjogn",
        "colab_type": "text"
      },
      "source": [
        "## Predição com Ridge com as melhores variáveis"
      ]
    },
    {
      "cell_type": "code",
      "metadata": {
        "id": "CrNwNUX8jvgd",
        "colab_type": "code",
        "colab": {}
      },
      "source": [
        "df_sel = df[['participou', 'pontos_num', 'tempo_jogado', 'A', 'G', 'RB', 'SG', 'DD']]\n",
        "teste_sel = teste_pre[['participou', 'pontos_num', 'tempo_jogado', 'A', 'G', 'RB', 'SG', 'DD']]"
      ],
      "execution_count": 0,
      "outputs": []
    },
    {
      "cell_type": "code",
      "metadata": {
        "id": "MXYqEE7ukpGC",
        "colab_type": "code",
        "outputId": "484401f2-0481-4adf-ad94-6bdcebc21e65",
        "colab": {
          "base_uri": "https://localhost:8080/",
          "height": 53
        }
      },
      "source": [
        "model_ridge = Ridge(alpha = 15)\n",
        "model_ridge.fit(df_sel, notas)"
      ],
      "execution_count": 0,
      "outputs": [
        {
          "output_type": "execute_result",
          "data": {
            "text/plain": [
              "Ridge(alpha=15, copy_X=True, fit_intercept=True, max_iter=None, normalize=False,\n",
              "      random_state=None, solver='auto', tol=0.001)"
            ]
          },
          "metadata": {
            "tags": []
          },
          "execution_count": 48
        }
      ]
    },
    {
      "cell_type": "code",
      "metadata": {
        "id": "e_Hw0Mnok227",
        "colab_type": "code",
        "colab": {}
      },
      "source": [
        "ridgeselPredict = model_ridge.predict(teste_sel)"
      ],
      "execution_count": 0,
      "outputs": []
    },
    {
      "cell_type": "code",
      "metadata": {
        "id": "7NuJvkeVlBK3",
        "colab_type": "code",
        "colab": {}
      },
      "source": [
        "data.nota = ridgeselPredict\n",
        "\n",
        "data.to_csv('ridgesel_nota.csv', index=False)"
      ],
      "execution_count": 0,
      "outputs": []
    },
    {
      "cell_type": "markdown",
      "metadata": {
        "id": "gZkkR2ZfEz8F",
        "colab_type": "text"
      },
      "source": [
        "## Predição com Lasso"
      ]
    },
    {
      "cell_type": "code",
      "metadata": {
        "id": "tIte5EAhE2PB",
        "colab_type": "code",
        "outputId": "349e1776-1148-48a3-be72-7520c45beedb",
        "colab": {
          "base_uri": "https://localhost:8080/",
          "height": 71
        }
      },
      "source": [
        "model_lasso = Lasso(alpha = 0.001)\n",
        "model_lasso.fit(df_norm, notas)"
      ],
      "execution_count": 0,
      "outputs": [
        {
          "output_type": "execute_result",
          "data": {
            "text/plain": [
              "Lasso(alpha=0.001, copy_X=True, fit_intercept=True, max_iter=1000,\n",
              "      normalize=False, positive=False, precompute=False, random_state=None,\n",
              "      selection='cyclic', tol=0.0001, warm_start=False)"
            ]
          },
          "metadata": {
            "tags": []
          },
          "execution_count": 37
        }
      ]
    },
    {
      "cell_type": "code",
      "metadata": {
        "id": "IJbsxKodcCtg",
        "colab_type": "code",
        "colab": {}
      },
      "source": [
        "lassoPredict = model_lasso.predict(teste_pre)"
      ],
      "execution_count": 0,
      "outputs": []
    },
    {
      "cell_type": "code",
      "metadata": {
        "id": "o6EKO6X8bVME",
        "colab_type": "code",
        "colab": {}
      },
      "source": [
        "data = pd.read_csv('https://raw.githubusercontent.com/ceciliakemiac/DataScienceMaybeFiles/master/data/sample_submission.csv')\n",
        "data.nota = lassoPredict\n",
        "\n",
        "data.to_csv('lasso_nota.csv', index=False)"
      ],
      "execution_count": 0,
      "outputs": []
    },
    {
      "cell_type": "markdown",
      "metadata": {
        "id": "Ao39v_aJLSYZ",
        "colab_type": "text"
      },
      "source": [
        "## ExtraTreeRegressor"
      ]
    },
    {
      "cell_type": "code",
      "metadata": {
        "id": "6FZjHV3RHsdb",
        "colab_type": "code",
        "colab": {}
      },
      "source": [
        "from sklearn.ensemble import ExtraTreesRegressor"
      ],
      "execution_count": 0,
      "outputs": []
    },
    {
      "cell_type": "code",
      "metadata": {
        "id": "q5K3JT0FH9oo",
        "colab_type": "code",
        "outputId": "1b32d14e-7fd7-46cc-dc2d-10bcd41348f8",
        "colab": {
          "base_uri": "https://localhost:8080/",
          "height": 143
        }
      },
      "source": [
        "model_extratree = ExtraTreesRegressor(n_estimators=5, max_depth=10, max_features=0.3, n_jobs=-1, random_state=0)\n",
        "model_extratree.fit(df_norm, notas)"
      ],
      "execution_count": 0,
      "outputs": [
        {
          "output_type": "execute_result",
          "data": {
            "text/plain": [
              "ExtraTreesRegressor(bootstrap=False, criterion='mse', max_depth=10,\n",
              "                    max_features=0.3, max_leaf_nodes=None,\n",
              "                    min_impurity_decrease=0.0, min_impurity_split=None,\n",
              "                    min_samples_leaf=1, min_samples_split=2,\n",
              "                    min_weight_fraction_leaf=0.0, n_estimators=5, n_jobs=-1,\n",
              "                    oob_score=False, random_state=0, verbose=0,\n",
              "                    warm_start=False)"
            ]
          },
          "metadata": {
            "tags": []
          },
          "execution_count": 26
        }
      ]
    },
    {
      "cell_type": "code",
      "metadata": {
        "id": "zpPJr81qJ8IO",
        "colab_type": "code",
        "colab": {}
      },
      "source": [
        "extratreePredict = model_extratree.predict(teste_pre)"
      ],
      "execution_count": 0,
      "outputs": []
    },
    {
      "cell_type": "code",
      "metadata": {
        "id": "9oK56e6YKMuw",
        "colab_type": "code",
        "colab": {}
      },
      "source": [
        "data = pd.read_csv('https://raw.githubusercontent.com/ceciliakemiac/DataScienceMaybeFiles/master/data/sample_submission.csv')\n",
        "data.nota = extratreePredict\n",
        "\n",
        "data.to_csv('extratree_nota.csv', index=False)"
      ],
      "execution_count": 0,
      "outputs": []
    },
    {
      "cell_type": "markdown",
      "metadata": {
        "id": "u0DN-4fXtatD",
        "colab_type": "text"
      },
      "source": [
        "## RandomForest"
      ]
    },
    {
      "cell_type": "code",
      "metadata": {
        "id": "yhZHs_IjtdFL",
        "colab_type": "code",
        "colab": {}
      },
      "source": [
        " from sklearn.ensemble import RandomForestRegressor"
      ],
      "execution_count": 0,
      "outputs": []
    },
    {
      "cell_type": "code",
      "metadata": {
        "id": "EY-aSCVPtgTt",
        "colab_type": "code",
        "outputId": "d15f9ebf-5104-45ae-c5fc-dd6f8ea3d388",
        "colab": {
          "base_uri": "https://localhost:8080/",
          "height": 199
        }
      },
      "source": [
        "model_randomforest = RandomForestRegressor(max_depth=5, random_state=0)\n",
        "model_randomforest.fit(df_norm, notas)"
      ],
      "execution_count": 0,
      "outputs": [
        {
          "output_type": "stream",
          "text": [
            "/usr/local/lib/python3.6/dist-packages/sklearn/ensemble/forest.py:245: FutureWarning: The default value of n_estimators will change from 10 in version 0.20 to 100 in 0.22.\n",
            "  \"10 in version 0.20 to 100 in 0.22.\", FutureWarning)\n"
          ],
          "name": "stderr"
        },
        {
          "output_type": "execute_result",
          "data": {
            "text/plain": [
              "RandomForestRegressor(bootstrap=True, criterion='mse', max_depth=5,\n",
              "                      max_features='auto', max_leaf_nodes=None,\n",
              "                      min_impurity_decrease=0.0, min_impurity_split=None,\n",
              "                      min_samples_leaf=1, min_samples_split=2,\n",
              "                      min_weight_fraction_leaf=0.0, n_estimators=10,\n",
              "                      n_jobs=None, oob_score=False, random_state=0, verbose=0,\n",
              "                      warm_start=False)"
            ]
          },
          "metadata": {
            "tags": []
          },
          "execution_count": 52
        }
      ]
    },
    {
      "cell_type": "code",
      "metadata": {
        "id": "rVUdwD01t-uK",
        "colab_type": "code",
        "colab": {}
      },
      "source": [
        "randomforestPredict = model_randomforest.predict(teste_pre)"
      ],
      "execution_count": 0,
      "outputs": []
    },
    {
      "cell_type": "code",
      "metadata": {
        "id": "NYkw4cbZuJJG",
        "colab_type": "code",
        "colab": {}
      },
      "source": [
        "data.nota = randomforestPredict\n",
        "\n",
        "data.to_csv('randomforest_nota.csv', index=False)"
      ],
      "execution_count": 0,
      "outputs": []
    },
    {
      "cell_type": "markdown",
      "metadata": {
        "id": "s01-ket9LWxa",
        "colab_type": "text"
      },
      "source": [
        "## DecisionTreeRegressor"
      ]
    },
    {
      "cell_type": "code",
      "metadata": {
        "id": "u6A-SQXTLbIM",
        "colab_type": "code",
        "colab": {}
      },
      "source": [
        "from sklearn.tree import DecisionTreeRegressor"
      ],
      "execution_count": 0,
      "outputs": []
    },
    {
      "cell_type": "code",
      "metadata": {
        "id": "QdnO3GtVLhw9",
        "colab_type": "code",
        "outputId": "566c060a-e96b-4da9-bffa-e530a58c7e89",
        "colab": {
          "base_uri": "https://localhost:8080/",
          "height": 107
        }
      },
      "source": [
        "model_decisiontree = DecisionTreeRegressor(max_depth=10)\n",
        "model_decisiontree.fit(df_norm, notas)"
      ],
      "execution_count": 0,
      "outputs": [
        {
          "output_type": "execute_result",
          "data": {
            "text/plain": [
              "DecisionTreeRegressor(criterion='mse', max_depth=10, max_features=None,\n",
              "                      max_leaf_nodes=None, min_impurity_decrease=0.0,\n",
              "                      min_impurity_split=None, min_samples_leaf=1,\n",
              "                      min_samples_split=2, min_weight_fraction_leaf=0.0,\n",
              "                      presort=False, random_state=None, splitter='best')"
            ]
          },
          "metadata": {
            "tags": []
          },
          "execution_count": 30
        }
      ]
    },
    {
      "cell_type": "code",
      "metadata": {
        "id": "zlEg_JaWL8_M",
        "colab_type": "code",
        "colab": {}
      },
      "source": [
        "decisiontreePredict = model_decisiontree.predict(teste_pre)"
      ],
      "execution_count": 0,
      "outputs": []
    },
    {
      "cell_type": "code",
      "metadata": {
        "id": "LlKdXCfSMHcH",
        "colab_type": "code",
        "colab": {}
      },
      "source": [
        "data.nota = decisiontreePredict\n",
        "\n",
        "data.to_csv('decisiontree_nota.csv', index=False)"
      ],
      "execution_count": 0,
      "outputs": []
    }
  ]
}