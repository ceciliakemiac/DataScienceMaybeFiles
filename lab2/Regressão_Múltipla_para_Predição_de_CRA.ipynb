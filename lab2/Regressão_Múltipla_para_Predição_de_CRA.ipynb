{
  "nbformat": 4,
  "nbformat_minor": 0,
  "metadata": {
    "colab": {
      "name": "Regressão Múltipla para Predição de CRA",
      "provenance": [],
      "collapsed_sections": []
    },
    "kernelspec": {
      "name": "python3",
      "display_name": "Python 3"
    }
  },
  "cells": [
    {
      "cell_type": "markdown",
      "metadata": {
        "id": "HDPYlFYYAqdo",
        "colab_type": "text"
      },
      "source": [
        "# Dependências"
      ]
    },
    {
      "cell_type": "code",
      "metadata": {
        "id": "IwqizOUQ0-ec",
        "colab_type": "code",
        "colab": {}
      },
      "source": [
        "import numpy as np\n",
        "import pandas as pd\n",
        "import matplotlib.pyplot as plt\n",
        "import seaborn as sns\n",
        "from sklearn.linear_model import LinearRegression\n",
        "from sklearn.metrics import mean_squared_error as mse, r2_score\n",
        "from sklearn.model_selection import train_test_split"
      ],
      "execution_count": 0,
      "outputs": []
    },
    {
      "cell_type": "markdown",
      "metadata": {
        "id": "eO3KwA3XAs0K",
        "colab_type": "text"
      },
      "source": [
        "# Carregando os dados"
      ]
    },
    {
      "cell_type": "code",
      "metadata": {
        "id": "mdYE0j7P1UR1",
        "colab_type": "code",
        "outputId": "8966a09c-84a6-4ab4-a102-3e920fd5ed8b",
        "colab": {
          "base_uri": "https://localhost:8080/",
          "height": 204
        }
      },
      "source": [
        "df = pd.read_csv('https://canvas.instructure.com/files/79840847/download?download_frd=1')\n",
        "df.head()"
      ],
      "execution_count": 2,
      "outputs": [
        {
          "output_type": "execute_result",
          "data": {
            "text/html": [
              "<div>\n",
              "<style scoped>\n",
              "    .dataframe tbody tr th:only-of-type {\n",
              "        vertical-align: middle;\n",
              "    }\n",
              "\n",
              "    .dataframe tbody tr th {\n",
              "        vertical-align: top;\n",
              "    }\n",
              "\n",
              "    .dataframe thead th {\n",
              "        text-align: right;\n",
              "    }\n",
              "</style>\n",
              "<table border=\"1\" class=\"dataframe\">\n",
              "  <thead>\n",
              "    <tr style=\"text-align: right;\">\n",
              "      <th></th>\n",
              "      <th>Cálculo1</th>\n",
              "      <th>LPT</th>\n",
              "      <th>P1</th>\n",
              "      <th>IC</th>\n",
              "      <th>Cálculo2</th>\n",
              "      <th>cra</th>\n",
              "    </tr>\n",
              "  </thead>\n",
              "  <tbody>\n",
              "    <tr>\n",
              "      <th>0</th>\n",
              "      <td>8.7</td>\n",
              "      <td>10.0</td>\n",
              "      <td>9.0</td>\n",
              "      <td>9.1</td>\n",
              "      <td>8.4</td>\n",
              "      <td>8.477647</td>\n",
              "    </tr>\n",
              "    <tr>\n",
              "      <th>1</th>\n",
              "      <td>7.0</td>\n",
              "      <td>7.0</td>\n",
              "      <td>7.7</td>\n",
              "      <td>7.0</td>\n",
              "      <td>6.2</td>\n",
              "      <td>6.851724</td>\n",
              "    </tr>\n",
              "    <tr>\n",
              "      <th>2</th>\n",
              "      <td>8.6</td>\n",
              "      <td>9.8</td>\n",
              "      <td>7.9</td>\n",
              "      <td>9.6</td>\n",
              "      <td>8.7</td>\n",
              "      <td>9.090588</td>\n",
              "    </tr>\n",
              "    <tr>\n",
              "      <th>3</th>\n",
              "      <td>7.8</td>\n",
              "      <td>8.3</td>\n",
              "      <td>6.8</td>\n",
              "      <td>8.2</td>\n",
              "      <td>8.0</td>\n",
              "      <td>7.283516</td>\n",
              "    </tr>\n",
              "    <tr>\n",
              "      <th>4</th>\n",
              "      <td>5.2</td>\n",
              "      <td>9.3</td>\n",
              "      <td>5.0</td>\n",
              "      <td>8.5</td>\n",
              "      <td>5.0</td>\n",
              "      <td>7.205747</td>\n",
              "    </tr>\n",
              "  </tbody>\n",
              "</table>\n",
              "</div>"
            ],
            "text/plain": [
              "   Cálculo1   LPT   P1   IC  Cálculo2       cra\n",
              "0       8.7  10.0  9.0  9.1       8.4  8.477647\n",
              "1       7.0   7.0  7.7  7.0       6.2  6.851724\n",
              "2       8.6   9.8  7.9  9.6       8.7  9.090588\n",
              "3       7.8   8.3  6.8  8.2       8.0  7.283516\n",
              "4       5.2   9.3  5.0  8.5       5.0  7.205747"
            ]
          },
          "metadata": {
            "tags": []
          },
          "execution_count": 2
        }
      ]
    },
    {
      "cell_type": "markdown",
      "metadata": {
        "id": "0P8xsg-XAwpf",
        "colab_type": "text"
      },
      "source": [
        "# Sumário dos Dados"
      ]
    },
    {
      "cell_type": "code",
      "metadata": {
        "id": "tD-S-2OB1miJ",
        "colab_type": "code",
        "outputId": "445644e5-924c-4161-f0d4-4bfb5bea5878",
        "colab": {
          "base_uri": "https://localhost:8080/",
          "height": 297
        }
      },
      "source": [
        "df.describe()"
      ],
      "execution_count": 0,
      "outputs": [
        {
          "output_type": "execute_result",
          "data": {
            "text/html": [
              "<div>\n",
              "<style scoped>\n",
              "    .dataframe tbody tr th:only-of-type {\n",
              "        vertical-align: middle;\n",
              "    }\n",
              "\n",
              "    .dataframe tbody tr th {\n",
              "        vertical-align: top;\n",
              "    }\n",
              "\n",
              "    .dataframe thead th {\n",
              "        text-align: right;\n",
              "    }\n",
              "</style>\n",
              "<table border=\"1\" class=\"dataframe\">\n",
              "  <thead>\n",
              "    <tr style=\"text-align: right;\">\n",
              "      <th></th>\n",
              "      <th>Cálculo1</th>\n",
              "      <th>LPT</th>\n",
              "      <th>P1</th>\n",
              "      <th>IC</th>\n",
              "      <th>Cálculo2</th>\n",
              "      <th>cra</th>\n",
              "    </tr>\n",
              "  </thead>\n",
              "  <tbody>\n",
              "    <tr>\n",
              "      <th>count</th>\n",
              "      <td>88.000000</td>\n",
              "      <td>88.000000</td>\n",
              "      <td>88.000000</td>\n",
              "      <td>88.000000</td>\n",
              "      <td>88.000000</td>\n",
              "      <td>88.000000</td>\n",
              "    </tr>\n",
              "    <tr>\n",
              "      <th>mean</th>\n",
              "      <td>7.200000</td>\n",
              "      <td>8.480114</td>\n",
              "      <td>7.407955</td>\n",
              "      <td>8.172727</td>\n",
              "      <td>6.323864</td>\n",
              "      <td>7.332535</td>\n",
              "    </tr>\n",
              "    <tr>\n",
              "      <th>std</th>\n",
              "      <td>1.228493</td>\n",
              "      <td>0.984522</td>\n",
              "      <td>1.346278</td>\n",
              "      <td>0.894007</td>\n",
              "      <td>1.293662</td>\n",
              "      <td>0.849758</td>\n",
              "    </tr>\n",
              "    <tr>\n",
              "      <th>min</th>\n",
              "      <td>5.000000</td>\n",
              "      <td>6.200000</td>\n",
              "      <td>5.000000</td>\n",
              "      <td>5.900000</td>\n",
              "      <td>5.000000</td>\n",
              "      <td>4.874468</td>\n",
              "    </tr>\n",
              "    <tr>\n",
              "      <th>25%</th>\n",
              "      <td>6.275000</td>\n",
              "      <td>7.700000</td>\n",
              "      <td>6.500000</td>\n",
              "      <td>7.500000</td>\n",
              "      <td>5.100000</td>\n",
              "      <td>6.841484</td>\n",
              "    </tr>\n",
              "    <tr>\n",
              "      <th>50%</th>\n",
              "      <td>7.200000</td>\n",
              "      <td>8.500000</td>\n",
              "      <td>7.750000</td>\n",
              "      <td>8.200000</td>\n",
              "      <td>5.800000</td>\n",
              "      <td>7.274746</td>\n",
              "    </tr>\n",
              "    <tr>\n",
              "      <th>75%</th>\n",
              "      <td>8.125000</td>\n",
              "      <td>9.300000</td>\n",
              "      <td>8.325000</td>\n",
              "      <td>8.800000</td>\n",
              "      <td>7.500000</td>\n",
              "      <td>7.883292</td>\n",
              "    </tr>\n",
              "    <tr>\n",
              "      <th>max</th>\n",
              "      <td>9.800000</td>\n",
              "      <td>10.000000</td>\n",
              "      <td>10.000000</td>\n",
              "      <td>10.000000</td>\n",
              "      <td>9.300000</td>\n",
              "      <td>9.090588</td>\n",
              "    </tr>\n",
              "  </tbody>\n",
              "</table>\n",
              "</div>"
            ],
            "text/plain": [
              "        Cálculo1        LPT         P1         IC   Cálculo2        cra\n",
              "count  88.000000  88.000000  88.000000  88.000000  88.000000  88.000000\n",
              "mean    7.200000   8.480114   7.407955   8.172727   6.323864   7.332535\n",
              "std     1.228493   0.984522   1.346278   0.894007   1.293662   0.849758\n",
              "min     5.000000   6.200000   5.000000   5.900000   5.000000   4.874468\n",
              "25%     6.275000   7.700000   6.500000   7.500000   5.100000   6.841484\n",
              "50%     7.200000   8.500000   7.750000   8.200000   5.800000   7.274746\n",
              "75%     8.125000   9.300000   8.325000   8.800000   7.500000   7.883292\n",
              "max     9.800000  10.000000  10.000000  10.000000   9.300000   9.090588"
            ]
          },
          "metadata": {
            "tags": []
          },
          "execution_count": 4
        }
      ]
    },
    {
      "cell_type": "markdown",
      "metadata": {
        "id": "w04_C7DmRisP",
        "colab_type": "text"
      },
      "source": [
        "# Partição Treino/Teste"
      ]
    },
    {
      "cell_type": "code",
      "metadata": {
        "id": "Ag2owOFhRm7y",
        "colab_type": "code",
        "colab": {}
      },
      "source": [
        "x = df[['Cálculo1', 'LPT', 'P1', 'IC', 'Cálculo2']]\n",
        "y = df.cra.values\n",
        "\n",
        "x_train, x_test, y_train, y_test = train_test_split(x, y, test_size=0.1, random_state=42)"
      ],
      "execution_count": 0,
      "outputs": []
    },
    {
      "cell_type": "code",
      "metadata": {
        "id": "5yzNMjM0ldsN",
        "colab_type": "code",
        "outputId": "4a60a9f9-c368-4818-f69d-46b25e249793",
        "colab": {
          "base_uri": "https://localhost:8080/",
          "height": 35
        }
      },
      "source": [
        "x_train.shape\n",
        "# y_train = y_train.reshape(-1, 1)\n",
        "# y_train.shape\n"
      ],
      "execution_count": 0,
      "outputs": [
        {
          "output_type": "execute_result",
          "data": {
            "text/plain": [
              "(79, 5)"
            ]
          },
          "metadata": {
            "tags": []
          },
          "execution_count": 6
        }
      ]
    },
    {
      "cell_type": "code",
      "metadata": {
        "id": "4Jdct4C7msco",
        "colab_type": "code",
        "outputId": "1cfad7df-6646-4c62-a294-22a1c64a56ed",
        "colab": {
          "base_uri": "https://localhost:8080/",
          "height": 125
        }
      },
      "source": [
        "corr = df.corr().loc[['cra'], :]\n",
        "\n",
        "sns.heatmap(corr, annot = True, fmt='.2f', cmap=plt.cm.Blues, square = True, cbar = False)"
      ],
      "execution_count": 0,
      "outputs": [
        {
          "output_type": "execute_result",
          "data": {
            "text/plain": [
              "<matplotlib.axes._subplots.AxesSubplot at 0x7ffa9aab9e80>"
            ]
          },
          "metadata": {
            "tags": []
          },
          "execution_count": 7
        },
        {
          "output_type": "display_data",
          "data": {
            "image/png": "[encoded data removed]",
            "text/plain": [
              "<Figure size 432x288 with 1 Axes>"
            ]
          },
          "metadata": {
            "tags": []
          }
        }
      ]
    },
    {
      "cell_type": "markdown",
      "metadata": {
        "id": "RAZnT1h7rROq",
        "colab_type": "text"
      },
      "source": [
        "Vemos que a variável melhor correlacionada é o IC."
      ]
    },
    {
      "cell_type": "markdown",
      "metadata": {
        "id": "bMC0EkQF2k_X",
        "colab_type": "text"
      },
      "source": [
        "# **Com a variável melhor correlacionada**"
      ]
    },
    {
      "cell_type": "code",
      "metadata": {
        "id": "fGMiq0dMy76O",
        "colab_type": "code",
        "outputId": "ac7373f8-c946-4cc2-a6c6-7497078bf977",
        "colab": {
          "base_uri": "https://localhost:8080/",
          "height": 35
        }
      },
      "source": [
        "x = df[['IC']]\n",
        "y = df.cra.values.reshape(-1, 1)\n",
        "x.shape, y.shape"
      ],
      "execution_count": 0,
      "outputs": [
        {
          "output_type": "execute_result",
          "data": {
            "text/plain": [
              "((88, 1), (88, 1))"
            ]
          },
          "metadata": {
            "tags": []
          },
          "execution_count": 8
        }
      ]
    },
    {
      "cell_type": "code",
      "metadata": {
        "id": "wuQ_uYynwhde",
        "colab_type": "code",
        "outputId": "62d5a4c5-5b27-4479-dac4-89e6fcc49c1e",
        "colab": {
          "base_uri": "https://localhost:8080/",
          "height": 35
        }
      },
      "source": [
        "x_train, x_test, y_train, y_test = train_test_split(x, y, test_size=0.1, random_state=42)\n",
        "x_train.shape, y_train.shape"
      ],
      "execution_count": 0,
      "outputs": [
        {
          "output_type": "execute_result",
          "data": {
            "text/plain": [
              "((79, 1), (79, 1))"
            ]
          },
          "metadata": {
            "tags": []
          },
          "execution_count": 9
        }
      ]
    },
    {
      "cell_type": "code",
      "metadata": {
        "id": "ujWKaF2brWZQ",
        "colab_type": "code",
        "outputId": "79280015-2ecc-45f5-a15c-1a0ba2c56e4f",
        "colab": {
          "base_uri": "https://localhost:8080/",
          "height": 35
        }
      },
      "source": [
        "lr1 = LinearRegression()\n",
        "lr1.fit(x_train, y_train)\n",
        "\n",
        "predicaoTreino = lr1.predict(x_train)\n",
        "\n",
        "rmseTreino = mse(y_train, predicaoTreino) ** 0.5\n",
        "rmseTreino\n",
        "\n"
      ],
      "execution_count": 0,
      "outputs": [
        {
          "output_type": "execute_result",
          "data": {
            "text/plain": [
              "0.7184727727075743"
            ]
          },
          "metadata": {
            "tags": []
          },
          "execution_count": 10
        }
      ]
    },
    {
      "cell_type": "code",
      "metadata": {
        "id": "r9A7x40Sx7PL",
        "colab_type": "code",
        "outputId": "56544f1d-8607-44f6-cb69-6135e67f2a64",
        "colab": {
          "base_uri": "https://localhost:8080/",
          "height": 35
        }
      },
      "source": [
        "predicaoTeste = lr1.predict(x_test)\n",
        "\n",
        "rmseTeste = mse(y_test, predicaoTeste) ** 0.5\n",
        "rmseTeste"
      ],
      "execution_count": 0,
      "outputs": [
        {
          "output_type": "execute_result",
          "data": {
            "text/plain": [
              "0.41428714967667374"
            ]
          },
          "metadata": {
            "tags": []
          },
          "execution_count": 11
        }
      ]
    },
    {
      "cell_type": "markdown",
      "metadata": {
        "id": "aO34zf9c1ihJ",
        "colab_type": "text"
      },
      "source": [
        "# **3 melhores correlacionadas**"
      ]
    },
    {
      "cell_type": "code",
      "metadata": {
        "id": "87DHNe7P1lfT",
        "colab_type": "code",
        "colab": {}
      },
      "source": [
        "x = df[['Cálculo1', 'P1', 'IC']]\n",
        "y = df.cra.values.reshape(-1, 1)"
      ],
      "execution_count": 0,
      "outputs": []
    },
    {
      "cell_type": "code",
      "metadata": {
        "id": "Rh3pWq0i2GNo",
        "colab_type": "code",
        "outputId": "18f3375b-d956-4611-bb46-9bd8609f5563",
        "colab": {
          "base_uri": "https://localhost:8080/",
          "height": 35
        }
      },
      "source": [
        "x_train, x_test, y_train, y_test = train_test_split(x, y, test_size=0.1, random_state=42)\n",
        "x_train.shape, y_train.shape\n"
      ],
      "execution_count": 0,
      "outputs": [
        {
          "output_type": "execute_result",
          "data": {
            "text/plain": [
              "((79, 3), (79, 1))"
            ]
          },
          "metadata": {
            "tags": []
          },
          "execution_count": 13
        }
      ]
    },
    {
      "cell_type": "code",
      "metadata": {
        "id": "NZPPtL1R2N75",
        "colab_type": "code",
        "outputId": "52f7a712-e12e-4d40-fc26-af0c4d72e871",
        "colab": {
          "base_uri": "https://localhost:8080/",
          "height": 35
        }
      },
      "source": [
        "lr2 = LinearRegression()\n",
        "lr2.fit(x_train, y_train)\n",
        "\n",
        "predicaoTreino = lr2.predict(x_train)\n",
        "\n",
        "rmseTreino = mse(y_train, predicaoTreino) ** 0.5\n",
        "rmseTreino"
      ],
      "execution_count": 0,
      "outputs": [
        {
          "output_type": "execute_result",
          "data": {
            "text/plain": [
              "0.664779133413628"
            ]
          },
          "metadata": {
            "tags": []
          },
          "execution_count": 14
        }
      ]
    },
    {
      "cell_type": "code",
      "metadata": {
        "id": "GeEupYZ12S4K",
        "colab_type": "code",
        "outputId": "19a5d4f0-5d46-41b8-f30d-c8a40e98b7f3",
        "colab": {
          "base_uri": "https://localhost:8080/",
          "height": 35
        }
      },
      "source": [
        "predicaoTeste = lr2.predict(x_test)\n",
        "\n",
        "rmseTeste = mse(y_test, predicaoTeste) ** 0.5\n",
        "rmseTeste"
      ],
      "execution_count": 0,
      "outputs": [
        {
          "output_type": "execute_result",
          "data": {
            "text/plain": [
              "0.4161371038950834"
            ]
          },
          "metadata": {
            "tags": []
          },
          "execution_count": 15
        }
      ]
    },
    {
      "cell_type": "markdown",
      "metadata": {
        "id": "n7PxHBJo2ah2",
        "colab_type": "text"
      },
      "source": [
        "# **Com todas as variáveis**"
      ]
    },
    {
      "cell_type": "code",
      "metadata": {
        "id": "U9plceE-2uAI",
        "colab_type": "code",
        "colab": {}
      },
      "source": [
        "x = df[['Cálculo1', 'LPT', 'P1', 'IC', 'Cálculo2']]\n",
        "y = df.cra.values.reshape(-1, 1)"
      ],
      "execution_count": 0,
      "outputs": []
    },
    {
      "cell_type": "code",
      "metadata": {
        "id": "SGWNy9h_3F3a",
        "colab_type": "code",
        "outputId": "b193442c-b550-4c2d-fb22-04f95bfc90c4",
        "colab": {
          "base_uri": "https://localhost:8080/",
          "height": 204
        }
      },
      "source": [
        "x_train, x_test, y_train, y_test = train_test_split(x, y, test_size=0.1, random_state=42)\n",
        "x_train.head()\n"
      ],
      "execution_count": 0,
      "outputs": [
        {
          "output_type": "execute_result",
          "data": {
            "text/html": [
              "<div>\n",
              "<style scoped>\n",
              "    .dataframe tbody tr th:only-of-type {\n",
              "        vertical-align: middle;\n",
              "    }\n",
              "\n",
              "    .dataframe tbody tr th {\n",
              "        vertical-align: top;\n",
              "    }\n",
              "\n",
              "    .dataframe thead th {\n",
              "        text-align: right;\n",
              "    }\n",
              "</style>\n",
              "<table border=\"1\" class=\"dataframe\">\n",
              "  <thead>\n",
              "    <tr style=\"text-align: right;\">\n",
              "      <th></th>\n",
              "      <th>Cálculo1</th>\n",
              "      <th>LPT</th>\n",
              "      <th>P1</th>\n",
              "      <th>IC</th>\n",
              "      <th>Cálculo2</th>\n",
              "    </tr>\n",
              "  </thead>\n",
              "  <tbody>\n",
              "    <tr>\n",
              "      <th>68</th>\n",
              "      <td>7.0</td>\n",
              "      <td>8.0</td>\n",
              "      <td>7.0</td>\n",
              "      <td>8.6</td>\n",
              "      <td>5.3</td>\n",
              "    </tr>\n",
              "    <tr>\n",
              "      <th>85</th>\n",
              "      <td>5.0</td>\n",
              "      <td>7.2</td>\n",
              "      <td>7.8</td>\n",
              "      <td>7.4</td>\n",
              "      <td>5.3</td>\n",
              "    </tr>\n",
              "    <tr>\n",
              "      <th>65</th>\n",
              "      <td>7.5</td>\n",
              "      <td>8.5</td>\n",
              "      <td>7.3</td>\n",
              "      <td>8.6</td>\n",
              "      <td>7.0</td>\n",
              "    </tr>\n",
              "    <tr>\n",
              "      <th>53</th>\n",
              "      <td>7.2</td>\n",
              "      <td>9.1</td>\n",
              "      <td>8.2</td>\n",
              "      <td>8.9</td>\n",
              "      <td>5.2</td>\n",
              "    </tr>\n",
              "    <tr>\n",
              "      <th>80</th>\n",
              "      <td>7.2</td>\n",
              "      <td>8.3</td>\n",
              "      <td>7.8</td>\n",
              "      <td>8.1</td>\n",
              "      <td>9.3</td>\n",
              "    </tr>\n",
              "  </tbody>\n",
              "</table>\n",
              "</div>"
            ],
            "text/plain": [
              "    Cálculo1  LPT   P1   IC  Cálculo2\n",
              "68       7.0  8.0  7.0  8.6       5.3\n",
              "85       5.0  7.2  7.8  7.4       5.3\n",
              "65       7.5  8.5  7.3  8.6       7.0\n",
              "53       7.2  9.1  8.2  8.9       5.2\n",
              "80       7.2  8.3  7.8  8.1       9.3"
            ]
          },
          "metadata": {
            "tags": []
          },
          "execution_count": 17
        }
      ]
    },
    {
      "cell_type": "code",
      "metadata": {
        "id": "UegkWG-23Kyy",
        "colab_type": "code",
        "outputId": "0173350d-8e72-4691-af9e-ce6fb39e1b1b",
        "colab": {
          "base_uri": "https://localhost:8080/",
          "height": 35
        }
      },
      "source": [
        "lr3 = LinearRegression()\n",
        "lr3.fit(x_train, y_train)\n",
        "\n",
        "predicaoTreino = lr3.predict(x_train)\n",
        "\n",
        "rmseTreino = mse(y_train, predicaoTreino) ** 0.5\n",
        "rmseTreino"
      ],
      "execution_count": 0,
      "outputs": [
        {
          "output_type": "execute_result",
          "data": {
            "text/plain": [
              "0.6627294390302053"
            ]
          },
          "metadata": {
            "tags": []
          },
          "execution_count": 18
        }
      ]
    },
    {
      "cell_type": "code",
      "metadata": {
        "id": "X2hBqRoz3RAm",
        "colab_type": "code",
        "outputId": "a196b6ab-841c-4f42-b3d1-55e1735a78c5",
        "colab": {
          "base_uri": "https://localhost:8080/",
          "height": 35
        }
      },
      "source": [
        "predicaoTeste = lr3.predict(x_test)\n",
        "\n",
        "rmseTeste = mse(y_test, predicaoTeste) ** 0.5\n",
        "rmseTeste"
      ],
      "execution_count": 0,
      "outputs": [
        {
          "output_type": "execute_result",
          "data": {
            "text/plain": [
              "0.44108516932368397"
            ]
          },
          "metadata": {
            "tags": []
          },
          "execution_count": 19
        }
      ]
    },
    {
      "cell_type": "markdown",
      "metadata": {
        "id": "BmYWtv0ell7J",
        "colab_type": "text"
      },
      "source": [
        "O melhor modelo foi o modelo inicial, onde é utilizado apenas o valor de IC, pois ele é o que possui melhor valor de correlação, em relação às outras variáveis."
      ]
    },
    {
      "cell_type": "markdown",
      "metadata": {
        "id": "pbhGRtW7lzpb",
        "colab_type": "text"
      },
      "source": [
        "# Mais de uma partição aleató**ria**"
      ]
    },
    {
      "cell_type": "code",
      "metadata": {
        "id": "ieQRS-nhl8Ec",
        "colab_type": "code",
        "colab": {}
      },
      "source": [
        "x = df[['Cálculo1', 'LPT', 'P1', 'IC', 'Cálculo2']]\n",
        "y = df.cra.values.reshape(-1, 1)"
      ],
      "execution_count": 0,
      "outputs": []
    },
    {
      "cell_type": "code",
      "metadata": {
        "id": "kAfBoHHLrIZy",
        "colab_type": "code",
        "colab": {}
      },
      "source": [
        "somaUmaTreino, somaUmaTeste, somaTresTreino, somaTresTeste, somaTodasTreino, somaTodasTeste = 0, 0, 0, 0, 0, 0\n",
        "\n",
        "j = 0\n",
        "for i in range(10):\n",
        "  x_train, x_test, y_train, y_test = train_test_split(x, y, test_size=0.1, random_state=j)\n",
        "  somaUmaTreino += (mse(y_train, lr1.predict(x_train[['IC']])) ** 0.5)\n",
        "  somaUmaTeste += (mse(y_test, lr1.predict(x_test[['IC']])) ** 0.5)\n",
        "  \n",
        "  somaTresTreino += (mse(y_train, lr2.predict(x_train[['Cálculo1', 'P1', 'IC']])) ** 0.5)\n",
        "  somaTresTeste += (mse(y_test, lr2.predict(x_test[['Cálculo1', 'P1', 'IC']])) ** 0.5)\n",
        "  \n",
        "  somaTodasTreino += (mse(y_train, lr3.predict(x_train)) ** 0.5)\n",
        "  somaTodasTeste += (mse(y_test, lr3.predict(x_test)) ** 0.5)\n",
        "  j += 10"
      ],
      "execution_count": 0,
      "outputs": []
    },
    {
      "cell_type": "code",
      "metadata": {
        "id": "2DpzoSQLKK_h",
        "colab_type": "code",
        "colab": {}
      },
      "source": [
        "mediaModelo3Treino = somaUmaTreino / 10\n",
        "mediaModelo3Teste = somaUmaTeste / 10\n",
        "\n",
        "mediaModelo4Treino = somaTresTreino / 10\n",
        "mediaModelo4Teste = somaTresTeste / 10\n",
        "\n",
        "mediaModelo5Treino = somaTodasTreino / 10\n",
        "mediaModelo5Teste = somaTodasTeste / 10"
      ],
      "execution_count": 0,
      "outputs": []
    },
    {
      "cell_type": "code",
      "metadata": {
        "id": "1GxQw0oRJ-4e",
        "colab_type": "code",
        "outputId": "55600bd2-79c0-4d16-897d-bad9f0cbfb1c",
        "colab": {
          "base_uri": "https://localhost:8080/",
          "height": 337
        }
      },
      "source": [
        "treino = [mediaModelo3Treino, mediaModelo4Treino, mediaModelo5Treino]\n",
        "teste = [mediaModelo3Teste, mediaModelo4Teste, mediaModelo5Teste]\n",
        "\n",
        "barWidth = 0.25\n",
        "\n",
        "plt.figure(figsize=(10,5))\n",
        "\n",
        "r1 = np.arange(len(treino))\n",
        "r2 = [x + barWidth for x in r1]\n",
        "\n",
        "plt.bar(r1, treino, color='blue', width=barWidth, label='Treino')\n",
        "plt.bar(r2, teste, color='red', width=barWidth, label='Teste')\n",
        "\n",
        "plt.xlabel('Modelos')\n",
        "plt.xticks([r + barWidth for r in range(len(treino))], ['Modelo1', 'Modelo2', 'Modelo3'])\n",
        "plt.ylabel('rmse')\n",
        "\n",
        "plt.legend()\n",
        "plt.show()"
      ],
      "execution_count": 0,
      "outputs": [
        {
          "output_type": "display_data",
          "data": {
            "image/png": "[encoded data removed]",
            "text/plain": [
              "<Figure size 720x360 with 1 Axes>"
            ]
          },
          "metadata": {
            "tags": []
          }
        }
      ]
    }
  ]
}