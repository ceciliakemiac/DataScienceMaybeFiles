{
  "nbformat": 4,
  "nbformat_minor": 0,
  "metadata": {
    "colab": {
      "name": "Lab3 - desempenho de times nos campeonatos europeus.ipynb",
      "provenance": [],
      "collapsed_sections": []
    },
    "kernelspec": {
      "name": "python3",
      "display_name": "Python 3"
    }
  },
  "cells": [
    {
      "cell_type": "code",
      "metadata": {
        "id": "V-BMoLDvb9Rc",
        "colab_type": "code",
        "colab": {}
      },
      "source": [
        "import numpy as np\n",
        "import pandas as pd\n",
        "import matplotlib.pyplot as plt\n",
        "import seaborn as sns\n",
        "from statistics import mean "
      ],
      "execution_count": 0,
      "outputs": []
    },
    {
      "cell_type": "code",
      "metadata": {
        "id": "1YnQ5iXWiQ6l",
        "colab_type": "code",
        "outputId": "edda4810-3071-4468-ba03-4d30cad0007c",
        "colab": {
          "base_uri": "https://localhost:8080/",
          "height": 35
        }
      },
      "source": [
        "df_train = pd.read_csv('https://raw.githubusercontent.com/ceciliakemiac/DataScienceMaybeFiles/master/data/lab3_train.csv')\n",
        "df_train.shape"
      ],
      "execution_count": 0,
      "outputs": [
        {
          "output_type": "execute_result",
          "data": {
            "text/plain": [
              "(5729, 44)"
            ]
          },
          "metadata": {
            "tags": []
          },
          "execution_count": 3
        }
      ]
    },
    {
      "cell_type": "code",
      "metadata": {
        "id": "srQERJkeiPAr",
        "colab_type": "code",
        "outputId": "7162dbe1-ab88-4620-f7bb-0b12a343aff5",
        "colab": {
          "base_uri": "https://localhost:8080/",
          "height": 35
        }
      },
      "source": [
        "df_test = pd.read_csv('https://raw.githubusercontent.com/ceciliakemiac/DataScienceMaybeFiles/master/data/lab3_test.csv')\n",
        "df_test.shape"
      ],
      "execution_count": 0,
      "outputs": [
        {
          "output_type": "execute_result",
          "data": {
            "text/plain": [
              "(2848, 43)"
            ]
          },
          "metadata": {
            "tags": []
          },
          "execution_count": 4
        }
      ]
    },
    {
      "cell_type": "code",
      "metadata": {
        "id": "XKhQgJv9iX0R",
        "colab_type": "code",
        "outputId": "938ace5b-bb1c-4c9d-a5b2-a5b81e0b8534",
        "colab": {
          "base_uri": "https://localhost:8080/",
          "height": 275
        }
      },
      "source": [
        "df_train.head()"
      ],
      "execution_count": 0,
      "outputs": [
        {
          "output_type": "execute_result",
          "data": {
            "text/html": [
              "<div>\n",
              "<style scoped>\n",
              "    .dataframe tbody tr th:only-of-type {\n",
              "        vertical-align: middle;\n",
              "    }\n",
              "\n",
              "    .dataframe tbody tr th {\n",
              "        vertical-align: top;\n",
              "    }\n",
              "\n",
              "    .dataframe thead th {\n",
              "        text-align: right;\n",
              "    }\n",
              "</style>\n",
              "<table border=\"1\" class=\"dataframe\">\n",
              "  <thead>\n",
              "    <tr style=\"text-align: right;\">\n",
              "      <th></th>\n",
              "      <th>ID</th>\n",
              "      <th>League</th>\n",
              "      <th>Date</th>\n",
              "      <th>HomeTeam</th>\n",
              "      <th>AwayTeam</th>\n",
              "      <th>B365H</th>\n",
              "      <th>B365D</th>\n",
              "      <th>B365A</th>\n",
              "      <th>BWH</th>\n",
              "      <th>BWD</th>\n",
              "      <th>BWA</th>\n",
              "      <th>IWH</th>\n",
              "      <th>IWD</th>\n",
              "      <th>IWA</th>\n",
              "      <th>LBH</th>\n",
              "      <th>LBD</th>\n",
              "      <th>LBA</th>\n",
              "      <th>PSH</th>\n",
              "      <th>PSD</th>\n",
              "      <th>PSA</th>\n",
              "      <th>WHH</th>\n",
              "      <th>WHD</th>\n",
              "      <th>WHA</th>\n",
              "      <th>VCH</th>\n",
              "      <th>VCD</th>\n",
              "      <th>VCA</th>\n",
              "      <th>BbMx&gt;2.5</th>\n",
              "      <th>BbAv&gt;2.5</th>\n",
              "      <th>BbMx&lt;2.5</th>\n",
              "      <th>BbAv&lt;2.5</th>\n",
              "      <th>Year</th>\n",
              "      <th>HS</th>\n",
              "      <th>HST</th>\n",
              "      <th>HF</th>\n",
              "      <th>HC</th>\n",
              "      <th>HY</th>\n",
              "      <th>HR</th>\n",
              "      <th>AS</th>\n",
              "      <th>AST</th>\n",
              "      <th>AF</th>\n",
              "      <th>AC</th>\n",
              "      <th>AY</th>\n",
              "      <th>AR</th>\n",
              "      <th>Result</th>\n",
              "    </tr>\n",
              "  </thead>\n",
              "  <tbody>\n",
              "    <tr>\n",
              "      <th>0</th>\n",
              "      <td>GER310812#0</td>\n",
              "      <td>Germany</td>\n",
              "      <td>31/08/12</td>\n",
              "      <td>Mainz</td>\n",
              "      <td>Greuther Furth</td>\n",
              "      <td>0.555556</td>\n",
              "      <td>0.285714</td>\n",
              "      <td>0.222222</td>\n",
              "      <td>0.534759</td>\n",
              "      <td>0.285714</td>\n",
              "      <td>0.230947</td>\n",
              "      <td>0.555556</td>\n",
              "      <td>0.294118</td>\n",
              "      <td>0.250000</td>\n",
              "      <td>0.546448</td>\n",
              "      <td>0.285714</td>\n",
              "      <td>0.230947</td>\n",
              "      <td>0.537634</td>\n",
              "      <td>0.270270</td>\n",
              "      <td>0.212766</td>\n",
              "      <td>0.546448</td>\n",
              "      <td>0.285714</td>\n",
              "      <td>0.230947</td>\n",
              "      <td>0.540541</td>\n",
              "      <td>0.270270</td>\n",
              "      <td>0.217391</td>\n",
              "      <td>2.09</td>\n",
              "      <td>1.98</td>\n",
              "      <td>1.94</td>\n",
              "      <td>1.83</td>\n",
              "      <td>2013</td>\n",
              "      <td>[8.0]</td>\n",
              "      <td>[3.0]</td>\n",
              "      <td>[13.0]</td>\n",
              "      <td>[8.0]</td>\n",
              "      <td>[2.0]</td>\n",
              "      <td>[0.0]</td>\n",
              "      <td>[8.0]</td>\n",
              "      <td>[3.0]</td>\n",
              "      <td>[13.0]</td>\n",
              "      <td>[8.0]</td>\n",
              "      <td>[2.0]</td>\n",
              "      <td>[0.0]</td>\n",
              "      <td>0</td>\n",
              "    </tr>\n",
              "    <tr>\n",
              "      <th>1</th>\n",
              "      <td>GER010912#0</td>\n",
              "      <td>Germany</td>\n",
              "      <td>01/09/12</td>\n",
              "      <td>Fortuna Dusseldorf</td>\n",
              "      <td>M'gladbach</td>\n",
              "      <td>0.344828</td>\n",
              "      <td>0.303030</td>\n",
              "      <td>0.416667</td>\n",
              "      <td>0.333333</td>\n",
              "      <td>0.303030</td>\n",
              "      <td>0.434783</td>\n",
              "      <td>0.344828</td>\n",
              "      <td>0.322581</td>\n",
              "      <td>0.434783</td>\n",
              "      <td>0.333333</td>\n",
              "      <td>0.294118</td>\n",
              "      <td>0.434783</td>\n",
              "      <td>0.312500</td>\n",
              "      <td>0.293255</td>\n",
              "      <td>0.414938</td>\n",
              "      <td>0.333333</td>\n",
              "      <td>0.303030</td>\n",
              "      <td>0.425532</td>\n",
              "      <td>0.312500</td>\n",
              "      <td>0.294118</td>\n",
              "      <td>0.416667</td>\n",
              "      <td>2.11</td>\n",
              "      <td>2.00</td>\n",
              "      <td>1.90</td>\n",
              "      <td>1.80</td>\n",
              "      <td>2013</td>\n",
              "      <td>[9.0]</td>\n",
              "      <td>[4.0]</td>\n",
              "      <td>[14.0]</td>\n",
              "      <td>[0.0]</td>\n",
              "      <td>[2.0]</td>\n",
              "      <td>[0.0]</td>\n",
              "      <td>[9.0]</td>\n",
              "      <td>[4.0]</td>\n",
              "      <td>[14.0]</td>\n",
              "      <td>[0.0]</td>\n",
              "      <td>[2.0]</td>\n",
              "      <td>[0.0]</td>\n",
              "      <td>1</td>\n",
              "    </tr>\n",
              "    <tr>\n",
              "      <th>2</th>\n",
              "      <td>GER010912#1</td>\n",
              "      <td>Germany</td>\n",
              "      <td>01/09/12</td>\n",
              "      <td>Hoffenheim</td>\n",
              "      <td>Ein Frankfurt</td>\n",
              "      <td>0.487805</td>\n",
              "      <td>0.294118</td>\n",
              "      <td>0.285714</td>\n",
              "      <td>0.487805</td>\n",
              "      <td>0.303030</td>\n",
              "      <td>0.263158</td>\n",
              "      <td>0.512821</td>\n",
              "      <td>0.303030</td>\n",
              "      <td>0.277778</td>\n",
              "      <td>0.500000</td>\n",
              "      <td>0.294118</td>\n",
              "      <td>0.266667</td>\n",
              "      <td>0.480769</td>\n",
              "      <td>0.277778</td>\n",
              "      <td>0.261780</td>\n",
              "      <td>0.487805</td>\n",
              "      <td>0.294118</td>\n",
              "      <td>0.285714</td>\n",
              "      <td>0.487805</td>\n",
              "      <td>0.277778</td>\n",
              "      <td>0.263158</td>\n",
              "      <td>2.00</td>\n",
              "      <td>1.93</td>\n",
              "      <td>1.95</td>\n",
              "      <td>1.88</td>\n",
              "      <td>2013</td>\n",
              "      <td>[14.0]</td>\n",
              "      <td>[8.0]</td>\n",
              "      <td>[6.0]</td>\n",
              "      <td>[4.0]</td>\n",
              "      <td>[0.0]</td>\n",
              "      <td>[0.0]</td>\n",
              "      <td>[14.0]</td>\n",
              "      <td>[8.0]</td>\n",
              "      <td>[6.0]</td>\n",
              "      <td>[4.0]</td>\n",
              "      <td>[0.0]</td>\n",
              "      <td>[0.0]</td>\n",
              "      <td>0</td>\n",
              "    </tr>\n",
              "    <tr>\n",
              "      <th>3</th>\n",
              "      <td>GER010912#2</td>\n",
              "      <td>Germany</td>\n",
              "      <td>01/09/12</td>\n",
              "      <td>Leverkusen</td>\n",
              "      <td>Freiburg</td>\n",
              "      <td>0.636943</td>\n",
              "      <td>0.250000</td>\n",
              "      <td>0.181818</td>\n",
              "      <td>0.617284</td>\n",
              "      <td>0.256410</td>\n",
              "      <td>0.200000</td>\n",
              "      <td>0.645161</td>\n",
              "      <td>0.270270</td>\n",
              "      <td>0.185185</td>\n",
              "      <td>0.636943</td>\n",
              "      <td>0.266667</td>\n",
              "      <td>0.166667</td>\n",
              "      <td>0.613497</td>\n",
              "      <td>0.238095</td>\n",
              "      <td>0.170940</td>\n",
              "      <td>0.636943</td>\n",
              "      <td>0.266667</td>\n",
              "      <td>0.166667</td>\n",
              "      <td>0.617284</td>\n",
              "      <td>0.238095</td>\n",
              "      <td>0.173913</td>\n",
              "      <td>1.69</td>\n",
              "      <td>1.62</td>\n",
              "      <td>2.44</td>\n",
              "      <td>2.25</td>\n",
              "      <td>2013</td>\n",
              "      <td>[19.0]</td>\n",
              "      <td>[10.0]</td>\n",
              "      <td>[22.0]</td>\n",
              "      <td>[7.0]</td>\n",
              "      <td>[2.0]</td>\n",
              "      <td>[0.0]</td>\n",
              "      <td>[19.0]</td>\n",
              "      <td>[10.0]</td>\n",
              "      <td>[22.0]</td>\n",
              "      <td>[7.0]</td>\n",
              "      <td>[2.0]</td>\n",
              "      <td>[0.0]</td>\n",
              "      <td>2</td>\n",
              "    </tr>\n",
              "    <tr>\n",
              "      <th>4</th>\n",
              "      <td>GER010912#3</td>\n",
              "      <td>Germany</td>\n",
              "      <td>01/09/12</td>\n",
              "      <td>Nurnberg</td>\n",
              "      <td>Dortmund</td>\n",
              "      <td>0.166667</td>\n",
              "      <td>0.250000</td>\n",
              "      <td>0.645161</td>\n",
              "      <td>0.166667</td>\n",
              "      <td>0.250000</td>\n",
              "      <td>0.653595</td>\n",
              "      <td>0.185185</td>\n",
              "      <td>0.270270</td>\n",
              "      <td>0.645161</td>\n",
              "      <td>0.166667</td>\n",
              "      <td>0.250000</td>\n",
              "      <td>0.653595</td>\n",
              "      <td>0.162075</td>\n",
              "      <td>0.235294</td>\n",
              "      <td>0.621118</td>\n",
              "      <td>0.161290</td>\n",
              "      <td>0.250000</td>\n",
              "      <td>0.653595</td>\n",
              "      <td>0.160000</td>\n",
              "      <td>0.238095</td>\n",
              "      <td>0.636943</td>\n",
              "      <td>1.83</td>\n",
              "      <td>1.76</td>\n",
              "      <td>2.16</td>\n",
              "      <td>2.07</td>\n",
              "      <td>2013</td>\n",
              "      <td>[18.0]</td>\n",
              "      <td>[8.0]</td>\n",
              "      <td>[20.0]</td>\n",
              "      <td>[6.0]</td>\n",
              "      <td>[2.0]</td>\n",
              "      <td>[0.0]</td>\n",
              "      <td>[18.0]</td>\n",
              "      <td>[8.0]</td>\n",
              "      <td>[20.0]</td>\n",
              "      <td>[6.0]</td>\n",
              "      <td>[2.0]</td>\n",
              "      <td>[0.0]</td>\n",
              "      <td>1</td>\n",
              "    </tr>\n",
              "  </tbody>\n",
              "</table>\n",
              "</div>"
            ],
            "text/plain": [
              "            ID   League      Date  ...     AY     AR  Result\n",
              "0  GER310812#0  Germany  31/08/12  ...  [2.0]  [0.0]       0\n",
              "1  GER010912#0  Germany  01/09/12  ...  [2.0]  [0.0]       1\n",
              "2  GER010912#1  Germany  01/09/12  ...  [0.0]  [0.0]       0\n",
              "3  GER010912#2  Germany  01/09/12  ...  [2.0]  [0.0]       2\n",
              "4  GER010912#3  Germany  01/09/12  ...  [2.0]  [0.0]       1\n",
              "\n",
              "[5 rows x 44 columns]"
            ]
          },
          "metadata": {
            "tags": []
          },
          "execution_count": 26
        }
      ]
    },
    {
      "cell_type": "code",
      "metadata": {
        "id": "elULPdPJieOi",
        "colab_type": "code",
        "outputId": "c61b5c30-4531-42a6-fcf4-6072aaf7cbdc",
        "colab": {
          "base_uri": "https://localhost:8080/",
          "height": 258
        }
      },
      "source": [
        "df_test.head()"
      ],
      "execution_count": 0,
      "outputs": [
        {
          "output_type": "execute_result",
          "data": {
            "text/html": [
              "<div>\n",
              "<style scoped>\n",
              "    .dataframe tbody tr th:only-of-type {\n",
              "        vertical-align: middle;\n",
              "    }\n",
              "\n",
              "    .dataframe tbody tr th {\n",
              "        vertical-align: top;\n",
              "    }\n",
              "\n",
              "    .dataframe thead th {\n",
              "        text-align: right;\n",
              "    }\n",
              "</style>\n",
              "<table border=\"1\" class=\"dataframe\">\n",
              "  <thead>\n",
              "    <tr style=\"text-align: right;\">\n",
              "      <th></th>\n",
              "      <th>ID</th>\n",
              "      <th>League</th>\n",
              "      <th>Date</th>\n",
              "      <th>HomeTeam</th>\n",
              "      <th>AwayTeam</th>\n",
              "      <th>B365H</th>\n",
              "      <th>B365D</th>\n",
              "      <th>B365A</th>\n",
              "      <th>BWH</th>\n",
              "      <th>BWD</th>\n",
              "      <th>BWA</th>\n",
              "      <th>IWH</th>\n",
              "      <th>IWD</th>\n",
              "      <th>IWA</th>\n",
              "      <th>LBH</th>\n",
              "      <th>LBD</th>\n",
              "      <th>LBA</th>\n",
              "      <th>PSH</th>\n",
              "      <th>PSD</th>\n",
              "      <th>PSA</th>\n",
              "      <th>WHH</th>\n",
              "      <th>WHD</th>\n",
              "      <th>WHA</th>\n",
              "      <th>VCH</th>\n",
              "      <th>VCD</th>\n",
              "      <th>VCA</th>\n",
              "      <th>BbMx&gt;2.5</th>\n",
              "      <th>BbAv&gt;2.5</th>\n",
              "      <th>BbMx&lt;2.5</th>\n",
              "      <th>BbAv&lt;2.5</th>\n",
              "      <th>Year</th>\n",
              "      <th>HS</th>\n",
              "      <th>HST</th>\n",
              "      <th>HF</th>\n",
              "      <th>HC</th>\n",
              "      <th>HY</th>\n",
              "      <th>HR</th>\n",
              "      <th>AS</th>\n",
              "      <th>AST</th>\n",
              "      <th>AF</th>\n",
              "      <th>AC</th>\n",
              "      <th>AY</th>\n",
              "      <th>AR</th>\n",
              "    </tr>\n",
              "  </thead>\n",
              "  <tbody>\n",
              "    <tr>\n",
              "      <th>0</th>\n",
              "      <td>ENG010117#0</td>\n",
              "      <td>Germany</td>\n",
              "      <td>09/09/16</td>\n",
              "      <td>Schalke 04</td>\n",
              "      <td>Bayern Munich</td>\n",
              "      <td>0.100000</td>\n",
              "      <td>0.181818</td>\n",
              "      <td>0.769231</td>\n",
              "      <td>0.090909</td>\n",
              "      <td>0.173913</td>\n",
              "      <td>0.769231</td>\n",
              "      <td>0.117647</td>\n",
              "      <td>0.200000</td>\n",
              "      <td>0.740741</td>\n",
              "      <td>0.100000</td>\n",
              "      <td>0.190476</td>\n",
              "      <td>0.769231</td>\n",
              "      <td>0.092251</td>\n",
              "      <td>0.169779</td>\n",
              "      <td>0.757576</td>\n",
              "      <td>0.111111</td>\n",
              "      <td>0.181818</td>\n",
              "      <td>0.769231</td>\n",
              "      <td>0.090909</td>\n",
              "      <td>0.173913</td>\n",
              "      <td>0.775194</td>\n",
              "      <td>1.61</td>\n",
              "      <td>1.55</td>\n",
              "      <td>2.62</td>\n",
              "      <td>2.38</td>\n",
              "      <td>2017</td>\n",
              "      <td>[11]</td>\n",
              "      <td>[3]</td>\n",
              "      <td>[15]</td>\n",
              "      <td>[5]</td>\n",
              "      <td>[2]</td>\n",
              "      <td>[0]</td>\n",
              "      <td>[11]</td>\n",
              "      <td>[3]</td>\n",
              "      <td>[15]</td>\n",
              "      <td>[5]</td>\n",
              "      <td>[2]</td>\n",
              "      <td>[0]</td>\n",
              "    </tr>\n",
              "    <tr>\n",
              "      <th>1</th>\n",
              "      <td>ENG010117#1</td>\n",
              "      <td>Germany</td>\n",
              "      <td>10/09/16</td>\n",
              "      <td>Darmstadt</td>\n",
              "      <td>Ein Frankfurt</td>\n",
              "      <td>0.333333</td>\n",
              "      <td>0.303030</td>\n",
              "      <td>0.416667</td>\n",
              "      <td>0.333333</td>\n",
              "      <td>0.303030</td>\n",
              "      <td>0.416667</td>\n",
              "      <td>0.344828</td>\n",
              "      <td>0.312500</td>\n",
              "      <td>0.400000</td>\n",
              "      <td>0.333333</td>\n",
              "      <td>0.307692</td>\n",
              "      <td>0.434783</td>\n",
              "      <td>0.311526</td>\n",
              "      <td>0.294985</td>\n",
              "      <td>0.413223</td>\n",
              "      <td>0.357143</td>\n",
              "      <td>0.312500</td>\n",
              "      <td>0.400000</td>\n",
              "      <td>0.319489</td>\n",
              "      <td>0.294118</td>\n",
              "      <td>0.420168</td>\n",
              "      <td>2.15</td>\n",
              "      <td>2.09</td>\n",
              "      <td>1.79</td>\n",
              "      <td>1.73</td>\n",
              "      <td>2017</td>\n",
              "      <td>[12]</td>\n",
              "      <td>[3]</td>\n",
              "      <td>[15]</td>\n",
              "      <td>[5]</td>\n",
              "      <td>[3]</td>\n",
              "      <td>[0]</td>\n",
              "      <td>[12]</td>\n",
              "      <td>[3]</td>\n",
              "      <td>[15]</td>\n",
              "      <td>[5]</td>\n",
              "      <td>[3]</td>\n",
              "      <td>[0]</td>\n",
              "    </tr>\n",
              "    <tr>\n",
              "      <th>2</th>\n",
              "      <td>ENG01012018#0</td>\n",
              "      <td>Germany</td>\n",
              "      <td>10/09/16</td>\n",
              "      <td>Freiburg</td>\n",
              "      <td>M'gladbach</td>\n",
              "      <td>0.277778</td>\n",
              "      <td>0.277778</td>\n",
              "      <td>0.500000</td>\n",
              "      <td>0.270270</td>\n",
              "      <td>0.277778</td>\n",
              "      <td>0.500000</td>\n",
              "      <td>0.263158</td>\n",
              "      <td>0.294118</td>\n",
              "      <td>0.500000</td>\n",
              "      <td>0.285714</td>\n",
              "      <td>0.277778</td>\n",
              "      <td>0.500000</td>\n",
              "      <td>0.264550</td>\n",
              "      <td>0.265252</td>\n",
              "      <td>0.490196</td>\n",
              "      <td>0.266667</td>\n",
              "      <td>0.312500</td>\n",
              "      <td>0.487805</td>\n",
              "      <td>0.285714</td>\n",
              "      <td>0.266667</td>\n",
              "      <td>0.487805</td>\n",
              "      <td>1.75</td>\n",
              "      <td>1.68</td>\n",
              "      <td>2.30</td>\n",
              "      <td>2.17</td>\n",
              "      <td>2017</td>\n",
              "      <td>[8]</td>\n",
              "      <td>[2]</td>\n",
              "      <td>[10]</td>\n",
              "      <td>[2]</td>\n",
              "      <td>[3]</td>\n",
              "      <td>[0]</td>\n",
              "      <td>[8]</td>\n",
              "      <td>[2]</td>\n",
              "      <td>[10]</td>\n",
              "      <td>[2]</td>\n",
              "      <td>[3]</td>\n",
              "      <td>[0]</td>\n",
              "    </tr>\n",
              "    <tr>\n",
              "      <th>3</th>\n",
              "      <td>ENG01012018#1</td>\n",
              "      <td>Germany</td>\n",
              "      <td>10/09/16</td>\n",
              "      <td>Ingolstadt</td>\n",
              "      <td>Hertha</td>\n",
              "      <td>0.416667</td>\n",
              "      <td>0.322581</td>\n",
              "      <td>0.312500</td>\n",
              "      <td>0.408163</td>\n",
              "      <td>0.322581</td>\n",
              "      <td>0.322581</td>\n",
              "      <td>0.416667</td>\n",
              "      <td>0.312500</td>\n",
              "      <td>0.327869</td>\n",
              "      <td>0.416667</td>\n",
              "      <td>0.333333</td>\n",
              "      <td>0.322581</td>\n",
              "      <td>0.398406</td>\n",
              "      <td>0.318471</td>\n",
              "      <td>0.303951</td>\n",
              "      <td>0.400000</td>\n",
              "      <td>0.322581</td>\n",
              "      <td>0.344828</td>\n",
              "      <td>0.408163</td>\n",
              "      <td>0.312500</td>\n",
              "      <td>0.319489</td>\n",
              "      <td>2.66</td>\n",
              "      <td>2.47</td>\n",
              "      <td>1.60</td>\n",
              "      <td>1.53</td>\n",
              "      <td>2017</td>\n",
              "      <td>[13]</td>\n",
              "      <td>[5]</td>\n",
              "      <td>[15]</td>\n",
              "      <td>[5]</td>\n",
              "      <td>[2]</td>\n",
              "      <td>[0]</td>\n",
              "      <td>[13]</td>\n",
              "      <td>[5]</td>\n",
              "      <td>[15]</td>\n",
              "      <td>[5]</td>\n",
              "      <td>[2]</td>\n",
              "      <td>[0]</td>\n",
              "    </tr>\n",
              "    <tr>\n",
              "      <th>4</th>\n",
              "      <td>ENG01012018#2</td>\n",
              "      <td>Germany</td>\n",
              "      <td>10/09/16</td>\n",
              "      <td>Leverkusen</td>\n",
              "      <td>Hamburg</td>\n",
              "      <td>0.689655</td>\n",
              "      <td>0.222222</td>\n",
              "      <td>0.142857</td>\n",
              "      <td>0.666667</td>\n",
              "      <td>0.230947</td>\n",
              "      <td>0.153846</td>\n",
              "      <td>0.645161</td>\n",
              "      <td>0.250000</td>\n",
              "      <td>0.161290</td>\n",
              "      <td>0.694444</td>\n",
              "      <td>0.230947</td>\n",
              "      <td>0.142857</td>\n",
              "      <td>0.671141</td>\n",
              "      <td>0.215054</td>\n",
              "      <td>0.132802</td>\n",
              "      <td>0.666667</td>\n",
              "      <td>0.238095</td>\n",
              "      <td>0.153846</td>\n",
              "      <td>0.689655</td>\n",
              "      <td>0.217391</td>\n",
              "      <td>0.142857</td>\n",
              "      <td>1.79</td>\n",
              "      <td>1.72</td>\n",
              "      <td>2.17</td>\n",
              "      <td>2.09</td>\n",
              "      <td>2017</td>\n",
              "      <td>[12]</td>\n",
              "      <td>[6]</td>\n",
              "      <td>[16]</td>\n",
              "      <td>[3]</td>\n",
              "      <td>[3]</td>\n",
              "      <td>[0]</td>\n",
              "      <td>[12]</td>\n",
              "      <td>[6]</td>\n",
              "      <td>[16]</td>\n",
              "      <td>[3]</td>\n",
              "      <td>[3]</td>\n",
              "      <td>[0]</td>\n",
              "    </tr>\n",
              "  </tbody>\n",
              "</table>\n",
              "</div>"
            ],
            "text/plain": [
              "              ID   League      Date    HomeTeam  ...    AF   AC   AY   AR\n",
              "0    ENG010117#0  Germany  09/09/16  Schalke 04  ...  [15]  [5]  [2]  [0]\n",
              "1    ENG010117#1  Germany  10/09/16   Darmstadt  ...  [15]  [5]  [3]  [0]\n",
              "2  ENG01012018#0  Germany  10/09/16    Freiburg  ...  [10]  [2]  [3]  [0]\n",
              "3  ENG01012018#1  Germany  10/09/16  Ingolstadt  ...  [15]  [5]  [2]  [0]\n",
              "4  ENG01012018#2  Germany  10/09/16  Leverkusen  ...  [16]  [3]  [3]  [0]\n",
              "\n",
              "[5 rows x 43 columns]"
            ]
          },
          "metadata": {
            "tags": []
          },
          "execution_count": 27
        }
      ]
    },
    {
      "cell_type": "markdown",
      "metadata": {
        "id": "v01mqQGSgdC0",
        "colab_type": "text"
      },
      "source": [
        "# Parte 1 - Análise exploratória dos dados"
      ]
    },
    {
      "cell_type": "markdown",
      "metadata": {
        "id": "VM56uTpRf5kl",
        "colab_type": "text"
      },
      "source": [
        "As estatísticas dos times contém valores em listas, que podem ir do jogo anterior até 5 partidas jogadas anteriormente. Por estratégia irei selecionar a média dos últimos jogos.\n",
        "\n",
        "---\n",
        "\n"
      ]
    },
    {
      "cell_type": "code",
      "metadata": {
        "id": "WlxnDadQWovW",
        "colab_type": "code",
        "colab": {}
      },
      "source": [
        "df_train2 = df_train.copy()"
      ],
      "execution_count": 0,
      "outputs": []
    },
    {
      "cell_type": "code",
      "metadata": {
        "id": "wc_PddZ8XXh_",
        "colab_type": "code",
        "colab": {}
      },
      "source": [
        "from ast import literal_eval\n",
        "\n",
        "array_columns_train = df_train2[[\"HS\", \"HST\", \"HF\", \"HC\", \"HY\", \"HR\", \"AS\", \"AST\", \"AF\", \"AC\", \"AY\", \"AR\"]]\n",
        "\n",
        "for col in array_columns_train:\n",
        "  df_train2[col] = df_train2[col].apply(literal_eval)"
      ],
      "execution_count": 0,
      "outputs": []
    },
    {
      "cell_type": "code",
      "metadata": {
        "id": "o0G9C6n4XeZJ",
        "colab_type": "code",
        "colab": {}
      },
      "source": [
        "for index, row in df_train2.iterrows():\n",
        "  for col in array_columns_train:\n",
        "    df_train2.loc[index, col] = mean(df_train2.loc[index, col])\n"
      ],
      "execution_count": 0,
      "outputs": []
    },
    {
      "cell_type": "code",
      "metadata": {
        "id": "3W-wbCFvfA6V",
        "colab_type": "code",
        "outputId": "05c7818c-9d26-4647-cb17-3ceb755f95b7",
        "colab": {
          "base_uri": "https://localhost:8080/",
          "height": 507
        }
      },
      "source": [
        "df_train = df_train2\n",
        "df_train"
      ],
      "execution_count": 0,
      "outputs": [
        {
          "output_type": "execute_result",
          "data": {
            "text/html": [
              "<div>\n",
              "<style scoped>\n",
              "    .dataframe tbody tr th:only-of-type {\n",
              "        vertical-align: middle;\n",
              "    }\n",
              "\n",
              "    .dataframe tbody tr th {\n",
              "        vertical-align: top;\n",
              "    }\n",
              "\n",
              "    .dataframe thead th {\n",
              "        text-align: right;\n",
              "    }\n",
              "</style>\n",
              "<table border=\"1\" class=\"dataframe\">\n",
              "  <thead>\n",
              "    <tr style=\"text-align: right;\">\n",
              "      <th></th>\n",
              "      <th>ID</th>\n",
              "      <th>League</th>\n",
              "      <th>Date</th>\n",
              "      <th>HomeTeam</th>\n",
              "      <th>AwayTeam</th>\n",
              "      <th>B365H</th>\n",
              "      <th>B365D</th>\n",
              "      <th>B365A</th>\n",
              "      <th>BWH</th>\n",
              "      <th>BWD</th>\n",
              "      <th>BWA</th>\n",
              "      <th>IWH</th>\n",
              "      <th>IWD</th>\n",
              "      <th>IWA</th>\n",
              "      <th>LBH</th>\n",
              "      <th>LBD</th>\n",
              "      <th>LBA</th>\n",
              "      <th>PSH</th>\n",
              "      <th>PSD</th>\n",
              "      <th>PSA</th>\n",
              "      <th>WHH</th>\n",
              "      <th>WHD</th>\n",
              "      <th>WHA</th>\n",
              "      <th>VCH</th>\n",
              "      <th>VCD</th>\n",
              "      <th>VCA</th>\n",
              "      <th>BbMx&gt;2.5</th>\n",
              "      <th>BbAv&gt;2.5</th>\n",
              "      <th>BbMx&lt;2.5</th>\n",
              "      <th>BbAv&lt;2.5</th>\n",
              "      <th>Year</th>\n",
              "      <th>HS</th>\n",
              "      <th>HST</th>\n",
              "      <th>HF</th>\n",
              "      <th>HC</th>\n",
              "      <th>HY</th>\n",
              "      <th>HR</th>\n",
              "      <th>AS</th>\n",
              "      <th>AST</th>\n",
              "      <th>AF</th>\n",
              "      <th>AC</th>\n",
              "      <th>AY</th>\n",
              "      <th>AR</th>\n",
              "      <th>Result</th>\n",
              "    </tr>\n",
              "  </thead>\n",
              "  <tbody>\n",
              "    <tr>\n",
              "      <th>0</th>\n",
              "      <td>GER310812#0</td>\n",
              "      <td>Germany</td>\n",
              "      <td>31/08/12</td>\n",
              "      <td>Mainz</td>\n",
              "      <td>Greuther Furth</td>\n",
              "      <td>0.555556</td>\n",
              "      <td>0.285714</td>\n",
              "      <td>0.222222</td>\n",
              "      <td>0.534759</td>\n",
              "      <td>0.285714</td>\n",
              "      <td>0.230947</td>\n",
              "      <td>0.555556</td>\n",
              "      <td>0.294118</td>\n",
              "      <td>0.250000</td>\n",
              "      <td>0.546448</td>\n",
              "      <td>0.285714</td>\n",
              "      <td>0.230947</td>\n",
              "      <td>0.537634</td>\n",
              "      <td>0.270270</td>\n",
              "      <td>0.212766</td>\n",
              "      <td>0.546448</td>\n",
              "      <td>0.285714</td>\n",
              "      <td>0.230947</td>\n",
              "      <td>0.540541</td>\n",
              "      <td>0.270270</td>\n",
              "      <td>0.217391</td>\n",
              "      <td>2.09</td>\n",
              "      <td>1.98</td>\n",
              "      <td>1.94</td>\n",
              "      <td>1.83</td>\n",
              "      <td>2013</td>\n",
              "      <td>8</td>\n",
              "      <td>3</td>\n",
              "      <td>13</td>\n",
              "      <td>8</td>\n",
              "      <td>2</td>\n",
              "      <td>0</td>\n",
              "      <td>8</td>\n",
              "      <td>3</td>\n",
              "      <td>13</td>\n",
              "      <td>8</td>\n",
              "      <td>2</td>\n",
              "      <td>0</td>\n",
              "      <td>0</td>\n",
              "    </tr>\n",
              "    <tr>\n",
              "      <th>1</th>\n",
              "      <td>GER010912#0</td>\n",
              "      <td>Germany</td>\n",
              "      <td>01/09/12</td>\n",
              "      <td>Fortuna Dusseldorf</td>\n",
              "      <td>M'gladbach</td>\n",
              "      <td>0.344828</td>\n",
              "      <td>0.303030</td>\n",
              "      <td>0.416667</td>\n",
              "      <td>0.333333</td>\n",
              "      <td>0.303030</td>\n",
              "      <td>0.434783</td>\n",
              "      <td>0.344828</td>\n",
              "      <td>0.322581</td>\n",
              "      <td>0.434783</td>\n",
              "      <td>0.333333</td>\n",
              "      <td>0.294118</td>\n",
              "      <td>0.434783</td>\n",
              "      <td>0.312500</td>\n",
              "      <td>0.293255</td>\n",
              "      <td>0.414938</td>\n",
              "      <td>0.333333</td>\n",
              "      <td>0.303030</td>\n",
              "      <td>0.425532</td>\n",
              "      <td>0.312500</td>\n",
              "      <td>0.294118</td>\n",
              "      <td>0.416667</td>\n",
              "      <td>2.11</td>\n",
              "      <td>2.00</td>\n",
              "      <td>1.90</td>\n",
              "      <td>1.80</td>\n",
              "      <td>2013</td>\n",
              "      <td>9</td>\n",
              "      <td>4</td>\n",
              "      <td>14</td>\n",
              "      <td>0</td>\n",
              "      <td>2</td>\n",
              "      <td>0</td>\n",
              "      <td>9</td>\n",
              "      <td>4</td>\n",
              "      <td>14</td>\n",
              "      <td>0</td>\n",
              "      <td>2</td>\n",
              "      <td>0</td>\n",
              "      <td>1</td>\n",
              "    </tr>\n",
              "    <tr>\n",
              "      <th>2</th>\n",
              "      <td>GER010912#1</td>\n",
              "      <td>Germany</td>\n",
              "      <td>01/09/12</td>\n",
              "      <td>Hoffenheim</td>\n",
              "      <td>Ein Frankfurt</td>\n",
              "      <td>0.487805</td>\n",
              "      <td>0.294118</td>\n",
              "      <td>0.285714</td>\n",
              "      <td>0.487805</td>\n",
              "      <td>0.303030</td>\n",
              "      <td>0.263158</td>\n",
              "      <td>0.512821</td>\n",
              "      <td>0.303030</td>\n",
              "      <td>0.277778</td>\n",
              "      <td>0.500000</td>\n",
              "      <td>0.294118</td>\n",
              "      <td>0.266667</td>\n",
              "      <td>0.480769</td>\n",
              "      <td>0.277778</td>\n",
              "      <td>0.261780</td>\n",
              "      <td>0.487805</td>\n",
              "      <td>0.294118</td>\n",
              "      <td>0.285714</td>\n",
              "      <td>0.487805</td>\n",
              "      <td>0.277778</td>\n",
              "      <td>0.263158</td>\n",
              "      <td>2.00</td>\n",
              "      <td>1.93</td>\n",
              "      <td>1.95</td>\n",
              "      <td>1.88</td>\n",
              "      <td>2013</td>\n",
              "      <td>14</td>\n",
              "      <td>8</td>\n",
              "      <td>6</td>\n",
              "      <td>4</td>\n",
              "      <td>0</td>\n",
              "      <td>0</td>\n",
              "      <td>14</td>\n",
              "      <td>8</td>\n",
              "      <td>6</td>\n",
              "      <td>4</td>\n",
              "      <td>0</td>\n",
              "      <td>0</td>\n",
              "      <td>0</td>\n",
              "    </tr>\n",
              "    <tr>\n",
              "      <th>3</th>\n",
              "      <td>GER010912#2</td>\n",
              "      <td>Germany</td>\n",
              "      <td>01/09/12</td>\n",
              "      <td>Leverkusen</td>\n",
              "      <td>Freiburg</td>\n",
              "      <td>0.636943</td>\n",
              "      <td>0.250000</td>\n",
              "      <td>0.181818</td>\n",
              "      <td>0.617284</td>\n",
              "      <td>0.256410</td>\n",
              "      <td>0.200000</td>\n",
              "      <td>0.645161</td>\n",
              "      <td>0.270270</td>\n",
              "      <td>0.185185</td>\n",
              "      <td>0.636943</td>\n",
              "      <td>0.266667</td>\n",
              "      <td>0.166667</td>\n",
              "      <td>0.613497</td>\n",
              "      <td>0.238095</td>\n",
              "      <td>0.170940</td>\n",
              "      <td>0.636943</td>\n",
              "      <td>0.266667</td>\n",
              "      <td>0.166667</td>\n",
              "      <td>0.617284</td>\n",
              "      <td>0.238095</td>\n",
              "      <td>0.173913</td>\n",
              "      <td>1.69</td>\n",
              "      <td>1.62</td>\n",
              "      <td>2.44</td>\n",
              "      <td>2.25</td>\n",
              "      <td>2013</td>\n",
              "      <td>19</td>\n",
              "      <td>10</td>\n",
              "      <td>22</td>\n",
              "      <td>7</td>\n",
              "      <td>2</td>\n",
              "      <td>0</td>\n",
              "      <td>19</td>\n",
              "      <td>10</td>\n",
              "      <td>22</td>\n",
              "      <td>7</td>\n",
              "      <td>2</td>\n",
              "      <td>0</td>\n",
              "      <td>2</td>\n",
              "    </tr>\n",
              "    <tr>\n",
              "      <th>4</th>\n",
              "      <td>GER010912#3</td>\n",
              "      <td>Germany</td>\n",
              "      <td>01/09/12</td>\n",
              "      <td>Nurnberg</td>\n",
              "      <td>Dortmund</td>\n",
              "      <td>0.166667</td>\n",
              "      <td>0.250000</td>\n",
              "      <td>0.645161</td>\n",
              "      <td>0.166667</td>\n",
              "      <td>0.250000</td>\n",
              "      <td>0.653595</td>\n",
              "      <td>0.185185</td>\n",
              "      <td>0.270270</td>\n",
              "      <td>0.645161</td>\n",
              "      <td>0.166667</td>\n",
              "      <td>0.250000</td>\n",
              "      <td>0.653595</td>\n",
              "      <td>0.162075</td>\n",
              "      <td>0.235294</td>\n",
              "      <td>0.621118</td>\n",
              "      <td>0.161290</td>\n",
              "      <td>0.250000</td>\n",
              "      <td>0.653595</td>\n",
              "      <td>0.160000</td>\n",
              "      <td>0.238095</td>\n",
              "      <td>0.636943</td>\n",
              "      <td>1.83</td>\n",
              "      <td>1.76</td>\n",
              "      <td>2.16</td>\n",
              "      <td>2.07</td>\n",
              "      <td>2013</td>\n",
              "      <td>18</td>\n",
              "      <td>8</td>\n",
              "      <td>20</td>\n",
              "      <td>6</td>\n",
              "      <td>2</td>\n",
              "      <td>0</td>\n",
              "      <td>18</td>\n",
              "      <td>8</td>\n",
              "      <td>20</td>\n",
              "      <td>6</td>\n",
              "      <td>2</td>\n",
              "      <td>0</td>\n",
              "      <td>1</td>\n",
              "    </tr>\n",
              "    <tr>\n",
              "      <th>...</th>\n",
              "      <td>...</td>\n",
              "      <td>...</td>\n",
              "      <td>...</td>\n",
              "      <td>...</td>\n",
              "      <td>...</td>\n",
              "      <td>...</td>\n",
              "      <td>...</td>\n",
              "      <td>...</td>\n",
              "      <td>...</td>\n",
              "      <td>...</td>\n",
              "      <td>...</td>\n",
              "      <td>...</td>\n",
              "      <td>...</td>\n",
              "      <td>...</td>\n",
              "      <td>...</td>\n",
              "      <td>...</td>\n",
              "      <td>...</td>\n",
              "      <td>...</td>\n",
              "      <td>...</td>\n",
              "      <td>...</td>\n",
              "      <td>...</td>\n",
              "      <td>...</td>\n",
              "      <td>...</td>\n",
              "      <td>...</td>\n",
              "      <td>...</td>\n",
              "      <td>...</td>\n",
              "      <td>...</td>\n",
              "      <td>...</td>\n",
              "      <td>...</td>\n",
              "      <td>...</td>\n",
              "      <td>...</td>\n",
              "      <td>...</td>\n",
              "      <td>...</td>\n",
              "      <td>...</td>\n",
              "      <td>...</td>\n",
              "      <td>...</td>\n",
              "      <td>...</td>\n",
              "      <td>...</td>\n",
              "      <td>...</td>\n",
              "      <td>...</td>\n",
              "      <td>...</td>\n",
              "      <td>...</td>\n",
              "      <td>...</td>\n",
              "      <td>...</td>\n",
              "    </tr>\n",
              "    <tr>\n",
              "      <th>5724</th>\n",
              "      <td>SPA150516#0</td>\n",
              "      <td>Spain</td>\n",
              "      <td>15/05/16</td>\n",
              "      <td>Betis</td>\n",
              "      <td>Getafe</td>\n",
              "      <td>0.200000</td>\n",
              "      <td>0.263158</td>\n",
              "      <td>0.588235</td>\n",
              "      <td>0.217391</td>\n",
              "      <td>0.263158</td>\n",
              "      <td>0.588235</td>\n",
              "      <td>0.208333</td>\n",
              "      <td>0.250000</td>\n",
              "      <td>0.625000</td>\n",
              "      <td>0.222222</td>\n",
              "      <td>0.263158</td>\n",
              "      <td>0.588235</td>\n",
              "      <td>0.196850</td>\n",
              "      <td>0.245700</td>\n",
              "      <td>0.578035</td>\n",
              "      <td>0.200000</td>\n",
              "      <td>0.263158</td>\n",
              "      <td>0.625000</td>\n",
              "      <td>0.200000</td>\n",
              "      <td>0.250000</td>\n",
              "      <td>0.578035</td>\n",
              "      <td>1.73</td>\n",
              "      <td>1.68</td>\n",
              "      <td>2.28</td>\n",
              "      <td>2.16</td>\n",
              "      <td>2016</td>\n",
              "      <td>9</td>\n",
              "      <td>3.2</td>\n",
              "      <td>12.6</td>\n",
              "      <td>3.8</td>\n",
              "      <td>3</td>\n",
              "      <td>0.2</td>\n",
              "      <td>9</td>\n",
              "      <td>3.2</td>\n",
              "      <td>12.6</td>\n",
              "      <td>3.8</td>\n",
              "      <td>3</td>\n",
              "      <td>0.2</td>\n",
              "      <td>2</td>\n",
              "    </tr>\n",
              "    <tr>\n",
              "      <th>5725</th>\n",
              "      <td>SPA150516#1</td>\n",
              "      <td>Spain</td>\n",
              "      <td>15/05/16</td>\n",
              "      <td>Espanol</td>\n",
              "      <td>Eibar</td>\n",
              "      <td>0.500000</td>\n",
              "      <td>0.277778</td>\n",
              "      <td>0.270270</td>\n",
              "      <td>0.500000</td>\n",
              "      <td>0.277778</td>\n",
              "      <td>0.294118</td>\n",
              "      <td>0.540541</td>\n",
              "      <td>0.289855</td>\n",
              "      <td>0.250000</td>\n",
              "      <td>0.512821</td>\n",
              "      <td>0.285714</td>\n",
              "      <td>0.266667</td>\n",
              "      <td>0.485437</td>\n",
              "      <td>0.273973</td>\n",
              "      <td>0.261097</td>\n",
              "      <td>0.487805</td>\n",
              "      <td>0.294118</td>\n",
              "      <td>0.307692</td>\n",
              "      <td>0.487805</td>\n",
              "      <td>0.270270</td>\n",
              "      <td>0.266667</td>\n",
              "      <td>1.76</td>\n",
              "      <td>1.70</td>\n",
              "      <td>2.23</td>\n",
              "      <td>2.12</td>\n",
              "      <td>2016</td>\n",
              "      <td>8.8</td>\n",
              "      <td>3.6</td>\n",
              "      <td>16.2</td>\n",
              "      <td>3.4</td>\n",
              "      <td>3</td>\n",
              "      <td>0</td>\n",
              "      <td>8.8</td>\n",
              "      <td>3.6</td>\n",
              "      <td>16.2</td>\n",
              "      <td>3.4</td>\n",
              "      <td>3</td>\n",
              "      <td>0</td>\n",
              "      <td>2</td>\n",
              "    </tr>\n",
              "    <tr>\n",
              "      <th>5726</th>\n",
              "      <td>SPA150516#2</td>\n",
              "      <td>Spain</td>\n",
              "      <td>15/05/16</td>\n",
              "      <td>Malaga</td>\n",
              "      <td>Las Palmas</td>\n",
              "      <td>0.555556</td>\n",
              "      <td>0.266667</td>\n",
              "      <td>0.222222</td>\n",
              "      <td>0.546448</td>\n",
              "      <td>0.270270</td>\n",
              "      <td>0.250000</td>\n",
              "      <td>0.540541</td>\n",
              "      <td>0.289855</td>\n",
              "      <td>0.250000</td>\n",
              "      <td>0.555556</td>\n",
              "      <td>0.277778</td>\n",
              "      <td>0.230947</td>\n",
              "      <td>0.537634</td>\n",
              "      <td>0.261097</td>\n",
              "      <td>0.222222</td>\n",
              "      <td>0.546448</td>\n",
              "      <td>0.294118</td>\n",
              "      <td>0.250000</td>\n",
              "      <td>0.540541</td>\n",
              "      <td>0.263158</td>\n",
              "      <td>0.227273</td>\n",
              "      <td>1.90</td>\n",
              "      <td>1.78</td>\n",
              "      <td>2.12</td>\n",
              "      <td>2.02</td>\n",
              "      <td>2016</td>\n",
              "      <td>14</td>\n",
              "      <td>6.2</td>\n",
              "      <td>14.8</td>\n",
              "      <td>7</td>\n",
              "      <td>2.2</td>\n",
              "      <td>0</td>\n",
              "      <td>14</td>\n",
              "      <td>6.2</td>\n",
              "      <td>14.8</td>\n",
              "      <td>7</td>\n",
              "      <td>2.2</td>\n",
              "      <td>0</td>\n",
              "      <td>2</td>\n",
              "    </tr>\n",
              "    <tr>\n",
              "      <th>5727</th>\n",
              "      <td>SPA150516#3</td>\n",
              "      <td>Spain</td>\n",
              "      <td>15/05/16</td>\n",
              "      <td>Sp Gijon</td>\n",
              "      <td>Villarreal</td>\n",
              "      <td>0.694444</td>\n",
              "      <td>0.222222</td>\n",
              "      <td>0.133333</td>\n",
              "      <td>0.694444</td>\n",
              "      <td>0.230947</td>\n",
              "      <td>0.142857</td>\n",
              "      <td>0.689655</td>\n",
              "      <td>0.222222</td>\n",
              "      <td>0.181818</td>\n",
              "      <td>0.694444</td>\n",
              "      <td>0.230947</td>\n",
              "      <td>0.142857</td>\n",
              "      <td>0.680272</td>\n",
              "      <td>0.213220</td>\n",
              "      <td>0.128370</td>\n",
              "      <td>0.735294</td>\n",
              "      <td>0.230947</td>\n",
              "      <td>0.125000</td>\n",
              "      <td>0.689655</td>\n",
              "      <td>0.217391</td>\n",
              "      <td>0.125000</td>\n",
              "      <td>1.87</td>\n",
              "      <td>1.81</td>\n",
              "      <td>2.09</td>\n",
              "      <td>1.98</td>\n",
              "      <td>2016</td>\n",
              "      <td>8.6</td>\n",
              "      <td>2.6</td>\n",
              "      <td>13.6</td>\n",
              "      <td>4</td>\n",
              "      <td>2.4</td>\n",
              "      <td>0.4</td>\n",
              "      <td>8.6</td>\n",
              "      <td>2.6</td>\n",
              "      <td>13.6</td>\n",
              "      <td>4</td>\n",
              "      <td>2.4</td>\n",
              "      <td>0.4</td>\n",
              "      <td>2</td>\n",
              "    </tr>\n",
              "    <tr>\n",
              "      <th>5728</th>\n",
              "      <td>SPA150516#4</td>\n",
              "      <td>Spain</td>\n",
              "      <td>15/05/16</td>\n",
              "      <td>Vallecano</td>\n",
              "      <td>Levante</td>\n",
              "      <td>0.751880</td>\n",
              "      <td>0.190476</td>\n",
              "      <td>0.111111</td>\n",
              "      <td>0.751880</td>\n",
              "      <td>0.210526</td>\n",
              "      <td>0.108108</td>\n",
              "      <td>0.714286</td>\n",
              "      <td>0.200000</td>\n",
              "      <td>0.166667</td>\n",
              "      <td>0.751880</td>\n",
              "      <td>0.190476</td>\n",
              "      <td>0.111111</td>\n",
              "      <td>0.746269</td>\n",
              "      <td>0.171233</td>\n",
              "      <td>0.105152</td>\n",
              "      <td>0.775194</td>\n",
              "      <td>0.181818</td>\n",
              "      <td>0.133333</td>\n",
              "      <td>0.751880</td>\n",
              "      <td>0.173913</td>\n",
              "      <td>0.111111</td>\n",
              "      <td>1.48</td>\n",
              "      <td>1.41</td>\n",
              "      <td>3.05</td>\n",
              "      <td>2.79</td>\n",
              "      <td>2016</td>\n",
              "      <td>13.4</td>\n",
              "      <td>4.8</td>\n",
              "      <td>13.2</td>\n",
              "      <td>6.6</td>\n",
              "      <td>2.6</td>\n",
              "      <td>0</td>\n",
              "      <td>13.4</td>\n",
              "      <td>4.8</td>\n",
              "      <td>13.2</td>\n",
              "      <td>6.6</td>\n",
              "      <td>2.6</td>\n",
              "      <td>0</td>\n",
              "      <td>2</td>\n",
              "    </tr>\n",
              "  </tbody>\n",
              "</table>\n",
              "<p>5729 rows × 44 columns</p>\n",
              "</div>"
            ],
            "text/plain": [
              "               ID   League      Date            HomeTeam  ...   AC   AY   AR  Result\n",
              "0     GER310812#0  Germany  31/08/12               Mainz  ...    8    2    0       0\n",
              "1     GER010912#0  Germany  01/09/12  Fortuna Dusseldorf  ...    0    2    0       1\n",
              "2     GER010912#1  Germany  01/09/12          Hoffenheim  ...    4    0    0       0\n",
              "3     GER010912#2  Germany  01/09/12          Leverkusen  ...    7    2    0       2\n",
              "4     GER010912#3  Germany  01/09/12            Nurnberg  ...    6    2    0       1\n",
              "...           ...      ...       ...                 ...  ...  ...  ...  ...     ...\n",
              "5724  SPA150516#0    Spain  15/05/16               Betis  ...  3.8    3  0.2       2\n",
              "5725  SPA150516#1    Spain  15/05/16             Espanol  ...  3.4    3    0       2\n",
              "5726  SPA150516#2    Spain  15/05/16              Malaga  ...    7  2.2    0       2\n",
              "5727  SPA150516#3    Spain  15/05/16            Sp Gijon  ...    4  2.4  0.4       2\n",
              "5728  SPA150516#4    Spain  15/05/16           Vallecano  ...  6.6  2.6    0       2\n",
              "\n",
              "[5729 rows x 44 columns]"
            ]
          },
          "metadata": {
            "tags": []
          },
          "execution_count": 8
        }
      ]
    },
    {
      "cell_type": "code",
      "metadata": {
        "id": "06edBgWelgPE",
        "colab_type": "code",
        "colab": {}
      },
      "source": [
        "df_test2 = df_test.copy()"
      ],
      "execution_count": 0,
      "outputs": []
    },
    {
      "cell_type": "code",
      "metadata": {
        "id": "t6PoreKwln_J",
        "colab_type": "code",
        "colab": {}
      },
      "source": [
        "array_columns_test = df_test2[[\"HS\", \"HST\", \"HF\", \"HC\", \"HY\", \"HR\", \"AS\", \"AST\", \"AF\", \"AC\", \"AY\", \"AR\"]]\n",
        "\n",
        "for col in array_columns_test:\n",
        "  df_test2[col] = df_test2[col].apply(literal_eval)"
      ],
      "execution_count": 0,
      "outputs": []
    },
    {
      "cell_type": "code",
      "metadata": {
        "id": "1AnvvkLGl4ev",
        "colab_type": "code",
        "colab": {}
      },
      "source": [
        "for index, row in df_test2.iterrows():\n",
        "  for col in array_columns_test:\n",
        "    df_test2.loc[index, col] = mean(df_test2.loc[index, col])"
      ],
      "execution_count": 0,
      "outputs": []
    },
    {
      "cell_type": "code",
      "metadata": {
        "id": "qOQdCgpumEtg",
        "colab_type": "code",
        "outputId": "a4552071-e453-4520-9bf0-bd17d2007c7b",
        "colab": {
          "base_uri": "https://localhost:8080/",
          "height": 490
        }
      },
      "source": [
        "df_test = df_test2\n",
        "df_test"
      ],
      "execution_count": 0,
      "outputs": [
        {
          "output_type": "execute_result",
          "data": {
            "text/html": [
              "<div>\n",
              "<style scoped>\n",
              "    .dataframe tbody tr th:only-of-type {\n",
              "        vertical-align: middle;\n",
              "    }\n",
              "\n",
              "    .dataframe tbody tr th {\n",
              "        vertical-align: top;\n",
              "    }\n",
              "\n",
              "    .dataframe thead th {\n",
              "        text-align: right;\n",
              "    }\n",
              "</style>\n",
              "<table border=\"1\" class=\"dataframe\">\n",
              "  <thead>\n",
              "    <tr style=\"text-align: right;\">\n",
              "      <th></th>\n",
              "      <th>ID</th>\n",
              "      <th>League</th>\n",
              "      <th>Date</th>\n",
              "      <th>HomeTeam</th>\n",
              "      <th>AwayTeam</th>\n",
              "      <th>B365H</th>\n",
              "      <th>B365D</th>\n",
              "      <th>B365A</th>\n",
              "      <th>BWH</th>\n",
              "      <th>BWD</th>\n",
              "      <th>BWA</th>\n",
              "      <th>IWH</th>\n",
              "      <th>IWD</th>\n",
              "      <th>IWA</th>\n",
              "      <th>LBH</th>\n",
              "      <th>LBD</th>\n",
              "      <th>LBA</th>\n",
              "      <th>PSH</th>\n",
              "      <th>PSD</th>\n",
              "      <th>PSA</th>\n",
              "      <th>WHH</th>\n",
              "      <th>WHD</th>\n",
              "      <th>WHA</th>\n",
              "      <th>VCH</th>\n",
              "      <th>VCD</th>\n",
              "      <th>VCA</th>\n",
              "      <th>BbMx&gt;2.5</th>\n",
              "      <th>BbAv&gt;2.5</th>\n",
              "      <th>BbMx&lt;2.5</th>\n",
              "      <th>BbAv&lt;2.5</th>\n",
              "      <th>Year</th>\n",
              "      <th>HS</th>\n",
              "      <th>HST</th>\n",
              "      <th>HF</th>\n",
              "      <th>HC</th>\n",
              "      <th>HY</th>\n",
              "      <th>HR</th>\n",
              "      <th>AS</th>\n",
              "      <th>AST</th>\n",
              "      <th>AF</th>\n",
              "      <th>AC</th>\n",
              "      <th>AY</th>\n",
              "      <th>AR</th>\n",
              "    </tr>\n",
              "  </thead>\n",
              "  <tbody>\n",
              "    <tr>\n",
              "      <th>0</th>\n",
              "      <td>ENG010117#0</td>\n",
              "      <td>Germany</td>\n",
              "      <td>09/09/16</td>\n",
              "      <td>Schalke 04</td>\n",
              "      <td>Bayern Munich</td>\n",
              "      <td>0.100000</td>\n",
              "      <td>0.181818</td>\n",
              "      <td>0.769231</td>\n",
              "      <td>0.090909</td>\n",
              "      <td>0.173913</td>\n",
              "      <td>0.769231</td>\n",
              "      <td>0.117647</td>\n",
              "      <td>0.200000</td>\n",
              "      <td>0.740741</td>\n",
              "      <td>0.100000</td>\n",
              "      <td>0.190476</td>\n",
              "      <td>0.769231</td>\n",
              "      <td>0.092251</td>\n",
              "      <td>0.169779</td>\n",
              "      <td>0.757576</td>\n",
              "      <td>0.111111</td>\n",
              "      <td>0.181818</td>\n",
              "      <td>0.769231</td>\n",
              "      <td>0.090909</td>\n",
              "      <td>0.173913</td>\n",
              "      <td>0.775194</td>\n",
              "      <td>1.61</td>\n",
              "      <td>1.55</td>\n",
              "      <td>2.62</td>\n",
              "      <td>2.38</td>\n",
              "      <td>2017</td>\n",
              "      <td>11</td>\n",
              "      <td>3</td>\n",
              "      <td>15</td>\n",
              "      <td>5</td>\n",
              "      <td>2</td>\n",
              "      <td>0</td>\n",
              "      <td>11</td>\n",
              "      <td>3</td>\n",
              "      <td>15</td>\n",
              "      <td>5</td>\n",
              "      <td>2</td>\n",
              "      <td>0</td>\n",
              "    </tr>\n",
              "    <tr>\n",
              "      <th>1</th>\n",
              "      <td>ENG010117#1</td>\n",
              "      <td>Germany</td>\n",
              "      <td>10/09/16</td>\n",
              "      <td>Darmstadt</td>\n",
              "      <td>Ein Frankfurt</td>\n",
              "      <td>0.333333</td>\n",
              "      <td>0.303030</td>\n",
              "      <td>0.416667</td>\n",
              "      <td>0.333333</td>\n",
              "      <td>0.303030</td>\n",
              "      <td>0.416667</td>\n",
              "      <td>0.344828</td>\n",
              "      <td>0.312500</td>\n",
              "      <td>0.400000</td>\n",
              "      <td>0.333333</td>\n",
              "      <td>0.307692</td>\n",
              "      <td>0.434783</td>\n",
              "      <td>0.311526</td>\n",
              "      <td>0.294985</td>\n",
              "      <td>0.413223</td>\n",
              "      <td>0.357143</td>\n",
              "      <td>0.312500</td>\n",
              "      <td>0.400000</td>\n",
              "      <td>0.319489</td>\n",
              "      <td>0.294118</td>\n",
              "      <td>0.420168</td>\n",
              "      <td>2.15</td>\n",
              "      <td>2.09</td>\n",
              "      <td>1.79</td>\n",
              "      <td>1.73</td>\n",
              "      <td>2017</td>\n",
              "      <td>12</td>\n",
              "      <td>3</td>\n",
              "      <td>15</td>\n",
              "      <td>5</td>\n",
              "      <td>3</td>\n",
              "      <td>0</td>\n",
              "      <td>12</td>\n",
              "      <td>3</td>\n",
              "      <td>15</td>\n",
              "      <td>5</td>\n",
              "      <td>3</td>\n",
              "      <td>0</td>\n",
              "    </tr>\n",
              "    <tr>\n",
              "      <th>2</th>\n",
              "      <td>ENG01012018#0</td>\n",
              "      <td>Germany</td>\n",
              "      <td>10/09/16</td>\n",
              "      <td>Freiburg</td>\n",
              "      <td>M'gladbach</td>\n",
              "      <td>0.277778</td>\n",
              "      <td>0.277778</td>\n",
              "      <td>0.500000</td>\n",
              "      <td>0.270270</td>\n",
              "      <td>0.277778</td>\n",
              "      <td>0.500000</td>\n",
              "      <td>0.263158</td>\n",
              "      <td>0.294118</td>\n",
              "      <td>0.500000</td>\n",
              "      <td>0.285714</td>\n",
              "      <td>0.277778</td>\n",
              "      <td>0.500000</td>\n",
              "      <td>0.264550</td>\n",
              "      <td>0.265252</td>\n",
              "      <td>0.490196</td>\n",
              "      <td>0.266667</td>\n",
              "      <td>0.312500</td>\n",
              "      <td>0.487805</td>\n",
              "      <td>0.285714</td>\n",
              "      <td>0.266667</td>\n",
              "      <td>0.487805</td>\n",
              "      <td>1.75</td>\n",
              "      <td>1.68</td>\n",
              "      <td>2.30</td>\n",
              "      <td>2.17</td>\n",
              "      <td>2017</td>\n",
              "      <td>8</td>\n",
              "      <td>2</td>\n",
              "      <td>10</td>\n",
              "      <td>2</td>\n",
              "      <td>3</td>\n",
              "      <td>0</td>\n",
              "      <td>8</td>\n",
              "      <td>2</td>\n",
              "      <td>10</td>\n",
              "      <td>2</td>\n",
              "      <td>3</td>\n",
              "      <td>0</td>\n",
              "    </tr>\n",
              "    <tr>\n",
              "      <th>3</th>\n",
              "      <td>ENG01012018#1</td>\n",
              "      <td>Germany</td>\n",
              "      <td>10/09/16</td>\n",
              "      <td>Ingolstadt</td>\n",
              "      <td>Hertha</td>\n",
              "      <td>0.416667</td>\n",
              "      <td>0.322581</td>\n",
              "      <td>0.312500</td>\n",
              "      <td>0.408163</td>\n",
              "      <td>0.322581</td>\n",
              "      <td>0.322581</td>\n",
              "      <td>0.416667</td>\n",
              "      <td>0.312500</td>\n",
              "      <td>0.327869</td>\n",
              "      <td>0.416667</td>\n",
              "      <td>0.333333</td>\n",
              "      <td>0.322581</td>\n",
              "      <td>0.398406</td>\n",
              "      <td>0.318471</td>\n",
              "      <td>0.303951</td>\n",
              "      <td>0.400000</td>\n",
              "      <td>0.322581</td>\n",
              "      <td>0.344828</td>\n",
              "      <td>0.408163</td>\n",
              "      <td>0.312500</td>\n",
              "      <td>0.319489</td>\n",
              "      <td>2.66</td>\n",
              "      <td>2.47</td>\n",
              "      <td>1.60</td>\n",
              "      <td>1.53</td>\n",
              "      <td>2017</td>\n",
              "      <td>13</td>\n",
              "      <td>5</td>\n",
              "      <td>15</td>\n",
              "      <td>5</td>\n",
              "      <td>2</td>\n",
              "      <td>0</td>\n",
              "      <td>13</td>\n",
              "      <td>5</td>\n",
              "      <td>15</td>\n",
              "      <td>5</td>\n",
              "      <td>2</td>\n",
              "      <td>0</td>\n",
              "    </tr>\n",
              "    <tr>\n",
              "      <th>4</th>\n",
              "      <td>ENG01012018#2</td>\n",
              "      <td>Germany</td>\n",
              "      <td>10/09/16</td>\n",
              "      <td>Leverkusen</td>\n",
              "      <td>Hamburg</td>\n",
              "      <td>0.689655</td>\n",
              "      <td>0.222222</td>\n",
              "      <td>0.142857</td>\n",
              "      <td>0.666667</td>\n",
              "      <td>0.230947</td>\n",
              "      <td>0.153846</td>\n",
              "      <td>0.645161</td>\n",
              "      <td>0.250000</td>\n",
              "      <td>0.161290</td>\n",
              "      <td>0.694444</td>\n",
              "      <td>0.230947</td>\n",
              "      <td>0.142857</td>\n",
              "      <td>0.671141</td>\n",
              "      <td>0.215054</td>\n",
              "      <td>0.132802</td>\n",
              "      <td>0.666667</td>\n",
              "      <td>0.238095</td>\n",
              "      <td>0.153846</td>\n",
              "      <td>0.689655</td>\n",
              "      <td>0.217391</td>\n",
              "      <td>0.142857</td>\n",
              "      <td>1.79</td>\n",
              "      <td>1.72</td>\n",
              "      <td>2.17</td>\n",
              "      <td>2.09</td>\n",
              "      <td>2017</td>\n",
              "      <td>12</td>\n",
              "      <td>6</td>\n",
              "      <td>16</td>\n",
              "      <td>3</td>\n",
              "      <td>3</td>\n",
              "      <td>0</td>\n",
              "      <td>12</td>\n",
              "      <td>6</td>\n",
              "      <td>16</td>\n",
              "      <td>3</td>\n",
              "      <td>3</td>\n",
              "      <td>0</td>\n",
              "    </tr>\n",
              "    <tr>\n",
              "      <th>...</th>\n",
              "      <td>...</td>\n",
              "      <td>...</td>\n",
              "      <td>...</td>\n",
              "      <td>...</td>\n",
              "      <td>...</td>\n",
              "      <td>...</td>\n",
              "      <td>...</td>\n",
              "      <td>...</td>\n",
              "      <td>...</td>\n",
              "      <td>...</td>\n",
              "      <td>...</td>\n",
              "      <td>...</td>\n",
              "      <td>...</td>\n",
              "      <td>...</td>\n",
              "      <td>...</td>\n",
              "      <td>...</td>\n",
              "      <td>...</td>\n",
              "      <td>...</td>\n",
              "      <td>...</td>\n",
              "      <td>...</td>\n",
              "      <td>...</td>\n",
              "      <td>...</td>\n",
              "      <td>...</td>\n",
              "      <td>...</td>\n",
              "      <td>...</td>\n",
              "      <td>...</td>\n",
              "      <td>...</td>\n",
              "      <td>...</td>\n",
              "      <td>...</td>\n",
              "      <td>...</td>\n",
              "      <td>...</td>\n",
              "      <td>...</td>\n",
              "      <td>...</td>\n",
              "      <td>...</td>\n",
              "      <td>...</td>\n",
              "      <td>...</td>\n",
              "      <td>...</td>\n",
              "      <td>...</td>\n",
              "      <td>...</td>\n",
              "      <td>...</td>\n",
              "      <td>...</td>\n",
              "      <td>...</td>\n",
              "      <td>...</td>\n",
              "    </tr>\n",
              "    <tr>\n",
              "      <th>2843</th>\n",
              "      <td>SPA310318#0</td>\n",
              "      <td>Spain</td>\n",
              "      <td>19/05/18</td>\n",
              "      <td>Villarreal</td>\n",
              "      <td>Real Madrid</td>\n",
              "      <td>0.322581</td>\n",
              "      <td>0.243902</td>\n",
              "      <td>0.476190</td>\n",
              "      <td>0.322581</td>\n",
              "      <td>0.238095</td>\n",
              "      <td>0.487805</td>\n",
              "      <td>0.400000</td>\n",
              "      <td>0.263158</td>\n",
              "      <td>0.400000</td>\n",
              "      <td>0.333333</td>\n",
              "      <td>0.250000</td>\n",
              "      <td>0.476190</td>\n",
              "      <td>0.328947</td>\n",
              "      <td>0.235294</td>\n",
              "      <td>0.460829</td>\n",
              "      <td>0.333333</td>\n",
              "      <td>0.238095</td>\n",
              "      <td>0.487805</td>\n",
              "      <td>0.319489</td>\n",
              "      <td>0.238095</td>\n",
              "      <td>0.476190</td>\n",
              "      <td>1.31</td>\n",
              "      <td>1.26</td>\n",
              "      <td>4.00</td>\n",
              "      <td>3.79</td>\n",
              "      <td>2018</td>\n",
              "      <td>14.8</td>\n",
              "      <td>6.4</td>\n",
              "      <td>13.2</td>\n",
              "      <td>5.2</td>\n",
              "      <td>2.2</td>\n",
              "      <td>0</td>\n",
              "      <td>14.8</td>\n",
              "      <td>6.4</td>\n",
              "      <td>13.2</td>\n",
              "      <td>5.2</td>\n",
              "      <td>2.2</td>\n",
              "      <td>0</td>\n",
              "    </tr>\n",
              "    <tr>\n",
              "      <th>2844</th>\n",
              "      <td>SPA310318#1</td>\n",
              "      <td>Spain</td>\n",
              "      <td>20/05/18</td>\n",
              "      <td>Ath Bilbao</td>\n",
              "      <td>Espanol</td>\n",
              "      <td>0.490196</td>\n",
              "      <td>0.285714</td>\n",
              "      <td>0.277778</td>\n",
              "      <td>0.500000</td>\n",
              "      <td>0.285714</td>\n",
              "      <td>0.263158</td>\n",
              "      <td>0.500000</td>\n",
              "      <td>0.277778</td>\n",
              "      <td>0.277778</td>\n",
              "      <td>0.500000</td>\n",
              "      <td>0.285714</td>\n",
              "      <td>0.285714</td>\n",
              "      <td>0.487805</td>\n",
              "      <td>0.267380</td>\n",
              "      <td>0.271003</td>\n",
              "      <td>0.476190</td>\n",
              "      <td>0.294118</td>\n",
              "      <td>0.285714</td>\n",
              "      <td>0.500000</td>\n",
              "      <td>0.270270</td>\n",
              "      <td>0.277778</td>\n",
              "      <td>1.82</td>\n",
              "      <td>1.75</td>\n",
              "      <td>2.16</td>\n",
              "      <td>2.06</td>\n",
              "      <td>2018</td>\n",
              "      <td>12</td>\n",
              "      <td>3.8</td>\n",
              "      <td>14.8</td>\n",
              "      <td>4.6</td>\n",
              "      <td>3.6</td>\n",
              "      <td>0</td>\n",
              "      <td>12</td>\n",
              "      <td>3.8</td>\n",
              "      <td>14.8</td>\n",
              "      <td>4.6</td>\n",
              "      <td>3.6</td>\n",
              "      <td>0</td>\n",
              "    </tr>\n",
              "    <tr>\n",
              "      <th>2845</th>\n",
              "      <td>SPA310318#2</td>\n",
              "      <td>Spain</td>\n",
              "      <td>20/05/18</td>\n",
              "      <td>Ath Madrid</td>\n",
              "      <td>Eibar</td>\n",
              "      <td>0.621118</td>\n",
              "      <td>0.263158</td>\n",
              "      <td>0.166667</td>\n",
              "      <td>0.625000</td>\n",
              "      <td>0.250000</td>\n",
              "      <td>0.173913</td>\n",
              "      <td>0.606061</td>\n",
              "      <td>0.270270</td>\n",
              "      <td>0.181818</td>\n",
              "      <td>0.625000</td>\n",
              "      <td>0.256410</td>\n",
              "      <td>0.181818</td>\n",
              "      <td>0.625000</td>\n",
              "      <td>0.239808</td>\n",
              "      <td>0.161812</td>\n",
              "      <td>0.617284</td>\n",
              "      <td>0.263158</td>\n",
              "      <td>0.181818</td>\n",
              "      <td>0.636943</td>\n",
              "      <td>0.243902</td>\n",
              "      <td>0.173913</td>\n",
              "      <td>1.87</td>\n",
              "      <td>1.82</td>\n",
              "      <td>2.06</td>\n",
              "      <td>1.98</td>\n",
              "      <td>2018</td>\n",
              "      <td>9.4</td>\n",
              "      <td>3.2</td>\n",
              "      <td>13.6</td>\n",
              "      <td>5.2</td>\n",
              "      <td>2.2</td>\n",
              "      <td>0.2</td>\n",
              "      <td>9.4</td>\n",
              "      <td>3.2</td>\n",
              "      <td>13.6</td>\n",
              "      <td>5.2</td>\n",
              "      <td>2.2</td>\n",
              "      <td>0.2</td>\n",
              "    </tr>\n",
              "    <tr>\n",
              "      <th>2846</th>\n",
              "      <td>SPA310318#3</td>\n",
              "      <td>Spain</td>\n",
              "      <td>20/05/18</td>\n",
              "      <td>Barcelona</td>\n",
              "      <td>Sociedad</td>\n",
              "      <td>0.819672</td>\n",
              "      <td>0.142857</td>\n",
              "      <td>0.090909</td>\n",
              "      <td>0.819672</td>\n",
              "      <td>0.137931</td>\n",
              "      <td>0.095238</td>\n",
              "      <td>0.769231</td>\n",
              "      <td>0.181818</td>\n",
              "      <td>0.105263</td>\n",
              "      <td>0.819672</td>\n",
              "      <td>0.153846</td>\n",
              "      <td>0.105263</td>\n",
              "      <td>0.800000</td>\n",
              "      <td>0.132802</td>\n",
              "      <td>0.106383</td>\n",
              "      <td>0.800000</td>\n",
              "      <td>0.166667</td>\n",
              "      <td>0.090909</td>\n",
              "      <td>0.819672</td>\n",
              "      <td>0.142857</td>\n",
              "      <td>0.090909</td>\n",
              "      <td>1.19</td>\n",
              "      <td>1.16</td>\n",
              "      <td>5.80</td>\n",
              "      <td>5.04</td>\n",
              "      <td>2018</td>\n",
              "      <td>15.2</td>\n",
              "      <td>6.4</td>\n",
              "      <td>8.4</td>\n",
              "      <td>5.8</td>\n",
              "      <td>2</td>\n",
              "      <td>0.4</td>\n",
              "      <td>15.2</td>\n",
              "      <td>6.4</td>\n",
              "      <td>8.4</td>\n",
              "      <td>5.8</td>\n",
              "      <td>2</td>\n",
              "      <td>0.4</td>\n",
              "    </tr>\n",
              "    <tr>\n",
              "      <th>2847</th>\n",
              "      <td>SPA311016#0</td>\n",
              "      <td>Spain</td>\n",
              "      <td>20/05/18</td>\n",
              "      <td>Valencia</td>\n",
              "      <td>La Coruna</td>\n",
              "      <td>0.714286</td>\n",
              "      <td>0.210526</td>\n",
              "      <td>0.125000</td>\n",
              "      <td>0.735294</td>\n",
              "      <td>0.200000</td>\n",
              "      <td>0.117647</td>\n",
              "      <td>0.689655</td>\n",
              "      <td>0.222222</td>\n",
              "      <td>0.142857</td>\n",
              "      <td>0.735294</td>\n",
              "      <td>0.192308</td>\n",
              "      <td>0.133333</td>\n",
              "      <td>0.735294</td>\n",
              "      <td>0.179856</td>\n",
              "      <td>0.111483</td>\n",
              "      <td>0.735294</td>\n",
              "      <td>0.222222</td>\n",
              "      <td>0.105263</td>\n",
              "      <td>0.714286</td>\n",
              "      <td>0.185185</td>\n",
              "      <td>0.125000</td>\n",
              "      <td>1.42</td>\n",
              "      <td>1.37</td>\n",
              "      <td>3.11</td>\n",
              "      <td>2.98</td>\n",
              "      <td>2018</td>\n",
              "      <td>11.8</td>\n",
              "      <td>4.2</td>\n",
              "      <td>14</td>\n",
              "      <td>4.6</td>\n",
              "      <td>2.2</td>\n",
              "      <td>0.2</td>\n",
              "      <td>11.8</td>\n",
              "      <td>4.2</td>\n",
              "      <td>14</td>\n",
              "      <td>4.6</td>\n",
              "      <td>2.2</td>\n",
              "      <td>0.2</td>\n",
              "    </tr>\n",
              "  </tbody>\n",
              "</table>\n",
              "<p>2848 rows × 43 columns</p>\n",
              "</div>"
            ],
            "text/plain": [
              "                 ID   League      Date    HomeTeam  ...    AF   AC   AY   AR\n",
              "0       ENG010117#0  Germany  09/09/16  Schalke 04  ...    15    5    2    0\n",
              "1       ENG010117#1  Germany  10/09/16   Darmstadt  ...    15    5    3    0\n",
              "2     ENG01012018#0  Germany  10/09/16    Freiburg  ...    10    2    3    0\n",
              "3     ENG01012018#1  Germany  10/09/16  Ingolstadt  ...    15    5    2    0\n",
              "4     ENG01012018#2  Germany  10/09/16  Leverkusen  ...    16    3    3    0\n",
              "...             ...      ...       ...         ...  ...   ...  ...  ...  ...\n",
              "2843    SPA310318#0    Spain  19/05/18  Villarreal  ...  13.2  5.2  2.2    0\n",
              "2844    SPA310318#1    Spain  20/05/18  Ath Bilbao  ...  14.8  4.6  3.6    0\n",
              "2845    SPA310318#2    Spain  20/05/18  Ath Madrid  ...  13.6  5.2  2.2  0.2\n",
              "2846    SPA310318#3    Spain  20/05/18   Barcelona  ...   8.4  5.8    2  0.4\n",
              "2847    SPA311016#0    Spain  20/05/18    Valencia  ...    14  4.6  2.2  0.2\n",
              "\n",
              "[2848 rows x 43 columns]"
            ]
          },
          "metadata": {
            "tags": []
          },
          "execution_count": 14
        }
      ]
    },
    {
      "cell_type": "markdown",
      "metadata": {
        "id": "xlplmOOPhJQU",
        "colab_type": "text"
      },
      "source": [
        "Agora também não contemos mais listas nos dados"
      ]
    },
    {
      "cell_type": "markdown",
      "metadata": {
        "id": "HFOgWuTslgyX",
        "colab_type": "text"
      },
      "source": [
        "### Correlação entre as variáveis"
      ]
    },
    {
      "cell_type": "code",
      "metadata": {
        "id": "ldkvg-JQjrTG",
        "colab_type": "code",
        "outputId": "1cedfd0e-a72f-4632-aa73-164f309471e5",
        "colab": {
          "base_uri": "https://localhost:8080/",
          "height": 1000
        }
      },
      "source": [
        "correlation = df_train.corr(method='spearman')\n",
        "mask = np.zeros_like(correlation)\n",
        "mask[np.triu_indices_from(mask)] = True\n",
        "\n",
        "fig, ax = plt.subplots()\n",
        "ax.figure.set_size_inches(20, 20)\n",
        "sns.heatmap(correlation, ax=ax, annot=True, mask=mask, fmt='.2f', cbar=False, square=True, cmap=plt.cm.Blues, center=0)"
      ],
      "execution_count": 0,
      "outputs": [
        {
          "output_type": "execute_result",
          "data": {
            "text/plain": [
              "<matplotlib.axes._subplots.AxesSubplot at 0x7f9c3f023f60>"
            ]
          },
          "metadata": {
            "tags": []
          },
          "execution_count": 16
        },
        {
          "output_type": "display_data",
          "data": {
            "image/png": "[encoded data removed]",
            "text/plain": [
              "<Figure size 1440x1440 with 1 Axes>"
            ]
          },
          "metadata": {
            "tags": []
          }
        }
      ]
    },
    {
      "cell_type": "markdown",
      "metadata": {
        "id": "LWcUiTUzkABb",
        "colab_type": "text"
      },
      "source": [
        "Algumas das variáveis com maior correlação entre si são PSH e BWH, PSA e IWA, entre outras variáveis relacionadas com as estatísticas das apostas. Em relação à variável a ser prevista, Result, as que estão maior correlacionadas com ela são B365H, B365A, BWH, IWH, LBH, PSH, VCH e VCA."
      ]
    },
    {
      "cell_type": "markdown",
      "metadata": {
        "id": "ILYO2h8_Q_tj",
        "colab_type": "text"
      },
      "source": [
        "### Distribuição das variáveis"
      ]
    },
    {
      "cell_type": "markdown",
      "metadata": {
        "id": "Ac9se7KnoBe6",
        "colab_type": "text"
      },
      "source": [
        "Nos dados de treino, como a variável dependente é result, vamos separá-la das outras."
      ]
    },
    {
      "cell_type": "code",
      "metadata": {
        "id": "ky82lDcNoMyq",
        "colab_type": "code",
        "outputId": "dbf5d90b-4634-420f-f118-2c1525326a57",
        "colab": {
          "base_uri": "https://localhost:8080/",
          "height": 35
        }
      },
      "source": [
        "result = df_train['Result']\n",
        "result.shape"
      ],
      "execution_count": 0,
      "outputs": [
        {
          "output_type": "execute_result",
          "data": {
            "text/plain": [
              "(5729,)"
            ]
          },
          "metadata": {
            "tags": []
          },
          "execution_count": 15
        }
      ]
    },
    {
      "cell_type": "code",
      "metadata": {
        "id": "assFGqMgojyz",
        "colab_type": "code",
        "colab": {}
      },
      "source": [
        "df_train.drop('Result', axis=1, inplace=True)"
      ],
      "execution_count": 0,
      "outputs": []
    },
    {
      "cell_type": "code",
      "metadata": {
        "id": "aZym9HF_owcS",
        "colab_type": "code",
        "outputId": "6da1b15b-c772-4054-b662-333ab04f6660",
        "colab": {
          "base_uri": "https://localhost:8080/",
          "height": 35
        }
      },
      "source": [
        "df_train.shape"
      ],
      "execution_count": 0,
      "outputs": [
        {
          "output_type": "execute_result",
          "data": {
            "text/plain": [
              "(5729, 43)"
            ]
          },
          "metadata": {
            "tags": []
          },
          "execution_count": 17
        }
      ]
    },
    {
      "cell_type": "markdown",
      "metadata": {
        "id": "I7gJRVDWnmA8",
        "colab_type": "text"
      },
      "source": [
        "Faremos um merge dos dados de treino e teste e analisaremos a distribuição das variáveis."
      ]
    },
    {
      "cell_type": "code",
      "metadata": {
        "id": "9ANct3abntRq",
        "colab_type": "code",
        "colab": {}
      },
      "source": [
        "df = pd.concat((df_train, df_test))"
      ],
      "execution_count": 0,
      "outputs": []
    },
    {
      "cell_type": "code",
      "metadata": {
        "id": "CgYRO_mnnZJe",
        "colab_type": "code",
        "outputId": "ee3855b9-b231-4dfc-d109-515817b46b14",
        "colab": {
          "base_uri": "https://localhost:8080/",
          "height": 1000
        }
      },
      "source": [
        "df.hist(grid=True, figsize=(20,20))"
      ],
      "execution_count": 0,
      "outputs": [
        {
          "output_type": "execute_result",
          "data": {
            "text/plain": [
              "array([[<matplotlib.axes._subplots.AxesSubplot object at 0x7f9c3fa0f940>,\n",
              "        <matplotlib.axes._subplots.AxesSubplot object at 0x7f9c3f74ac18>,\n",
              "        <matplotlib.axes._subplots.AxesSubplot object at 0x7f9c3f2c8208>,\n",
              "        <matplotlib.axes._subplots.AxesSubplot object at 0x7f9c3f2987b8>,\n",
              "        <matplotlib.axes._subplots.AxesSubplot object at 0x7f9c3f2e1d68>],\n",
              "       [<matplotlib.axes._subplots.AxesSubplot object at 0x7f9c3f426358>,\n",
              "        <matplotlib.axes._subplots.AxesSubplot object at 0x7f9c3f877908>,\n",
              "        <matplotlib.axes._subplots.AxesSubplot object at 0x7f9c3f540ef0>,\n",
              "        <matplotlib.axes._subplots.AxesSubplot object at 0x7f9c3f540f28>,\n",
              "        <matplotlib.axes._subplots.AxesSubplot object at 0x7f9c3fc13a58>],\n",
              "       [<matplotlib.axes._subplots.AxesSubplot object at 0x7f9c3fbd4048>,\n",
              "        <matplotlib.axes._subplots.AxesSubplot object at 0x7f9c3fc035f8>,\n",
              "        <matplotlib.axes._subplots.AxesSubplot object at 0x7f9c3fbb3ba8>,\n",
              "        <matplotlib.axes._subplots.AxesSubplot object at 0x7f9c3fb74198>,\n",
              "        <matplotlib.axes._subplots.AxesSubplot object at 0x7f9c3fae3748>],\n",
              "       [<matplotlib.axes._subplots.AxesSubplot object at 0x7f9c3fa95cf8>,\n",
              "        <matplotlib.axes._subplots.AxesSubplot object at 0x7f9c3fa532e8>,\n",
              "        <matplotlib.axes._subplots.AxesSubplot object at 0x7f9c3fa83898>,\n",
              "        <matplotlib.axes._subplots.AxesSubplot object at 0x7f9c3fa35e48>,\n",
              "        <matplotlib.axes._subplots.AxesSubplot object at 0x7f9c3f973438>],\n",
              "       [<matplotlib.axes._subplots.AxesSubplot object at 0x7f9c3f9249e8>,\n",
              "        <matplotlib.axes._subplots.AxesSubplot object at 0x7f9c3f8d5f98>,\n",
              "        <matplotlib.axes._subplots.AxesSubplot object at 0x7f9c3f912588>,\n",
              "        <matplotlib.axes._subplots.AxesSubplot object at 0x7f9c3f8c2b38>,\n",
              "        <matplotlib.axes._subplots.AxesSubplot object at 0x7f9c3f842128>],\n",
              "       [<matplotlib.axes._subplots.AxesSubplot object at 0x7f9c3f7f26d8>,\n",
              "        <matplotlib.axes._subplots.AxesSubplot object at 0x7f9c3f7a4c88>,\n",
              "        <matplotlib.axes._subplots.AxesSubplot object at 0x7f9c3f6a3278>,\n",
              "        <matplotlib.axes._subplots.AxesSubplot object at 0x7f9c3f653828>,\n",
              "        <matplotlib.axes._subplots.AxesSubplot object at 0x7f9c3f684dd8>]],\n",
              "      dtype=object)"
            ]
          },
          "metadata": {
            "tags": []
          },
          "execution_count": 21
        },
        {
          "output_type": "display_data",
          "data": {
            "image/png": "[encoded data removed]",
            "text/plain": [
              "<Figure size 1440x1440 with 30 Axes>"
            ]
          },
          "metadata": {
            "tags": []
          }
        }
      ]
    },
    {
      "cell_type": "markdown",
      "metadata": {
        "id": "xmL56oenazKe",
        "colab_type": "text"
      },
      "source": [
        "Agora iremos normalizar as variáveis, apenas as numéricas."
      ]
    },
    {
      "cell_type": "code",
      "metadata": {
        "id": "-la-Jw8gbA0i",
        "colab_type": "code",
        "outputId": "eec14657-05b1-43ee-c1ac-a58d066bed1a",
        "colab": {
          "base_uri": "https://localhost:8080/",
          "height": 89
        }
      },
      "source": [
        "numericas = df.dtypes[df.dtypes != \"object\"].index\n",
        "numericas"
      ],
      "execution_count": 0,
      "outputs": [
        {
          "output_type": "execute_result",
          "data": {
            "text/plain": [
              "Index(['B365H', 'B365D', 'B365A', 'BWH', 'BWD', 'BWA', 'IWH', 'IWD', 'IWA',\n",
              "       'LBH', 'LBD', 'LBA', 'PSH', 'PSD', 'PSA', 'WHH', 'WHD', 'WHA', 'VCH',\n",
              "       'VCD', 'VCA', 'BbMx>2.5', 'BbAv>2.5', 'BbMx<2.5', 'BbAv<2.5', 'Year'],\n",
              "      dtype='object')"
            ]
          },
          "metadata": {
            "tags": []
          },
          "execution_count": 19
        }
      ]
    },
    {
      "cell_type": "code",
      "metadata": {
        "id": "KUIqg3ZvbqRL",
        "colab_type": "code",
        "colab": {}
      },
      "source": [
        "from sklearn.preprocessing import StandardScaler\n",
        "\n",
        "standardscaler = StandardScaler()\n",
        "standardscaler = standardscaler.fit(df[numericas])\n",
        "normalizadas_train = standardscaler.transform(df_train[numericas])\n",
        "normalizadas_test = standardscaler.transform(df_test[numericas])\n",
        "\n",
        "normalizadas_train = pd.DataFrame(normalizadas_train)\n",
        "normalizadas_test = pd.DataFrame(normalizadas_test)\n",
        "\n",
        "normalizadas_train.columns = df_train[numericas].columns\n",
        "normalizadas_test.columns = df_test[numericas].columns\n",
        "\n",
        "normalizadas_train.index = df_train[numericas].index\n",
        "normalizadas_test.index = df_test[numericas].index"
      ],
      "execution_count": 0,
      "outputs": []
    },
    {
      "cell_type": "code",
      "metadata": {
        "id": "I6LybspsdOZG",
        "colab_type": "code",
        "colab": {}
      },
      "source": [
        "df_train[numericas] = normalizadas_train\n",
        "df_test[numericas] = normalizadas_test"
      ],
      "execution_count": 0,
      "outputs": []
    },
    {
      "cell_type": "code",
      "metadata": {
        "id": "Iim7T6iUrKqT",
        "colab_type": "code",
        "outputId": "112bd10a-0742-473a-c192-acddcc577a7e",
        "colab": {
          "base_uri": "https://localhost:8080/",
          "height": 507
        }
      },
      "source": [
        "df_train"
      ],
      "execution_count": 0,
      "outputs": [
        {
          "output_type": "execute_result",
          "data": {
            "text/html": [
              "<div>\n",
              "<style scoped>\n",
              "    .dataframe tbody tr th:only-of-type {\n",
              "        vertical-align: middle;\n",
              "    }\n",
              "\n",
              "    .dataframe tbody tr th {\n",
              "        vertical-align: top;\n",
              "    }\n",
              "\n",
              "    .dataframe thead th {\n",
              "        text-align: right;\n",
              "    }\n",
              "</style>\n",
              "<table border=\"1\" class=\"dataframe\">\n",
              "  <thead>\n",
              "    <tr style=\"text-align: right;\">\n",
              "      <th></th>\n",
              "      <th>ID</th>\n",
              "      <th>League</th>\n",
              "      <th>Date</th>\n",
              "      <th>HomeTeam</th>\n",
              "      <th>AwayTeam</th>\n",
              "      <th>B365H</th>\n",
              "      <th>B365D</th>\n",
              "      <th>B365A</th>\n",
              "      <th>BWH</th>\n",
              "      <th>BWD</th>\n",
              "      <th>BWA</th>\n",
              "      <th>IWH</th>\n",
              "      <th>IWD</th>\n",
              "      <th>IWA</th>\n",
              "      <th>LBH</th>\n",
              "      <th>LBD</th>\n",
              "      <th>LBA</th>\n",
              "      <th>PSH</th>\n",
              "      <th>PSD</th>\n",
              "      <th>PSA</th>\n",
              "      <th>WHH</th>\n",
              "      <th>WHD</th>\n",
              "      <th>WHA</th>\n",
              "      <th>VCH</th>\n",
              "      <th>VCD</th>\n",
              "      <th>VCA</th>\n",
              "      <th>BbMx&gt;2.5</th>\n",
              "      <th>BbAv&gt;2.5</th>\n",
              "      <th>BbMx&lt;2.5</th>\n",
              "      <th>BbAv&lt;2.5</th>\n",
              "      <th>Year</th>\n",
              "      <th>HS</th>\n",
              "      <th>HST</th>\n",
              "      <th>HF</th>\n",
              "      <th>HC</th>\n",
              "      <th>HY</th>\n",
              "      <th>HR</th>\n",
              "      <th>AS</th>\n",
              "      <th>AST</th>\n",
              "      <th>AF</th>\n",
              "      <th>AC</th>\n",
              "      <th>AY</th>\n",
              "      <th>AR</th>\n",
              "    </tr>\n",
              "  </thead>\n",
              "  <tbody>\n",
              "    <tr>\n",
              "      <th>0</th>\n",
              "      <td>GER310812#0</td>\n",
              "      <td>Germany</td>\n",
              "      <td>31/08/12</td>\n",
              "      <td>Mainz</td>\n",
              "      <td>Greuther Furth</td>\n",
              "      <td>0.403042</td>\n",
              "      <td>0.449398</td>\n",
              "      <td>-0.508418</td>\n",
              "      <td>0.292290</td>\n",
              "      <td>0.359714</td>\n",
              "      <td>-0.493476</td>\n",
              "      <td>0.385884</td>\n",
              "      <td>0.368610</td>\n",
              "      <td>-0.433499</td>\n",
              "      <td>0.347269</td>\n",
              "      <td>0.340515</td>\n",
              "      <td>-0.493076</td>\n",
              "      <td>0.359075</td>\n",
              "      <td>0.278889</td>\n",
              "      <td>-0.508343</td>\n",
              "      <td>0.386513</td>\n",
              "      <td>0.186406</td>\n",
              "      <td>-0.474426</td>\n",
              "      <td>0.359138</td>\n",
              "      <td>0.228584</td>\n",
              "      <td>-0.503164</td>\n",
              "      <td>0.451247</td>\n",
              "      <td>0.401504</td>\n",
              "      <td>-0.408370</td>\n",
              "      <td>-0.456766</td>\n",
              "      <td>-1.468991</td>\n",
              "      <td>8</td>\n",
              "      <td>3</td>\n",
              "      <td>13</td>\n",
              "      <td>8</td>\n",
              "      <td>2</td>\n",
              "      <td>0</td>\n",
              "      <td>8</td>\n",
              "      <td>3</td>\n",
              "      <td>13</td>\n",
              "      <td>8</td>\n",
              "      <td>2</td>\n",
              "      <td>0</td>\n",
              "    </tr>\n",
              "    <tr>\n",
              "      <th>1</th>\n",
              "      <td>GER010912#0</td>\n",
              "      <td>Germany</td>\n",
              "      <td>01/09/12</td>\n",
              "      <td>Fortuna Dusseldorf</td>\n",
              "      <td>M'gladbach</td>\n",
              "      <td>-0.656815</td>\n",
              "      <td>0.766735</td>\n",
              "      <td>0.582943</td>\n",
              "      <td>-0.733083</td>\n",
              "      <td>0.666027</td>\n",
              "      <td>0.661960</td>\n",
              "      <td>-0.713793</td>\n",
              "      <td>0.840140</td>\n",
              "      <td>0.632173</td>\n",
              "      <td>-0.744645</td>\n",
              "      <td>0.490787</td>\n",
              "      <td>0.660652</td>\n",
              "      <td>-0.775588</td>\n",
              "      <td>0.654596</td>\n",
              "      <td>0.623084</td>\n",
              "      <td>-0.708042</td>\n",
              "      <td>0.497782</td>\n",
              "      <td>0.640812</td>\n",
              "      <td>-0.788109</td>\n",
              "      <td>0.646681</td>\n",
              "      <td>0.617853</td>\n",
              "      <td>0.514270</td>\n",
              "      <td>0.469934</td>\n",
              "      <td>-0.479326</td>\n",
              "      <td>-0.518447</td>\n",
              "      <td>-1.468991</td>\n",
              "      <td>9</td>\n",
              "      <td>4</td>\n",
              "      <td>14</td>\n",
              "      <td>0</td>\n",
              "      <td>2</td>\n",
              "      <td>0</td>\n",
              "      <td>9</td>\n",
              "      <td>4</td>\n",
              "      <td>14</td>\n",
              "      <td>0</td>\n",
              "      <td>2</td>\n",
              "      <td>0</td>\n",
              "    </tr>\n",
              "    <tr>\n",
              "      <th>2</th>\n",
              "      <td>GER010912#1</td>\n",
              "      <td>Germany</td>\n",
              "      <td>01/09/12</td>\n",
              "      <td>Hoffenheim</td>\n",
              "      <td>Ein Frankfurt</td>\n",
              "      <td>0.062290</td>\n",
              "      <td>0.603400</td>\n",
              "      <td>-0.152055</td>\n",
              "      <td>0.053265</td>\n",
              "      <td>0.666027</td>\n",
              "      <td>-0.310889</td>\n",
              "      <td>0.162873</td>\n",
              "      <td>0.516261</td>\n",
              "      <td>-0.273300</td>\n",
              "      <td>0.109287</td>\n",
              "      <td>0.490787</td>\n",
              "      <td>-0.290899</td>\n",
              "      <td>0.072478</td>\n",
              "      <td>0.401605</td>\n",
              "      <td>-0.234042</td>\n",
              "      <td>0.085322</td>\n",
              "      <td>0.337515</td>\n",
              "      <td>-0.160534</td>\n",
              "      <td>0.093831</td>\n",
              "      <td>0.360207</td>\n",
              "      <td>-0.245706</td>\n",
              "      <td>0.167645</td>\n",
              "      <td>0.230427</td>\n",
              "      <td>-0.390631</td>\n",
              "      <td>-0.353965</td>\n",
              "      <td>-1.468991</td>\n",
              "      <td>14</td>\n",
              "      <td>8</td>\n",
              "      <td>6</td>\n",
              "      <td>4</td>\n",
              "      <td>0</td>\n",
              "      <td>0</td>\n",
              "      <td>14</td>\n",
              "      <td>8</td>\n",
              "      <td>6</td>\n",
              "      <td>4</td>\n",
              "      <td>0</td>\n",
              "      <td>0</td>\n",
              "    </tr>\n",
              "    <tr>\n",
              "      <th>3</th>\n",
              "      <td>GER010912#2</td>\n",
              "      <td>Germany</td>\n",
              "      <td>01/09/12</td>\n",
              "      <td>Leverkusen</td>\n",
              "      <td>Freiburg</td>\n",
              "      <td>0.812378</td>\n",
              "      <td>-0.205108</td>\n",
              "      <td>-0.735194</td>\n",
              "      <td>0.712387</td>\n",
              "      <td>-0.158663</td>\n",
              "      <td>-0.668897</td>\n",
              "      <td>0.853489</td>\n",
              "      <td>-0.026456</td>\n",
              "      <td>-0.807297</td>\n",
              "      <td>0.810927</td>\n",
              "      <td>-0.000102</td>\n",
              "      <td>-0.856908</td>\n",
              "      <td>0.741417</td>\n",
              "      <td>-0.247040</td>\n",
              "      <td>-0.742415</td>\n",
              "      <td>0.851292</td>\n",
              "      <td>-0.156108</td>\n",
              "      <td>-0.842840</td>\n",
              "      <td>0.745226</td>\n",
              "      <td>-0.335514</td>\n",
              "      <td>-0.747749</td>\n",
              "      <td>-0.809209</td>\n",
              "      <td>-0.830246</td>\n",
              "      <td>0.478581</td>\n",
              "      <td>0.406767</td>\n",
              "      <td>-1.468991</td>\n",
              "      <td>19</td>\n",
              "      <td>10</td>\n",
              "      <td>22</td>\n",
              "      <td>7</td>\n",
              "      <td>2</td>\n",
              "      <td>0</td>\n",
              "      <td>19</td>\n",
              "      <td>10</td>\n",
              "      <td>22</td>\n",
              "      <td>7</td>\n",
              "      <td>2</td>\n",
              "      <td>0</td>\n",
              "    </tr>\n",
              "    <tr>\n",
              "      <th>4</th>\n",
              "      <td>GER010912#3</td>\n",
              "      <td>Germany</td>\n",
              "      <td>01/09/12</td>\n",
              "      <td>Nurnberg</td>\n",
              "      <td>Dortmund</td>\n",
              "      <td>-1.552876</td>\n",
              "      <td>-0.205108</td>\n",
              "      <td>1.865417</td>\n",
              "      <td>-1.581512</td>\n",
              "      <td>-0.272057</td>\n",
              "      <td>1.902289</td>\n",
              "      <td>-1.546882</td>\n",
              "      <td>-0.026456</td>\n",
              "      <td>1.845462</td>\n",
              "      <td>-1.598578</td>\n",
              "      <td>-0.298143</td>\n",
              "      <td>1.899149</td>\n",
              "      <td>-1.533722</td>\n",
              "      <td>-0.292827</td>\n",
              "      <td>1.776943</td>\n",
              "      <td>-1.591654</td>\n",
              "      <td>-0.455808</td>\n",
              "      <td>1.947924</td>\n",
              "      <td>-1.555320</td>\n",
              "      <td>-0.335514</td>\n",
              "      <td>1.857008</td>\n",
              "      <td>-0.368049</td>\n",
              "      <td>-0.351232</td>\n",
              "      <td>-0.018111</td>\n",
              "      <td>0.036681</td>\n",
              "      <td>-1.468991</td>\n",
              "      <td>18</td>\n",
              "      <td>8</td>\n",
              "      <td>20</td>\n",
              "      <td>6</td>\n",
              "      <td>2</td>\n",
              "      <td>0</td>\n",
              "      <td>18</td>\n",
              "      <td>8</td>\n",
              "      <td>20</td>\n",
              "      <td>6</td>\n",
              "      <td>2</td>\n",
              "      <td>0</td>\n",
              "    </tr>\n",
              "    <tr>\n",
              "      <th>...</th>\n",
              "      <td>...</td>\n",
              "      <td>...</td>\n",
              "      <td>...</td>\n",
              "      <td>...</td>\n",
              "      <td>...</td>\n",
              "      <td>...</td>\n",
              "      <td>...</td>\n",
              "      <td>...</td>\n",
              "      <td>...</td>\n",
              "      <td>...</td>\n",
              "      <td>...</td>\n",
              "      <td>...</td>\n",
              "      <td>...</td>\n",
              "      <td>...</td>\n",
              "      <td>...</td>\n",
              "      <td>...</td>\n",
              "      <td>...</td>\n",
              "      <td>...</td>\n",
              "      <td>...</td>\n",
              "      <td>...</td>\n",
              "      <td>...</td>\n",
              "      <td>...</td>\n",
              "      <td>...</td>\n",
              "      <td>...</td>\n",
              "      <td>...</td>\n",
              "      <td>...</td>\n",
              "      <td>...</td>\n",
              "      <td>...</td>\n",
              "      <td>...</td>\n",
              "      <td>...</td>\n",
              "      <td>...</td>\n",
              "      <td>...</td>\n",
              "      <td>...</td>\n",
              "      <td>...</td>\n",
              "      <td>...</td>\n",
              "      <td>...</td>\n",
              "      <td>...</td>\n",
              "      <td>...</td>\n",
              "      <td>...</td>\n",
              "      <td>...</td>\n",
              "      <td>...</td>\n",
              "      <td>...</td>\n",
              "      <td>...</td>\n",
              "    </tr>\n",
              "    <tr>\n",
              "      <th>5724</th>\n",
              "      <td>SPA150516#0</td>\n",
              "      <td>Spain</td>\n",
              "      <td>15/05/16</td>\n",
              "      <td>Betis</td>\n",
              "      <td>Getafe</td>\n",
              "      <td>-1.385226</td>\n",
              "      <td>0.036026</td>\n",
              "      <td>1.545908</td>\n",
              "      <td>-1.323294</td>\n",
              "      <td>-0.039300</td>\n",
              "      <td>1.531801</td>\n",
              "      <td>-1.426084</td>\n",
              "      <td>-0.362262</td>\n",
              "      <td>1.729189</td>\n",
              "      <td>-1.313934</td>\n",
              "      <td>-0.062848</td>\n",
              "      <td>1.529208</td>\n",
              "      <td>-1.358454</td>\n",
              "      <td>-0.122730</td>\n",
              "      <td>1.535833</td>\n",
              "      <td>-1.392841</td>\n",
              "      <td>-0.219203</td>\n",
              "      <td>1.784037</td>\n",
              "      <td>-1.354084</td>\n",
              "      <td>-0.126798</td>\n",
              "      <td>1.525623</td>\n",
              "      <td>-0.683164</td>\n",
              "      <td>-0.624954</td>\n",
              "      <td>0.194757</td>\n",
              "      <td>0.221724</td>\n",
              "      <td>0.290803</td>\n",
              "      <td>9</td>\n",
              "      <td>3.2</td>\n",
              "      <td>12.6</td>\n",
              "      <td>3.8</td>\n",
              "      <td>3</td>\n",
              "      <td>0.2</td>\n",
              "      <td>9</td>\n",
              "      <td>3.2</td>\n",
              "      <td>12.6</td>\n",
              "      <td>3.8</td>\n",
              "      <td>3</td>\n",
              "      <td>0.2</td>\n",
              "    </tr>\n",
              "    <tr>\n",
              "      <th>5725</th>\n",
              "      <td>SPA150516#1</td>\n",
              "      <td>Spain</td>\n",
              "      <td>15/05/16</td>\n",
              "      <td>Espanol</td>\n",
              "      <td>Eibar</td>\n",
              "      <td>0.123625</td>\n",
              "      <td>0.303953</td>\n",
              "      <td>-0.238738</td>\n",
              "      <td>0.115345</td>\n",
              "      <td>0.219320</td>\n",
              "      <td>-0.135395</td>\n",
              "      <td>0.307529</td>\n",
              "      <td>0.297994</td>\n",
              "      <td>-0.433499</td>\n",
              "      <td>0.174975</td>\n",
              "      <td>0.340515</td>\n",
              "      <td>-0.290899</td>\n",
              "      <td>0.096003</td>\n",
              "      <td>0.339406</td>\n",
              "      <td>-0.237867</td>\n",
              "      <td>0.085322</td>\n",
              "      <td>0.337515</td>\n",
              "      <td>-0.034570</td>\n",
              "      <td>0.093831</td>\n",
              "      <td>0.228584</td>\n",
              "      <td>-0.225967</td>\n",
              "      <td>-0.588629</td>\n",
              "      <td>-0.556523</td>\n",
              "      <td>0.106062</td>\n",
              "      <td>0.139483</td>\n",
              "      <td>0.290803</td>\n",
              "      <td>8.8</td>\n",
              "      <td>3.6</td>\n",
              "      <td>16.2</td>\n",
              "      <td>3.4</td>\n",
              "      <td>3</td>\n",
              "      <td>0</td>\n",
              "      <td>8.8</td>\n",
              "      <td>3.6</td>\n",
              "      <td>16.2</td>\n",
              "      <td>3.4</td>\n",
              "      <td>3</td>\n",
              "      <td>0</td>\n",
              "    </tr>\n",
              "    <tr>\n",
              "      <th>5726</th>\n",
              "      <td>SPA150516#2</td>\n",
              "      <td>Spain</td>\n",
              "      <td>15/05/16</td>\n",
              "      <td>Malaga</td>\n",
              "      <td>Las Palmas</td>\n",
              "      <td>0.403042</td>\n",
              "      <td>0.100328</td>\n",
              "      <td>-0.508418</td>\n",
              "      <td>0.351792</td>\n",
              "      <td>0.086516</td>\n",
              "      <td>-0.385474</td>\n",
              "      <td>0.307529</td>\n",
              "      <td>0.297994</td>\n",
              "      <td>-0.433499</td>\n",
              "      <td>0.393932</td>\n",
              "      <td>0.198591</td>\n",
              "      <td>-0.493076</td>\n",
              "      <td>0.359075</td>\n",
              "      <td>0.128937</td>\n",
              "      <td>-0.455422</td>\n",
              "      <td>0.386513</td>\n",
              "      <td>0.337515</td>\n",
              "      <td>-0.365226</td>\n",
              "      <td>0.359138</td>\n",
              "      <td>0.103889</td>\n",
              "      <td>-0.447576</td>\n",
              "      <td>-0.147470</td>\n",
              "      <td>-0.282801</td>\n",
              "      <td>-0.089067</td>\n",
              "      <td>-0.066120</td>\n",
              "      <td>0.290803</td>\n",
              "      <td>14</td>\n",
              "      <td>6.2</td>\n",
              "      <td>14.8</td>\n",
              "      <td>7</td>\n",
              "      <td>2.2</td>\n",
              "      <td>0</td>\n",
              "      <td>14</td>\n",
              "      <td>6.2</td>\n",
              "      <td>14.8</td>\n",
              "      <td>7</td>\n",
              "      <td>2.2</td>\n",
              "      <td>0</td>\n",
              "    </tr>\n",
              "    <tr>\n",
              "      <th>5727</th>\n",
              "      <td>SPA150516#3</td>\n",
              "      <td>Spain</td>\n",
              "      <td>15/05/16</td>\n",
              "      <td>Sp Gijon</td>\n",
              "      <td>Villarreal</td>\n",
              "      <td>1.101584</td>\n",
              "      <td>-0.714168</td>\n",
              "      <td>-1.007325</td>\n",
              "      <td>1.105178</td>\n",
              "      <td>-0.609099</td>\n",
              "      <td>-0.992810</td>\n",
              "      <td>1.085679</td>\n",
              "      <td>-0.822440</td>\n",
              "      <td>-0.826715</td>\n",
              "      <td>1.105543</td>\n",
              "      <td>-0.638858</td>\n",
              "      <td>-0.991672</td>\n",
              "      <td>1.077959</td>\n",
              "      <td>-0.653653</td>\n",
              "      <td>-0.980654</td>\n",
              "      <td>1.356424</td>\n",
              "      <td>-0.798421</td>\n",
              "      <td>-1.081647</td>\n",
              "      <td>1.109318</td>\n",
              "      <td>-0.698499</td>\n",
              "      <td>-1.022908</td>\n",
              "      <td>-0.242004</td>\n",
              "      <td>-0.180156</td>\n",
              "      <td>-0.142284</td>\n",
              "      <td>-0.148362</td>\n",
              "      <td>0.290803</td>\n",
              "      <td>8.6</td>\n",
              "      <td>2.6</td>\n",
              "      <td>13.6</td>\n",
              "      <td>4</td>\n",
              "      <td>2.4</td>\n",
              "      <td>0.4</td>\n",
              "      <td>8.6</td>\n",
              "      <td>2.6</td>\n",
              "      <td>13.6</td>\n",
              "      <td>4</td>\n",
              "      <td>2.4</td>\n",
              "      <td>0.4</td>\n",
              "    </tr>\n",
              "    <tr>\n",
              "      <th>5728</th>\n",
              "      <td>SPA150516#4</td>\n",
              "      <td>Spain</td>\n",
              "      <td>15/05/16</td>\n",
              "      <td>Vallecano</td>\n",
              "      <td>Levante</td>\n",
              "      <td>1.390454</td>\n",
              "      <td>-1.295952</td>\n",
              "      <td>-1.132052</td>\n",
              "      <td>1.397556</td>\n",
              "      <td>-0.970331</td>\n",
              "      <td>-1.189783</td>\n",
              "      <td>1.214213</td>\n",
              "      <td>-1.190583</td>\n",
              "      <td>-0.914096</td>\n",
              "      <td>1.399818</td>\n",
              "      <td>-1.362572</td>\n",
              "      <td>-1.171358</td>\n",
              "      <td>1.410577</td>\n",
              "      <td>-1.339963</td>\n",
              "      <td>-1.110586</td>\n",
              "      <td>1.561349</td>\n",
              "      <td>-1.681852</td>\n",
              "      <td>-1.033885</td>\n",
              "      <td>1.422363</td>\n",
              "      <td>-1.460768</td>\n",
              "      <td>-1.101040</td>\n",
              "      <td>-1.470949</td>\n",
              "      <td>-1.548766</td>\n",
              "      <td>1.560661</td>\n",
              "      <td>1.517023</td>\n",
              "      <td>0.290803</td>\n",
              "      <td>13.4</td>\n",
              "      <td>4.8</td>\n",
              "      <td>13.2</td>\n",
              "      <td>6.6</td>\n",
              "      <td>2.6</td>\n",
              "      <td>0</td>\n",
              "      <td>13.4</td>\n",
              "      <td>4.8</td>\n",
              "      <td>13.2</td>\n",
              "      <td>6.6</td>\n",
              "      <td>2.6</td>\n",
              "      <td>0</td>\n",
              "    </tr>\n",
              "  </tbody>\n",
              "</table>\n",
              "<p>5729 rows × 43 columns</p>\n",
              "</div>"
            ],
            "text/plain": [
              "               ID   League      Date            HomeTeam  ...    AF   AC   AY   AR\n",
              "0     GER310812#0  Germany  31/08/12               Mainz  ...    13    8    2    0\n",
              "1     GER010912#0  Germany  01/09/12  Fortuna Dusseldorf  ...    14    0    2    0\n",
              "2     GER010912#1  Germany  01/09/12          Hoffenheim  ...     6    4    0    0\n",
              "3     GER010912#2  Germany  01/09/12          Leverkusen  ...    22    7    2    0\n",
              "4     GER010912#3  Germany  01/09/12            Nurnberg  ...    20    6    2    0\n",
              "...           ...      ...       ...                 ...  ...   ...  ...  ...  ...\n",
              "5724  SPA150516#0    Spain  15/05/16               Betis  ...  12.6  3.8    3  0.2\n",
              "5725  SPA150516#1    Spain  15/05/16             Espanol  ...  16.2  3.4    3    0\n",
              "5726  SPA150516#2    Spain  15/05/16              Malaga  ...  14.8    7  2.2    0\n",
              "5727  SPA150516#3    Spain  15/05/16            Sp Gijon  ...  13.6    4  2.4  0.4\n",
              "5728  SPA150516#4    Spain  15/05/16           Vallecano  ...  13.2  6.6  2.6    0\n",
              "\n",
              "[5729 rows x 43 columns]"
            ]
          },
          "metadata": {
            "tags": []
          },
          "execution_count": 25
        }
      ]
    },
    {
      "cell_type": "code",
      "metadata": {
        "id": "NvtC5TKCrPZM",
        "colab_type": "code",
        "outputId": "9a7030c1-b80b-4d35-e246-492a2ad910f7",
        "colab": {
          "base_uri": "https://localhost:8080/",
          "height": 490
        }
      },
      "source": [
        "df_test"
      ],
      "execution_count": 0,
      "outputs": [
        {
          "output_type": "execute_result",
          "data": {
            "text/html": [
              "<div>\n",
              "<style scoped>\n",
              "    .dataframe tbody tr th:only-of-type {\n",
              "        vertical-align: middle;\n",
              "    }\n",
              "\n",
              "    .dataframe tbody tr th {\n",
              "        vertical-align: top;\n",
              "    }\n",
              "\n",
              "    .dataframe thead th {\n",
              "        text-align: right;\n",
              "    }\n",
              "</style>\n",
              "<table border=\"1\" class=\"dataframe\">\n",
              "  <thead>\n",
              "    <tr style=\"text-align: right;\">\n",
              "      <th></th>\n",
              "      <th>ID</th>\n",
              "      <th>League</th>\n",
              "      <th>Date</th>\n",
              "      <th>HomeTeam</th>\n",
              "      <th>AwayTeam</th>\n",
              "      <th>B365H</th>\n",
              "      <th>B365D</th>\n",
              "      <th>B365A</th>\n",
              "      <th>BWH</th>\n",
              "      <th>BWD</th>\n",
              "      <th>BWA</th>\n",
              "      <th>IWH</th>\n",
              "      <th>IWD</th>\n",
              "      <th>IWA</th>\n",
              "      <th>LBH</th>\n",
              "      <th>LBD</th>\n",
              "      <th>LBA</th>\n",
              "      <th>PSH</th>\n",
              "      <th>PSD</th>\n",
              "      <th>PSA</th>\n",
              "      <th>WHH</th>\n",
              "      <th>WHD</th>\n",
              "      <th>WHA</th>\n",
              "      <th>VCH</th>\n",
              "      <th>VCD</th>\n",
              "      <th>VCA</th>\n",
              "      <th>BbMx&gt;2.5</th>\n",
              "      <th>BbAv&gt;2.5</th>\n",
              "      <th>BbMx&lt;2.5</th>\n",
              "      <th>BbAv&lt;2.5</th>\n",
              "      <th>Year</th>\n",
              "      <th>HS</th>\n",
              "      <th>HST</th>\n",
              "      <th>HF</th>\n",
              "      <th>HC</th>\n",
              "      <th>HY</th>\n",
              "      <th>HR</th>\n",
              "      <th>AS</th>\n",
              "      <th>AST</th>\n",
              "      <th>AF</th>\n",
              "      <th>AC</th>\n",
              "      <th>AY</th>\n",
              "      <th>AR</th>\n",
              "    </tr>\n",
              "  </thead>\n",
              "  <tbody>\n",
              "    <tr>\n",
              "      <th>0</th>\n",
              "      <td>ENG010117#0</td>\n",
              "      <td>Germany</td>\n",
              "      <td>09/09/16</td>\n",
              "      <td>Schalke 04</td>\n",
              "      <td>Bayern Munich</td>\n",
              "      <td>-1.888176</td>\n",
              "      <td>-1.454620</td>\n",
              "      <td>2.561784</td>\n",
              "      <td>-1.967161</td>\n",
              "      <td>-1.618005</td>\n",
              "      <td>2.557768</td>\n",
              "      <td>-1.899327</td>\n",
              "      <td>-1.190583</td>\n",
              "      <td>2.396685</td>\n",
              "      <td>-1.940152</td>\n",
              "      <td>-1.362572</td>\n",
              "      <td>2.553659</td>\n",
              "      <td>-1.885628</td>\n",
              "      <td>-1.363723</td>\n",
              "      <td>2.540609</td>\n",
              "      <td>-1.849373</td>\n",
              "      <td>-1.681852</td>\n",
              "      <td>2.610677</td>\n",
              "      <td>-1.902909</td>\n",
              "      <td>-1.460768</td>\n",
              "      <td>2.634735</td>\n",
              "      <td>-1.061300</td>\n",
              "      <td>-1.069752</td>\n",
              "      <td>0.797884</td>\n",
              "      <td>0.674051</td>\n",
              "      <td>0.877401</td>\n",
              "      <td>11</td>\n",
              "      <td>3</td>\n",
              "      <td>15</td>\n",
              "      <td>5</td>\n",
              "      <td>2</td>\n",
              "      <td>0</td>\n",
              "      <td>11</td>\n",
              "      <td>3</td>\n",
              "      <td>15</td>\n",
              "      <td>5</td>\n",
              "      <td>2</td>\n",
              "      <td>0</td>\n",
              "    </tr>\n",
              "    <tr>\n",
              "      <th>1</th>\n",
              "      <td>ENG010117#1</td>\n",
              "      <td>Germany</td>\n",
              "      <td>10/09/16</td>\n",
              "      <td>Darmstadt</td>\n",
              "      <td>Ein Frankfurt</td>\n",
              "      <td>-0.714625</td>\n",
              "      <td>0.766735</td>\n",
              "      <td>0.582943</td>\n",
              "      <td>-0.733083</td>\n",
              "      <td>0.666027</td>\n",
              "      <td>0.559270</td>\n",
              "      <td>-0.713793</td>\n",
              "      <td>0.673140</td>\n",
              "      <td>0.431576</td>\n",
              "      <td>-0.744645</td>\n",
              "      <td>0.733535</td>\n",
              "      <td>0.660652</td>\n",
              "      <td>-0.780494</td>\n",
              "      <td>0.682876</td>\n",
              "      <td>0.613488</td>\n",
              "      <td>-0.585757</td>\n",
              "      <td>0.668066</td>\n",
              "      <td>0.494479</td>\n",
              "      <td>-0.752949</td>\n",
              "      <td>0.646681</td>\n",
              "      <td>0.637550</td>\n",
              "      <td>0.640316</td>\n",
              "      <td>0.777871</td>\n",
              "      <td>-0.674455</td>\n",
              "      <td>-0.662369</td>\n",
              "      <td>0.877401</td>\n",
              "      <td>12</td>\n",
              "      <td>3</td>\n",
              "      <td>15</td>\n",
              "      <td>5</td>\n",
              "      <td>3</td>\n",
              "      <td>0</td>\n",
              "      <td>12</td>\n",
              "      <td>3</td>\n",
              "      <td>15</td>\n",
              "      <td>5</td>\n",
              "      <td>3</td>\n",
              "      <td>0</td>\n",
              "    </tr>\n",
              "    <tr>\n",
              "      <th>2</th>\n",
              "      <td>ENG01012018#0</td>\n",
              "      <td>Germany</td>\n",
              "      <td>10/09/16</td>\n",
              "      <td>Freiburg</td>\n",
              "      <td>M'gladbach</td>\n",
              "      <td>-0.994042</td>\n",
              "      <td>0.303953</td>\n",
              "      <td>1.050669</td>\n",
              "      <td>-1.054110</td>\n",
              "      <td>0.219320</td>\n",
              "      <td>1.031643</td>\n",
              "      <td>-1.139984</td>\n",
              "      <td>0.368610</td>\n",
              "      <td>1.008293</td>\n",
              "      <td>-0.988626</td>\n",
              "      <td>0.198591</td>\n",
              "      <td>1.029789</td>\n",
              "      <td>-1.017251</td>\n",
              "      <td>0.196861</td>\n",
              "      <td>1.044256</td>\n",
              "      <td>-1.050442</td>\n",
              "      <td>0.668066</td>\n",
              "      <td>0.997721</td>\n",
              "      <td>-0.922865</td>\n",
              "      <td>0.165405</td>\n",
              "      <td>1.018039</td>\n",
              "      <td>-0.620141</td>\n",
              "      <td>-0.624954</td>\n",
              "      <td>0.230235</td>\n",
              "      <td>0.242284</td>\n",
              "      <td>0.877401</td>\n",
              "      <td>8</td>\n",
              "      <td>2</td>\n",
              "      <td>10</td>\n",
              "      <td>2</td>\n",
              "      <td>3</td>\n",
              "      <td>0</td>\n",
              "      <td>8</td>\n",
              "      <td>2</td>\n",
              "      <td>10</td>\n",
              "      <td>2</td>\n",
              "      <td>3</td>\n",
              "      <td>0</td>\n",
              "    </tr>\n",
              "    <tr>\n",
              "      <th>3</th>\n",
              "      <td>ENG01012018#1</td>\n",
              "      <td>Germany</td>\n",
              "      <td>10/09/16</td>\n",
              "      <td>Ingolstadt</td>\n",
              "      <td>Hertha</td>\n",
              "      <td>-0.295500</td>\n",
              "      <td>1.125018</td>\n",
              "      <td>-0.001715</td>\n",
              "      <td>-0.352156</td>\n",
              "      <td>1.011865</td>\n",
              "      <td>0.025947</td>\n",
              "      <td>-0.338903</td>\n",
              "      <td>0.673140</td>\n",
              "      <td>0.015584</td>\n",
              "      <td>-0.317679</td>\n",
              "      <td>1.192058</td>\n",
              "      <td>0.025579</td>\n",
              "      <td>-0.342625</td>\n",
              "      <td>1.066777</td>\n",
              "      <td>0.001964</td>\n",
              "      <td>-0.365643</td>\n",
              "      <td>0.849336</td>\n",
              "      <td>0.178266</td>\n",
              "      <td>-0.306837</td>\n",
              "      <td>0.968963</td>\n",
              "      <td>0.071182</td>\n",
              "      <td>2.247398</td>\n",
              "      <td>2.078051</td>\n",
              "      <td>-1.011496</td>\n",
              "      <td>-1.073575</td>\n",
              "      <td>0.877401</td>\n",
              "      <td>13</td>\n",
              "      <td>5</td>\n",
              "      <td>15</td>\n",
              "      <td>5</td>\n",
              "      <td>2</td>\n",
              "      <td>0</td>\n",
              "      <td>13</td>\n",
              "      <td>5</td>\n",
              "      <td>15</td>\n",
              "      <td>5</td>\n",
              "      <td>2</td>\n",
              "      <td>0</td>\n",
              "    </tr>\n",
              "    <tr>\n",
              "      <th>4</th>\n",
              "      <td>ENG01012018#2</td>\n",
              "      <td>Germany</td>\n",
              "      <td>10/09/16</td>\n",
              "      <td>Leverkusen</td>\n",
              "      <td>Hamburg</td>\n",
              "      <td>1.077496</td>\n",
              "      <td>-0.714168</td>\n",
              "      <td>-0.953871</td>\n",
              "      <td>0.963773</td>\n",
              "      <td>-0.609099</td>\n",
              "      <td>-0.930519</td>\n",
              "      <td>0.853489</td>\n",
              "      <td>-0.362262</td>\n",
              "      <td>-0.945103</td>\n",
              "      <td>1.105543</td>\n",
              "      <td>-0.638858</td>\n",
              "      <td>-0.991672</td>\n",
              "      <td>1.031939</td>\n",
              "      <td>-0.623673</td>\n",
              "      <td>-0.955849</td>\n",
              "      <td>1.003954</td>\n",
              "      <td>-0.669879</td>\n",
              "      <td>-0.916319</td>\n",
              "      <td>1.109318</td>\n",
              "      <td>-0.698499</td>\n",
              "      <td>-0.922453</td>\n",
              "      <td>-0.494095</td>\n",
              "      <td>-0.488093</td>\n",
              "      <td>-0.000372</td>\n",
              "      <td>0.077802</td>\n",
              "      <td>0.877401</td>\n",
              "      <td>12</td>\n",
              "      <td>6</td>\n",
              "      <td>16</td>\n",
              "      <td>3</td>\n",
              "      <td>3</td>\n",
              "      <td>0</td>\n",
              "      <td>12</td>\n",
              "      <td>6</td>\n",
              "      <td>16</td>\n",
              "      <td>3</td>\n",
              "      <td>3</td>\n",
              "      <td>0</td>\n",
              "    </tr>\n",
              "    <tr>\n",
              "      <th>...</th>\n",
              "      <td>...</td>\n",
              "      <td>...</td>\n",
              "      <td>...</td>\n",
              "      <td>...</td>\n",
              "      <td>...</td>\n",
              "      <td>...</td>\n",
              "      <td>...</td>\n",
              "      <td>...</td>\n",
              "      <td>...</td>\n",
              "      <td>...</td>\n",
              "      <td>...</td>\n",
              "      <td>...</td>\n",
              "      <td>...</td>\n",
              "      <td>...</td>\n",
              "      <td>...</td>\n",
              "      <td>...</td>\n",
              "      <td>...</td>\n",
              "      <td>...</td>\n",
              "      <td>...</td>\n",
              "      <td>...</td>\n",
              "      <td>...</td>\n",
              "      <td>...</td>\n",
              "      <td>...</td>\n",
              "      <td>...</td>\n",
              "      <td>...</td>\n",
              "      <td>...</td>\n",
              "      <td>...</td>\n",
              "      <td>...</td>\n",
              "      <td>...</td>\n",
              "      <td>...</td>\n",
              "      <td>...</td>\n",
              "      <td>...</td>\n",
              "      <td>...</td>\n",
              "      <td>...</td>\n",
              "      <td>...</td>\n",
              "      <td>...</td>\n",
              "      <td>...</td>\n",
              "      <td>...</td>\n",
              "      <td>...</td>\n",
              "      <td>...</td>\n",
              "      <td>...</td>\n",
              "      <td>...</td>\n",
              "      <td>...</td>\n",
              "    </tr>\n",
              "    <tr>\n",
              "      <th>2843</th>\n",
              "      <td>SPA310318#0</td>\n",
              "      <td>Spain</td>\n",
              "      <td>19/05/18</td>\n",
              "      <td>Villarreal</td>\n",
              "      <td>Real Madrid</td>\n",
              "      <td>-0.768706</td>\n",
              "      <td>-0.316853</td>\n",
              "      <td>0.917033</td>\n",
              "      <td>-0.787821</td>\n",
              "      <td>-0.482648</td>\n",
              "      <td>0.962515</td>\n",
              "      <td>-0.425877</td>\n",
              "      <td>-0.144283</td>\n",
              "      <td>0.431576</td>\n",
              "      <td>-0.744645</td>\n",
              "      <td>-0.298143</td>\n",
              "      <td>0.895025</td>\n",
              "      <td>-0.692694</td>\n",
              "      <td>-0.292827</td>\n",
              "      <td>0.879910</td>\n",
              "      <td>-0.708042</td>\n",
              "      <td>-0.669879</td>\n",
              "      <td>0.997721</td>\n",
              "      <td>-0.752949</td>\n",
              "      <td>-0.335514</td>\n",
              "      <td>0.952702</td>\n",
              "      <td>-2.006643</td>\n",
              "      <td>-2.061995</td>\n",
              "      <td>3.245868</td>\n",
              "      <td>3.573053</td>\n",
              "      <td>1.463999</td>\n",
              "      <td>14.8</td>\n",
              "      <td>6.4</td>\n",
              "      <td>13.2</td>\n",
              "      <td>5.2</td>\n",
              "      <td>2.2</td>\n",
              "      <td>0</td>\n",
              "      <td>14.8</td>\n",
              "      <td>6.4</td>\n",
              "      <td>13.2</td>\n",
              "      <td>5.2</td>\n",
              "      <td>2.2</td>\n",
              "      <td>0</td>\n",
              "    </tr>\n",
              "    <tr>\n",
              "      <th>2844</th>\n",
              "      <td>SPA310318#1</td>\n",
              "      <td>Spain</td>\n",
              "      <td>20/05/18</td>\n",
              "      <td>Ath Bilbao</td>\n",
              "      <td>Espanol</td>\n",
              "      <td>0.074316</td>\n",
              "      <td>0.449398</td>\n",
              "      <td>-0.196600</td>\n",
              "      <td>0.115345</td>\n",
              "      <td>0.359714</td>\n",
              "      <td>-0.310889</td>\n",
              "      <td>0.095969</td>\n",
              "      <td>0.097917</td>\n",
              "      <td>-0.273300</td>\n",
              "      <td>0.109287</td>\n",
              "      <td>0.340515</td>\n",
              "      <td>-0.183088</td>\n",
              "      <td>0.107937</td>\n",
              "      <td>0.231639</td>\n",
              "      <td>-0.182429</td>\n",
              "      <td>0.025670</td>\n",
              "      <td>0.337515</td>\n",
              "      <td>-0.160534</td>\n",
              "      <td>0.155183</td>\n",
              "      <td>0.228584</td>\n",
              "      <td>-0.163462</td>\n",
              "      <td>-0.399561</td>\n",
              "      <td>-0.385447</td>\n",
              "      <td>-0.018111</td>\n",
              "      <td>0.016121</td>\n",
              "      <td>1.463999</td>\n",
              "      <td>12</td>\n",
              "      <td>3.8</td>\n",
              "      <td>14.8</td>\n",
              "      <td>4.6</td>\n",
              "      <td>3.6</td>\n",
              "      <td>0</td>\n",
              "      <td>12</td>\n",
              "      <td>3.8</td>\n",
              "      <td>14.8</td>\n",
              "      <td>4.6</td>\n",
              "      <td>3.6</td>\n",
              "      <td>0</td>\n",
              "    </tr>\n",
              "    <tr>\n",
              "      <th>2845</th>\n",
              "      <td>SPA310318#2</td>\n",
              "      <td>Spain</td>\n",
              "      <td>20/05/18</td>\n",
              "      <td>Ath Madrid</td>\n",
              "      <td>Eibar</td>\n",
              "      <td>0.732788</td>\n",
              "      <td>0.036026</td>\n",
              "      <td>-0.820235</td>\n",
              "      <td>0.751666</td>\n",
              "      <td>-0.272057</td>\n",
              "      <td>-0.816770</td>\n",
              "      <td>0.649443</td>\n",
              "      <td>-0.026456</td>\n",
              "      <td>-0.826715</td>\n",
              "      <td>0.749737</td>\n",
              "      <td>-0.183512</td>\n",
              "      <td>-0.771149</td>\n",
              "      <td>0.799391</td>\n",
              "      <td>-0.219041</td>\n",
              "      <td>-0.793498</td>\n",
              "      <td>0.750325</td>\n",
              "      <td>-0.219203</td>\n",
              "      <td>-0.756001</td>\n",
              "      <td>0.844127</td>\n",
              "      <td>-0.233701</td>\n",
              "      <td>-0.747749</td>\n",
              "      <td>-0.242004</td>\n",
              "      <td>-0.145940</td>\n",
              "      <td>-0.195501</td>\n",
              "      <td>-0.148362</td>\n",
              "      <td>1.463999</td>\n",
              "      <td>9.4</td>\n",
              "      <td>3.2</td>\n",
              "      <td>13.6</td>\n",
              "      <td>5.2</td>\n",
              "      <td>2.2</td>\n",
              "      <td>0.2</td>\n",
              "      <td>9.4</td>\n",
              "      <td>3.2</td>\n",
              "      <td>13.6</td>\n",
              "      <td>5.2</td>\n",
              "      <td>2.2</td>\n",
              "      <td>0.2</td>\n",
              "    </tr>\n",
              "    <tr>\n",
              "      <th>2846</th>\n",
              "      <td>SPA310318#3</td>\n",
              "      <td>Spain</td>\n",
              "      <td>20/05/18</td>\n",
              "      <td>Barcelona</td>\n",
              "      <td>Sociedad</td>\n",
              "      <td>1.731417</td>\n",
              "      <td>-2.168627</td>\n",
              "      <td>-1.245440</td>\n",
              "      <td>1.742658</td>\n",
              "      <td>-2.254513</td>\n",
              "      <td>-1.262737</td>\n",
              "      <td>1.500942</td>\n",
              "      <td>-1.491791</td>\n",
              "      <td>-1.268221</td>\n",
              "      <td>1.747159</td>\n",
              "      <td>-2.017605</td>\n",
              "      <td>-1.204458</td>\n",
              "      <td>1.681380</td>\n",
              "      <td>-1.968147</td>\n",
              "      <td>-1.103700</td>\n",
              "      <td>1.688753</td>\n",
              "      <td>-1.954306</td>\n",
              "      <td>-1.277034</td>\n",
              "      <td>1.763419</td>\n",
              "      <td>-2.005245</td>\n",
              "      <td>-1.214685</td>\n",
              "      <td>-2.384780</td>\n",
              "      <td>-2.404147</td>\n",
              "      <td>6.438891</td>\n",
              "      <td>6.143091</td>\n",
              "      <td>1.463999</td>\n",
              "      <td>15.2</td>\n",
              "      <td>6.4</td>\n",
              "      <td>8.4</td>\n",
              "      <td>5.8</td>\n",
              "      <td>2</td>\n",
              "      <td>0.4</td>\n",
              "      <td>15.2</td>\n",
              "      <td>6.4</td>\n",
              "      <td>8.4</td>\n",
              "      <td>5.8</td>\n",
              "      <td>2</td>\n",
              "      <td>0.4</td>\n",
              "    </tr>\n",
              "    <tr>\n",
              "      <th>2847</th>\n",
              "      <td>SPA311016#0</td>\n",
              "      <td>Spain</td>\n",
              "      <td>20/05/18</td>\n",
              "      <td>Valencia</td>\n",
              "      <td>La Coruna</td>\n",
              "      <td>1.201375</td>\n",
              "      <td>-0.928510</td>\n",
              "      <td>-1.054098</td>\n",
              "      <td>1.313126</td>\n",
              "      <td>-1.156537</td>\n",
              "      <td>-1.135712</td>\n",
              "      <td>1.085679</td>\n",
              "      <td>-0.822440</td>\n",
              "      <td>-1.051410</td>\n",
              "      <td>1.314840</td>\n",
              "      <td>-1.329820</td>\n",
              "      <td>-1.045578</td>\n",
              "      <td>1.355266</td>\n",
              "      <td>-1.199009</td>\n",
              "      <td>-1.075160</td>\n",
              "      <td>1.356424</td>\n",
              "      <td>-0.955307</td>\n",
              "      <td>-1.194766</td>\n",
              "      <td>1.233232</td>\n",
              "      <td>-1.263143</td>\n",
              "      <td>-1.022908</td>\n",
              "      <td>-1.660017</td>\n",
              "      <td>-1.685627</td>\n",
              "      <td>1.667095</td>\n",
              "      <td>1.907669</td>\n",
              "      <td>1.463999</td>\n",
              "      <td>11.8</td>\n",
              "      <td>4.2</td>\n",
              "      <td>14</td>\n",
              "      <td>4.6</td>\n",
              "      <td>2.2</td>\n",
              "      <td>0.2</td>\n",
              "      <td>11.8</td>\n",
              "      <td>4.2</td>\n",
              "      <td>14</td>\n",
              "      <td>4.6</td>\n",
              "      <td>2.2</td>\n",
              "      <td>0.2</td>\n",
              "    </tr>\n",
              "  </tbody>\n",
              "</table>\n",
              "<p>2848 rows × 43 columns</p>\n",
              "</div>"
            ],
            "text/plain": [
              "                 ID   League      Date    HomeTeam  ...    AF   AC   AY   AR\n",
              "0       ENG010117#0  Germany  09/09/16  Schalke 04  ...    15    5    2    0\n",
              "1       ENG010117#1  Germany  10/09/16   Darmstadt  ...    15    5    3    0\n",
              "2     ENG01012018#0  Germany  10/09/16    Freiburg  ...    10    2    3    0\n",
              "3     ENG01012018#1  Germany  10/09/16  Ingolstadt  ...    15    5    2    0\n",
              "4     ENG01012018#2  Germany  10/09/16  Leverkusen  ...    16    3    3    0\n",
              "...             ...      ...       ...         ...  ...   ...  ...  ...  ...\n",
              "2843    SPA310318#0    Spain  19/05/18  Villarreal  ...  13.2  5.2  2.2    0\n",
              "2844    SPA310318#1    Spain  20/05/18  Ath Bilbao  ...  14.8  4.6  3.6    0\n",
              "2845    SPA310318#2    Spain  20/05/18  Ath Madrid  ...  13.6  5.2  2.2  0.2\n",
              "2846    SPA310318#3    Spain  20/05/18   Barcelona  ...   8.4  5.8    2  0.4\n",
              "2847    SPA311016#0    Spain  20/05/18    Valencia  ...    14  4.6  2.2  0.2\n",
              "\n",
              "[2848 rows x 43 columns]"
            ]
          },
          "metadata": {
            "tags": []
          },
          "execution_count": 26
        }
      ]
    },
    {
      "cell_type": "code",
      "metadata": {
        "id": "6tfgoKxgsr3P",
        "colab_type": "code",
        "outputId": "a01c0996-c296-41d6-b345-df304689af95",
        "colab": {
          "base_uri": "https://localhost:8080/",
          "height": 1000
        }
      },
      "source": [
        "df = pd.concat((df_train, df_test))\n",
        "df.hist(grid=True, figsize=(20, 20))"
      ],
      "execution_count": 0,
      "outputs": [
        {
          "output_type": "execute_result",
          "data": {
            "text/plain": [
              "array([[<matplotlib.axes._subplots.AxesSubplot object at 0x7f104c570710>,\n",
              "        <matplotlib.axes._subplots.AxesSubplot object at 0x7f104c5daba8>,\n",
              "        <matplotlib.axes._subplots.AxesSubplot object at 0x7f104c658198>,\n",
              "        <matplotlib.axes._subplots.AxesSubplot object at 0x7f104d0e9748>,\n",
              "        <matplotlib.axes._subplots.AxesSubplot object at 0x7f104cbb5cf8>],\n",
              "       [<matplotlib.axes._subplots.AxesSubplot object at 0x7f104cdb62e8>,\n",
              "        <matplotlib.axes._subplots.AxesSubplot object at 0x7f104c7c9898>,\n",
              "        <matplotlib.axes._subplots.AxesSubplot object at 0x7f104c795e80>,\n",
              "        <matplotlib.axes._subplots.AxesSubplot object at 0x7f104c795eb8>,\n",
              "        <matplotlib.axes._subplots.AxesSubplot object at 0x7f104c7649e8>],\n",
              "       [<matplotlib.axes._subplots.AxesSubplot object at 0x7f104cb73f98>,\n",
              "        <matplotlib.axes._subplots.AxesSubplot object at 0x7f104ce3b588>,\n",
              "        <matplotlib.axes._subplots.AxesSubplot object at 0x7f104ce86b38>,\n",
              "        <matplotlib.axes._subplots.AxesSubplot object at 0x7f104bf06128>,\n",
              "        <matplotlib.axes._subplots.AxesSubplot object at 0x7f104bed76d8>],\n",
              "       [<matplotlib.axes._subplots.AxesSubplot object at 0x7f104d23fc88>,\n",
              "        <matplotlib.axes._subplots.AxesSubplot object at 0x7f104d1ff278>,\n",
              "        <matplotlib.axes._subplots.AxesSubplot object at 0x7f104d1ae828>,\n",
              "        <matplotlib.axes._subplots.AxesSubplot object at 0x7f104d160dd8>,\n",
              "        <matplotlib.axes._subplots.AxesSubplot object at 0x7f104d09c3c8>],\n",
              "       [<matplotlib.axes._subplots.AxesSubplot object at 0x7f104d0cc978>,\n",
              "        <matplotlib.axes._subplots.AxesSubplot object at 0x7f104d07df28>,\n",
              "        <matplotlib.axes._subplots.AxesSubplot object at 0x7f104d03b518>,\n",
              "        <matplotlib.axes._subplots.AxesSubplot object at 0x7f104cf6bac8>,\n",
              "        <matplotlib.axes._subplots.AxesSubplot object at 0x7f104cf280b8>],\n",
              "       [<matplotlib.axes._subplots.AxesSubplot object at 0x7f104ced8668>,\n",
              "        <matplotlib.axes._subplots.AxesSubplot object at 0x7f104cf0ac18>,\n",
              "        <matplotlib.axes._subplots.AxesSubplot object at 0x7f104cec7208>,\n",
              "        <matplotlib.axes._subplots.AxesSubplot object at 0x7f104cdf67b8>,\n",
              "        <matplotlib.axes._subplots.AxesSubplot object at 0x7f104cd68d68>]],\n",
              "      dtype=object)"
            ]
          },
          "metadata": {
            "tags": []
          },
          "execution_count": 22
        },
        {
          "output_type": "display_data",
          "data": {
            "image/png": "[encoded data removed]",
            "text/plain": [
              "<Figure size 1440x1440 with 30 Axes>"
            ]
          },
          "metadata": {
            "tags": []
          }
        }
      ]
    },
    {
      "cell_type": "markdown",
      "metadata": {
        "id": "yE-ahn7MtLfJ",
        "colab_type": "text"
      },
      "source": [
        "Acima vemos a distribuição das variáveis após a normalização"
      ]
    },
    {
      "cell_type": "markdown",
      "metadata": {
        "id": "cDlZPh80s92i",
        "colab_type": "text"
      },
      "source": [
        "### Valores ausentes"
      ]
    },
    {
      "cell_type": "markdown",
      "metadata": {
        "id": "55oBMAvFuTm3",
        "colab_type": "text"
      },
      "source": [
        "Vamos analisar quantos valores nulos existem por cada coluna do dataframe"
      ]
    },
    {
      "cell_type": "code",
      "metadata": {
        "id": "fAGJN7_DttPB",
        "colab_type": "code",
        "outputId": "e5a2aeff-602e-4577-9424-d8d3cb5d59ab",
        "colab": {
          "base_uri": "https://localhost:8080/",
          "height": 809
        }
      },
      "source": [
        "df.isnull().sum()"
      ],
      "execution_count": 0,
      "outputs": [
        {
          "output_type": "execute_result",
          "data": {
            "text/plain": [
              "ID          0\n",
              "League      0\n",
              "Date        0\n",
              "HomeTeam    0\n",
              "AwayTeam    0\n",
              "B365H       0\n",
              "B365D       0\n",
              "B365A       0\n",
              "BWH         0\n",
              "BWD         0\n",
              "BWA         0\n",
              "IWH         0\n",
              "IWD         0\n",
              "IWA         0\n",
              "LBH         0\n",
              "LBD         0\n",
              "LBA         0\n",
              "PSH         0\n",
              "PSD         0\n",
              "PSA         0\n",
              "WHH         0\n",
              "WHD         0\n",
              "WHA         0\n",
              "VCH         0\n",
              "VCD         0\n",
              "VCA         0\n",
              "BbMx>2.5    0\n",
              "BbAv>2.5    0\n",
              "BbMx<2.5    0\n",
              "BbAv<2.5    0\n",
              "Year        0\n",
              "HS          0\n",
              "HST         0\n",
              "HF          0\n",
              "HC          0\n",
              "HY          0\n",
              "HR          0\n",
              "AS          0\n",
              "AST         0\n",
              "AF          0\n",
              "AC          0\n",
              "AY          0\n",
              "AR          0\n",
              "dtype: int64"
            ]
          },
          "metadata": {
            "tags": []
          },
          "execution_count": 28
        }
      ]
    },
    {
      "cell_type": "markdown",
      "metadata": {
        "id": "4Xlkp1PpuaDe",
        "colab_type": "text"
      },
      "source": [
        "Não há nenhum valor nulo, então não há necessidade de removê-los"
      ]
    },
    {
      "cell_type": "markdown",
      "metadata": {
        "id": "FKtIM_dotrff",
        "colab_type": "text"
      },
      "source": [
        "### Garantindo que haja apenas variáveis numéricas"
      ]
    },
    {
      "cell_type": "markdown",
      "metadata": {
        "id": "3rsL7bSRwlK1",
        "colab_type": "text"
      },
      "source": [
        "Iremos remover as colunas ID e Date, pois elas parecem ser desnecessárias"
      ]
    },
    {
      "cell_type": "code",
      "metadata": {
        "id": "NyIh18j-xQOb",
        "colab_type": "code",
        "colab": {}
      },
      "source": [
        "df_train.drop(columns=['ID', 'Date'], axis=1, inplace=True)\n",
        "df_test.drop(columns=['ID', 'Date'], axis=1, inplace=True)"
      ],
      "execution_count": 0,
      "outputs": []
    },
    {
      "cell_type": "markdown",
      "metadata": {
        "id": "KuvmGyz-z7LQ",
        "colab_type": "text"
      },
      "source": [
        "Agora transformaremos as variáveis categóricas em numéricas"
      ]
    },
    {
      "cell_type": "code",
      "metadata": {
        "id": "eGs3F6Tp0I0F",
        "colab_type": "code",
        "colab": {}
      },
      "source": [
        "df_train['train'] = 1\n",
        "df_test['train'] = 0\n",
        "\n",
        "df = pd.concat((df_train, df_test))"
      ],
      "execution_count": 0,
      "outputs": []
    },
    {
      "cell_type": "code",
      "metadata": {
        "id": "CM8qCE8D0olI",
        "colab_type": "code",
        "colab": {}
      },
      "source": [
        "df = pd.get_dummies(df)"
      ],
      "execution_count": 0,
      "outputs": []
    },
    {
      "cell_type": "code",
      "metadata": {
        "id": "doz_3Z4x1JM6",
        "colab_type": "code",
        "colab": {}
      },
      "source": [
        "df_train = df.loc[df['train'] == 1]\n",
        "df_test = df.loc[df['train'] == 0]"
      ],
      "execution_count": 0,
      "outputs": []
    },
    {
      "cell_type": "code",
      "metadata": {
        "id": "1dNNWLQw5ihp",
        "colab_type": "code",
        "outputId": "e7ba80a5-cfe3-462b-a28f-ea555e426a9d",
        "colab": {
          "base_uri": "https://localhost:8080/",
          "height": 107
        }
      },
      "source": [
        "df_train.drop('train', axis=1, inplace=True)\n",
        "df_test.drop('train', axis=1, inplace=True)"
      ],
      "execution_count": 0,
      "outputs": [
        {
          "output_type": "stream",
          "text": [
            "/usr/local/lib/python3.6/dist-packages/pandas/core/frame.py:4117: SettingWithCopyWarning: \n",
            "A value is trying to be set on a copy of a slice from a DataFrame\n",
            "\n",
            "See the caveats in the documentation: http://pandas.pydata.org/pandas-docs/stable/user_guide/indexing.html#returning-a-view-versus-a-copy\n",
            "  errors=errors,\n"
          ],
          "name": "stderr"
        }
      ]
    },
    {
      "cell_type": "markdown",
      "metadata": {
        "id": "sIbLtyt1pHAp",
        "colab_type": "text"
      },
      "source": [
        "### Possíveis desbalanceamentos entre as classes"
      ]
    },
    {
      "cell_type": "code",
      "metadata": {
        "id": "HCAmY8mvpU0Q",
        "colab_type": "code",
        "outputId": "d15f8ca9-470a-4093-bb8d-dd82fd941c6a",
        "colab": {
          "base_uri": "https://localhost:8080/",
          "height": 297
        }
      },
      "source": [
        "sns.countplot(result)"
      ],
      "execution_count": 0,
      "outputs": [
        {
          "output_type": "execute_result",
          "data": {
            "text/plain": [
              "<matplotlib.axes._subplots.AxesSubplot at 0x7f104d8ac978>"
            ]
          },
          "metadata": {
            "tags": []
          },
          "execution_count": 28
        },
        {
          "output_type": "display_data",
          "data": {
            "image/png": "[encoded data removed]",
            "text/plain": [
              "<Figure size 432x288 with 1 Axes>"
            ]
          },
          "metadata": {
            "tags": []
          }
        }
      ]
    },
    {
      "cell_type": "markdown",
      "metadata": {
        "id": "bnj4xRo4phSv",
        "colab_type": "text"
      },
      "source": [
        "A classe 2 está um pouco desbalanceada em relação às outras, o que pode enviesar a aprendizagem do modelo.\n",
        "\n",
        "Como há um número razoável de dados da classe 2 acima das outras 2 classes, cerca de 1000 de diferença para cada uma delas, faremos um over_sampling."
      ]
    },
    {
      "cell_type": "code",
      "metadata": {
        "id": "QIxRd0FEqQCr",
        "colab_type": "code",
        "outputId": "46f48e30-8c0c-41da-f79f-130834ef93d5",
        "colab": {
          "base_uri": "https://localhost:8080/",
          "height": 73
        }
      },
      "source": [
        "from imblearn.over_sampling import RandomOverSampler\n",
        "\n",
        "ros = RandomOverSampler(random_state=0)\n",
        "df_balanced, result_balanced = ros.fit_sample(df_train, result)"
      ],
      "execution_count": 0,
      "outputs": [
        {
          "output_type": "stream",
          "text": [
            "/usr/local/lib/python3.6/dist-packages/sklearn/externals/six.py:31: DeprecationWarning: The module is deprecated in version 0.21 and will be removed in version 0.23 since we've dropped support for Python 2.7. Please rely on the official version of six (https://pypi.org/project/six/).\n",
            "  \"(https://pypi.org/project/six/).\", DeprecationWarning)\n"
          ],
          "name": "stderr"
        }
      ]
    },
    {
      "cell_type": "code",
      "metadata": {
        "id": "vqW2KYVmtmg3",
        "colab_type": "code",
        "outputId": "32a73fce-ee2c-4520-9584-2e461972acc4",
        "colab": {
          "base_uri": "https://localhost:8080/",
          "height": 283
        }
      },
      "source": [
        "sns.countplot(result_balanced)"
      ],
      "execution_count": 0,
      "outputs": [
        {
          "output_type": "execute_result",
          "data": {
            "text/plain": [
              "<matplotlib.axes._subplots.AxesSubplot at 0x7f1045d18e80>"
            ]
          },
          "metadata": {
            "tags": []
          },
          "execution_count": 30
        },
        {
          "output_type": "display_data",
          "data": {
            "image/png": "[encoded data removed]",
            "text/plain": [
              "<Figure size 432x288 with 1 Axes>"
            ]
          },
          "metadata": {
            "tags": []
          }
        }
      ]
    },
    {
      "cell_type": "code",
      "metadata": {
        "id": "q4kgvUWbttnY",
        "colab_type": "code",
        "outputId": "a527c79f-2d10-4041-da42-b5f20548b6bf",
        "colab": {
          "base_uri": "https://localhost:8080/",
          "height": 251
        }
      },
      "source": [
        "df_balanced"
      ],
      "execution_count": 0,
      "outputs": [
        {
          "output_type": "execute_result",
          "data": {
            "text/plain": [
              "array([[ 0.40304169,  0.44939846, -0.50841774, ...,  0.        ,\n",
              "         0.        ,  0.        ],\n",
              "       [-0.65681504,  0.76673485,  0.58294288, ...,  0.        ,\n",
              "         0.        ,  0.        ],\n",
              "       [ 0.06228953,  0.60339995, -0.15205508, ...,  0.        ,\n",
              "         0.        ,  0.        ],\n",
              "       ...,\n",
              "       [-1.38522566, -0.20510785,  1.60521823, ...,  0.        ,\n",
              "         0.        ,  0.        ],\n",
              "       [-0.59487536,  0.76673485,  0.48939769, ...,  0.        ,\n",
              "         0.        ,  0.        ],\n",
              "       [-0.29550024,  0.44939846,  0.28529908, ...,  0.        ,\n",
              "         1.        ,  0.        ]])"
            ]
          },
          "metadata": {
            "tags": []
          },
          "execution_count": 36
        }
      ]
    },
    {
      "cell_type": "markdown",
      "metadata": {
        "id": "RIg09X0xugdI",
        "colab_type": "text"
      },
      "source": [
        "# Parte 2"
      ]
    },
    {
      "cell_type": "markdown",
      "metadata": {
        "id": "wQTzk18BzpKn",
        "colab_type": "text"
      },
      "source": [
        "### Modelo de classificação utilizando regressão logística"
      ]
    },
    {
      "cell_type": "code",
      "metadata": {
        "id": "SAu3H3H-Genr",
        "colab_type": "code",
        "colab": {}
      },
      "source": [
        "from sklearn.model_selection import cross_val_score\n",
        "from sklearn.metrics import f1_score, make_scorer\n",
        "from sklearn.model_selection import StratifiedKFold"
      ],
      "execution_count": 0,
      "outputs": []
    },
    {
      "cell_type": "code",
      "metadata": {
        "id": "7rCOdJuPzxcR",
        "colab_type": "code",
        "colab": {}
      },
      "source": [
        "def f1_cv(model, x, y):\n",
        "    f1= f1 = cross_val_score(model, x, y, scoring=make_scorer(f1_score, average='macro'), \n",
        "                             cv=StratifiedKFold(n_splits=5, shuffle=True, random_state=3058))\n",
        "    return(f1)"
      ],
      "execution_count": 0,
      "outputs": []
    },
    {
      "cell_type": "code",
      "metadata": {
        "id": "jeuEorPZFzZ8",
        "colab_type": "code",
        "colab": {}
      },
      "source": [
        "from sklearn.linear_model import LogisticRegression"
      ],
      "execution_count": 0,
      "outputs": []
    },
    {
      "cell_type": "code",
      "metadata": {
        "id": "BIaxkhOaFN1m",
        "colab_type": "code",
        "outputId": "daed51d4-e08c-41b3-b137-1d1dc92984ba",
        "colab": {
          "base_uri": "https://localhost:8080/",
          "height": 368
        }
      },
      "source": [
        "alphas = [1e-03,1e-02,1e-01,1,2,3,4,5,6,7,8,9,10]\n",
        "cv_logistic = [f1_cv(LogisticRegression(solver=\"lbfgs\", max_iter=10000, C=alpha, multi_class=\"multinomial\"),\n",
        "                df_balanced, result_balanced).mean() for alpha in alphas]\n",
        "cv_logistic = pd.Series(cv_logistic, index=alphas)\n",
        "\n",
        "plt.figure(figsize=(10, 5))\n",
        "cv_logistic.plot(title=\"Logistic Regression Cross Validation\")\n",
        "plt.xlabel(\"alpha\")\n",
        "plt.ylabel(\"f1 score\")\n",
        "print(\"O melhor alpha é {0}, com F1 = {1}\".format(cv_logistic.idxmax(), cv_logistic.max()))"
      ],
      "execution_count": 0,
      "outputs": [
        {
          "output_type": "stream",
          "text": [
            "O melhor alpha é 6.0, com F1 = 0.4905845258275442\n"
          ],
          "name": "stdout"
        },
        {
          "output_type": "display_data",
          "data": {
            "image/png": "[encoded data removed]",
            "text/plain": [
              "<Figure size 720x360 with 1 Axes>"
            ]
          },
          "metadata": {
            "tags": []
          }
        }
      ]
    },
    {
      "cell_type": "markdown",
      "metadata": {
        "id": "yKtbV1QvlFJf",
        "colab_type": "text"
      },
      "source": [
        "### Modelo de classificação com árvores de decisão"
      ]
    },
    {
      "cell_type": "code",
      "metadata": {
        "id": "9Hqt6cpLlJWj",
        "colab_type": "code",
        "colab": {}
      },
      "source": [
        "from sklearn.tree import DecisionTreeClassifier"
      ],
      "execution_count": 0,
      "outputs": []
    },
    {
      "cell_type": "code",
      "metadata": {
        "id": "WAGeiXvGlY-w",
        "colab_type": "code",
        "outputId": "16d04184-7955-4b95-fd24-96b776baf45b",
        "colab": {
          "base_uri": "https://localhost:8080/",
          "height": 368
        }
      },
      "source": [
        "depths = np.arange(1, 50, 1).tolist()\n",
        "cv_arvore = [f1_cv(DecisionTreeClassifier(max_depth=depth), df_balanced, result_balanced).mean() for depth in depths]\n",
        "cv_arvore = pd.Series(cv_arvore, index=depths)\n",
        "\n",
        "plt.figure(figsize=(10, 5))\n",
        "cv_arvore.plot(title = \"Cross validation - Decision Tree\")\n",
        "plt.xlabel(\"Depth\")\n",
        "plt.ylabel(\"F1-score\")\n",
        "print(\"A profundidade máxima ideal é {0}, com F1 = {1}\".format(cv_arvore.idxmax(), cv_arvore.max()))"
      ],
      "execution_count": 0,
      "outputs": [
        {
          "output_type": "stream",
          "text": [
            "A profundidade máxima ideal é 49, com F1 = 0.6656289275031171\n"
          ],
          "name": "stdout"
        },
        {
          "output_type": "display_data",
          "data": {
            "image/png": "[encoded data removed]",
            "text/plain": [
              "<Figure size 720x360 with 1 Axes>"
            ]
          },
          "metadata": {
            "tags": []
          }
        }
      ]
    },
    {
      "cell_type": "markdown",
      "metadata": {
        "id": "B0Pw1dsznxKO",
        "colab_type": "text"
      },
      "source": [
        "### Modelo de classificação usando KNN"
      ]
    },
    {
      "cell_type": "code",
      "metadata": {
        "id": "geV2gCTAn0K0",
        "colab_type": "code",
        "colab": {}
      },
      "source": [
        "import warnings\n",
        "warnings.filterwarnings('ignore')\n",
        "from sklearn.neighbors import KNeighborsClassifier"
      ],
      "execution_count": 0,
      "outputs": []
    },
    {
      "cell_type": "code",
      "metadata": {
        "id": "x0pswVULn2Q6",
        "colab_type": "code",
        "outputId": "5663e255-1511-4889-da15-b6eed83b92ce",
        "colab": {
          "base_uri": "https://localhost:8080/",
          "height": 368
        }
      },
      "source": [
        "neighbors = np.arange(1,50,1).tolist()\n",
        "cv_knn = [f1_cv(KNeighborsClassifier(n_neighbors=neighbor), df_balanced, result_balanced).mean() for neighbor in neighbors]\n",
        "cv_knn = pd.Series(cv_knn, index=neighbors)\n",
        "\n",
        "plt.figure(figsize=(10, 5))\n",
        "cv_knn.plot(title = \"Cross validation - KNN\")\n",
        "plt.xlabel(\"Neighbor\")\n",
        "plt.ylabel(\"F1-score\")\n",
        "print(\"A melhor quantidade de vizinhos é {0}, com F1 = {1}\".format(cv_knn.idxmax(), cv_knn.max()))"
      ],
      "execution_count": 0,
      "outputs": [
        {
          "output_type": "stream",
          "text": [
            "A melhor quantidade de vizinhos é 1, com F1 = 0.6567473095527065\n"
          ],
          "name": "stdout"
        },
        {
          "output_type": "display_data",
          "data": {
            "image/png": "[encoded data removed]",
            "text/plain": [
              "<Figure size 720x360 with 1 Axes>"
            ]
          },
          "metadata": {
            "tags": []
          }
        }
      ]
    },
    {
      "cell_type": "markdown",
      "metadata": {
        "id": "OWhjnvT5r4x_",
        "colab_type": "text"
      },
      "source": [
        "### Modelo de classificação usando AdaBoost"
      ]
    },
    {
      "cell_type": "code",
      "metadata": {
        "id": "CEAzAgetr992",
        "colab_type": "code",
        "colab": {}
      },
      "source": [
        "from sklearn.ensemble import AdaBoostClassifier"
      ],
      "execution_count": 0,
      "outputs": []
    },
    {
      "cell_type": "code",
      "metadata": {
        "id": "JEATf5vMsKcH",
        "colab_type": "code",
        "outputId": "85c26543-5469-481d-812d-63a2d4482f75",
        "colab": {
          "base_uri": "https://localhost:8080/",
          "height": 368
        }
      },
      "source": [
        "estimators = np.arange(35,45,1).tolist()\n",
        "cv_adaboost = [f1_cv(AdaBoostClassifier(DecisionTreeClassifier(max_depth=cv_arvore.idxmax()),\n",
        "                                        algorithm=\"SAMME\", n_estimators=estimator),\n",
        "                     df_balanced, result_balanced).mean() for estimator in estimators]\n",
        "cv_adaboost = pd.Series(cv_adaboost, index=estimators)\n",
        "\n",
        "plt.figure(figsize=(10, 5))\n",
        "cv_adaboost.plot(title = \"Cross validation - Adaboost\")\n",
        "plt.xlabel(\"Estimator\")\n",
        "plt.ylabel(\"F1-score\")\n",
        "print(\"A melhor quantidade de árvores ideal é {0}, com F1 = {1}\".format(cv_adaboost.idxmax(), cv_adaboost.max()))"
      ],
      "execution_count": 0,
      "outputs": [
        {
          "output_type": "stream",
          "text": [
            "A melhor quantidade de árvores ideal é 39, com F1 = 0.6922978984902007\n"
          ],
          "name": "stdout"
        },
        {
          "output_type": "display_data",
          "data": {
            "image/png": "[encoded data removed]",
            "text/plain": [
              "<Figure size 720x360 with 1 Axes>"
            ]
          },
          "metadata": {
            "tags": []
          }
        }
      ]
    },
    {
      "cell_type": "markdown",
      "metadata": {
        "id": "pgLn1TZ2vq2h",
        "colab_type": "text"
      },
      "source": [
        "# Parte 3"
      ]
    },
    {
      "cell_type": "markdown",
      "metadata": {
        "id": "FNEFZYDBvtAv",
        "colab_type": "text"
      },
      "source": [
        "### Função para calcular as métricas de treino e validação"
      ]
    },
    {
      "cell_type": "code",
      "metadata": {
        "id": "_vGbmyF9wFkN",
        "colab_type": "code",
        "colab": {}
      },
      "source": [
        "from sklearn.model_selection import KFold\n",
        "from sklearn import metrics"
      ],
      "execution_count": 0,
      "outputs": []
    },
    {
      "cell_type": "code",
      "metadata": {
        "id": "EGP8ZQifv-8g",
        "colab_type": "code",
        "colab": {}
      },
      "source": [
        "def report_train_validation(model,x,y):\n",
        "    kf = KFold(n_splits=5, random_state=None, shuffle=True)\n",
        "    for train_index, validation_index in kf.split(df_balanced):\n",
        "        model.fit(x[train_index,:], y[train_index])\n",
        "        #report train\n",
        "        predicts_train = model.predict(x[train_index,:])\n",
        "        report_train = metrics.classification_report(y[train_index], predicts_train, output_dict=True)[\"macro avg\"]\n",
        "        #report validation\n",
        "        predicts_validation = model.predict(x[validation_index,:])\n",
        "        report_validation = metrics.classification_report(y[validation_index], predicts_validation, \n",
        "                                                         output_dict=True)[\"macro avg\"]\n",
        "        #print metrics\n",
        "        print(\"Precision = train:{0} - validation:{1}\".format(report_train[\"precision\"], report_validation[\"precision\"]))\n",
        "        print(\"Recall = train:{0} - validation:{1}\".format(report_train[\"recall\"], report_validation[\"recall\"]))\n",
        "        print(\"AUC-Precision&Recall = train:{0} - validation:{1}\".format(report_train[\"f1-score\"], report_validation[\"f1-score\"]))\n",
        "        return"
      ],
      "execution_count": 0,
      "outputs": []
    },
    {
      "cell_type": "markdown",
      "metadata": {
        "id": "l6Wm3c4QwTma",
        "colab_type": "text"
      },
      "source": [
        "### Regressão Logística"
      ]
    },
    {
      "cell_type": "code",
      "metadata": {
        "id": "yJGnEIKgwabO",
        "colab_type": "code",
        "outputId": "3548554d-0334-4251-dd74-73b9e72ec903",
        "colab": {
          "base_uri": "https://localhost:8080/",
          "height": 71
        }
      },
      "source": [
        "logistica = LogisticRegression(solver=\"lbfgs\", max_iter=10000, C=cv_logistic.idxmax(), multi_class=\"multinomial\")\n",
        "report_train_validation(logistica, df_balanced, result_balanced)"
      ],
      "execution_count": 0,
      "outputs": [
        {
          "output_type": "stream",
          "text": [
            "Precision = train:0.6154233945986837 - validation:0.49214443731580837\n",
            "Recall = train:0.6148454122679047 - validation:0.4887471254352738\n",
            "AUC-Precision&Recall = train:0.61480194381521 - validation:0.4892885651344307\n"
          ],
          "name": "stdout"
        }
      ]
    },
    {
      "cell_type": "markdown",
      "metadata": {
        "id": "jpvZHcwFxaU6",
        "colab_type": "text"
      },
      "source": [
        "### Árvore de Decisão"
      ]
    },
    {
      "cell_type": "code",
      "metadata": {
        "id": "zOjrUXJXxc-P",
        "colab_type": "code",
        "outputId": "290bf922-65d8-4355-f3a4-55136f84b578",
        "colab": {
          "base_uri": "https://localhost:8080/",
          "height": 71
        }
      },
      "source": [
        "arvore = DecisionTreeClassifier(max_depth=cv_arvore.idxmax())\n",
        "report_train_validation(arvore, df_balanced, result_balanced)"
      ],
      "execution_count": 0,
      "outputs": [
        {
          "output_type": "stream",
          "text": [
            "Precision = train:0.998712377273459 - validation:0.6639984011669632\n",
            "Recall = train:0.9987330365900388 - validation:0.6663426954704372\n",
            "AUC-Precision&Recall = train:0.9987208584591151 - validation:0.6591241690294952\n"
          ],
          "name": "stdout"
        }
      ]
    },
    {
      "cell_type": "markdown",
      "metadata": {
        "id": "nhv1J0qdx6HD",
        "colab_type": "text"
      },
      "source": [
        "### KNN"
      ]
    },
    {
      "cell_type": "code",
      "metadata": {
        "id": "kV0oNvOox7ci",
        "colab_type": "code",
        "outputId": "fc3d1385-d631-430c-86cd-5877819bf6ea",
        "colab": {
          "base_uri": "https://localhost:8080/",
          "height": 71
        }
      },
      "source": [
        "knn = KNeighborsClassifier(n_neighbors=cv_knn.idxmax())\n",
        "report_train_validation(knn, df_balanced, result_balanced)"
      ],
      "execution_count": 0,
      "outputs": [
        {
          "output_type": "stream",
          "text": [
            "Precision = train:1.0 - validation:0.675491434450978\n",
            "Recall = train:1.0 - validation:0.6772868721302663\n",
            "AUC-Precision&Recall = train:1.0 - validation:0.6701418775396147\n"
          ],
          "name": "stdout"
        }
      ]
    },
    {
      "cell_type": "markdown",
      "metadata": {
        "id": "7yuhoTSayRgP",
        "colab_type": "text"
      },
      "source": [
        "### AdaBoost"
      ]
    },
    {
      "cell_type": "code",
      "metadata": {
        "id": "ED5_MSBzyUSo",
        "colab_type": "code",
        "outputId": "c3f61e6b-caea-4589-9e2b-6d86626c17ac",
        "colab": {
          "base_uri": "https://localhost:8080/",
          "height": 71
        }
      },
      "source": [
        "adaboost = AdaBoostClassifier(DecisionTreeClassifier(max_depth=cv_arvore.idxmax()),\n",
        "                              algorithm=\"SAMME\", n_estimators=cv_adaboost.idxmax())\n",
        "report_train_validation(adaboost, df_balanced, result_balanced)"
      ],
      "execution_count": 0,
      "outputs": [
        {
          "output_type": "stream",
          "text": [
            "Precision = train:0.9710791476227171 - validation:0.6733208082854091\n",
            "Recall = train:0.9706283866493943 - validation:0.6750287615491669\n",
            "AUC-Precision&Recall = train:0.9707094865562177 - validation:0.6697794040708467\n"
          ],
          "name": "stdout"
        }
      ]
    },
    {
      "cell_type": "markdown",
      "metadata": {
        "id": "_fTn1E-6y2fU",
        "colab_type": "text"
      },
      "source": [
        "Como vemos, o desempenho no treino é bem melhor do que na validação, pois na validação há menos enviesamento dos dados, já que o modelo pode se ajustar aos dados de treino, e na validação não."
      ]
    },
    {
      "cell_type": "markdown",
      "metadata": {
        "id": "-0MeiN0QzR5I",
        "colab_type": "text"
      },
      "source": [
        "# Parte 4"
      ]
    },
    {
      "cell_type": "code",
      "metadata": {
        "id": "hCcXvc-1tZEi",
        "colab_type": "code",
        "colab": {}
      },
      "source": [
        "data = pd.read_csv('https://raw.githubusercontent.com/ceciliakemiac/DataScienceMaybeFiles/master/data/lab3_sample_submission.csv')"
      ],
      "execution_count": 0,
      "outputs": []
    },
    {
      "cell_type": "code",
      "metadata": {
        "id": "CE3LXhw92iFb",
        "colab_type": "code",
        "colab": {}
      },
      "source": [
        "data.drop('Result', axis=1, inplace=True)"
      ],
      "execution_count": 0,
      "outputs": []
    },
    {
      "cell_type": "markdown",
      "metadata": {
        "id": "M3eBK_i0rPZC",
        "colab_type": "text"
      },
      "source": [
        "### Predição com Árvore de Decisão"
      ]
    },
    {
      "cell_type": "code",
      "metadata": {
        "id": "c_ZnRTSh0B0F",
        "colab_type": "code",
        "outputId": "f416658b-f23d-4b7f-c350-28cd87b313c7",
        "colab": {
          "base_uri": "https://localhost:8080/",
          "height": 125
        }
      },
      "source": [
        "model_arvore = DecisionTreeClassifier(max_depth=cv_arvore.idxmax())\n",
        "model_arvore.fit(df_balanced, result_balanced)"
      ],
      "execution_count": 0,
      "outputs": [
        {
          "output_type": "execute_result",
          "data": {
            "text/plain": [
              "DecisionTreeClassifier(class_weight=None, criterion='gini', max_depth=49,\n",
              "                       max_features=None, max_leaf_nodes=None,\n",
              "                       min_impurity_decrease=0.0, min_impurity_split=None,\n",
              "                       min_samples_leaf=1, min_samples_split=2,\n",
              "                       min_weight_fraction_leaf=0.0, presort=False,\n",
              "                       random_state=None, splitter='best')"
            ]
          },
          "metadata": {
            "tags": []
          },
          "execution_count": 54
        }
      ]
    },
    {
      "cell_type": "code",
      "metadata": {
        "id": "dWKzjNTd0fBb",
        "colab_type": "code",
        "colab": {}
      },
      "source": [
        "arvore_predict = model_arvore.predict(df_test)"
      ],
      "execution_count": 0,
      "outputs": []
    },
    {
      "cell_type": "code",
      "metadata": {
        "id": "oAL76GPTtqbe",
        "colab_type": "code",
        "colab": {}
      },
      "source": [
        "data['Category'] = arvore_predict\n",
        "data.to_csv('arvore.csv', index=False)"
      ],
      "execution_count": 0,
      "outputs": []
    },
    {
      "cell_type": "markdown",
      "metadata": {
        "id": "8p9hY7GTuHw8",
        "colab_type": "text"
      },
      "source": [
        "### Predição do AdaBoost"
      ]
    },
    {
      "cell_type": "code",
      "metadata": {
        "id": "EvgEDwHJuKdB",
        "colab_type": "code",
        "outputId": "ec2ba540-c7f1-425f-c7ec-ced238b58d8f",
        "colab": {
          "base_uri": "https://localhost:8080/",
          "height": 287
        }
      },
      "source": [
        "model_adaboost = AdaBoostClassifier(DecisionTreeClassifier(max_depth=cv_arvore.idxmax()),\n",
        "                              algorithm=\"SAMME\", n_estimators=cv_adaboost.idxmax())\n",
        "model_adaboost.fit(df_balanced, result_balanced)"
      ],
      "execution_count": 0,
      "outputs": [
        {
          "output_type": "execute_result",
          "data": {
            "text/plain": [
              "AdaBoostClassifier(algorithm='SAMME',\n",
              "                   base_estimator=DecisionTreeClassifier(class_weight=None,\n",
              "                                                         criterion='gini',\n",
              "                                                         max_depth=49,\n",
              "                                                         max_features=None,\n",
              "                                                         max_leaf_nodes=None,\n",
              "                                                         min_impurity_decrease=0.0,\n",
              "                                                         min_impurity_split=None,\n",
              "                                                         min_samples_leaf=1,\n",
              "                                                         min_samples_split=2,\n",
              "                                                         min_weight_fraction_leaf=0.0,\n",
              "                                                         presort=False,\n",
              "                                                         random_state=None,\n",
              "                                                         splitter='best'),\n",
              "                   learning_rate=1.0, n_estimators=39, random_state=None)"
            ]
          },
          "metadata": {
            "tags": []
          },
          "execution_count": 58
        }
      ]
    },
    {
      "cell_type": "code",
      "metadata": {
        "id": "zI4WH_A1uvp9",
        "colab_type": "code",
        "colab": {}
      },
      "source": [
        "adaboost_predict = model_adaboost.predict(df_test)"
      ],
      "execution_count": 0,
      "outputs": []
    },
    {
      "cell_type": "code",
      "metadata": {
        "id": "Z7evOk4Pu_4P",
        "colab_type": "code",
        "colab": {}
      },
      "source": [
        "data.Category = adaboost_predict\n",
        "data.to_csv('adaboost.csv', index=False)"
      ],
      "execution_count": 0,
      "outputs": []
    },
    {
      "cell_type": "markdown",
      "metadata": {
        "id": "tDjgXhWOvYRy",
        "colab_type": "text"
      },
      "source": [
        "### Predição com RandomForest"
      ]
    },
    {
      "cell_type": "code",
      "metadata": {
        "id": "WrN_lVorvbYX",
        "colab_type": "code",
        "colab": {}
      },
      "source": [
        "from sklearn.ensemble import RandomForestClassifier"
      ],
      "execution_count": 0,
      "outputs": []
    },
    {
      "cell_type": "code",
      "metadata": {
        "id": "uBuibtoBvd8x",
        "colab_type": "code",
        "outputId": "04f79d97-1852-4b96-9e31-5543d5a8c002",
        "colab": {
          "base_uri": "https://localhost:8080/",
          "height": 143
        }
      },
      "source": [
        "model_randomforest = RandomForestClassifier(max_depth=10, random_state=0)\n",
        "model_randomforest.fit(df_balanced, result_balanced)"
      ],
      "execution_count": 0,
      "outputs": [
        {
          "output_type": "execute_result",
          "data": {
            "text/plain": [
              "RandomForestClassifier(bootstrap=True, class_weight=None, criterion='gini',\n",
              "                       max_depth=10, max_features='auto', max_leaf_nodes=None,\n",
              "                       min_impurity_decrease=0.0, min_impurity_split=None,\n",
              "                       min_samples_leaf=1, min_samples_split=2,\n",
              "                       min_weight_fraction_leaf=0.0, n_estimators=10,\n",
              "                       n_jobs=None, oob_score=False, random_state=0, verbose=0,\n",
              "                       warm_start=False)"
            ]
          },
          "metadata": {
            "tags": []
          },
          "execution_count": 64
        }
      ]
    },
    {
      "cell_type": "code",
      "metadata": {
        "id": "b6g7e14rvtIZ",
        "colab_type": "code",
        "colab": {}
      },
      "source": [
        "randomforest_predict = model_randomforest.predict(df_test)"
      ],
      "execution_count": 0,
      "outputs": []
    },
    {
      "cell_type": "code",
      "metadata": {
        "id": "WylcscNRvzR3",
        "colab_type": "code",
        "colab": {}
      },
      "source": [
        "data.Category = randomforest_predict\n",
        "data.to_csv('randomforest.csv', index=False)"
      ],
      "execution_count": 0,
      "outputs": []
    }
  ]
}